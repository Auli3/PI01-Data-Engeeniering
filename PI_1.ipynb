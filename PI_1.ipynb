{
 "cells": [
  {
   "cell_type": "markdown",
   "metadata": {},
   "source": [
    "## Datasets Preprocessing"
   ]
  },
  {
   "cell_type": "markdown",
   "metadata": {},
   "source": [
    "## Dataset \"precios_semana_20200413\""
   ]
  },
  {
   "cell_type": "code",
   "execution_count": 1,
   "metadata": {},
   "outputs": [],
   "source": [
    "import pandas as pd\n",
    "import numpy as np"
   ]
  },
  {
   "cell_type": "code",
   "execution_count": 35,
   "metadata": {},
   "outputs": [],
   "source": [
    "precios_semana_20200413 = pd.read_csv(r'C:\\Users\\Auli\\Documents\\Henry\\Daft-04\\Proyecto Individual 1\\PI01_DATA_ENGINEERING\\Datasets\\Datasets relevamiento precios\\precios_semana_20200413.csv', encoding='utf-16 LE')"
   ]
  },
  {
   "cell_type": "code",
   "execution_count": 9,
   "metadata": {},
   "outputs": [
    {
     "data": {
      "text/html": [
       "<div>\n",
       "<style scoped>\n",
       "    .dataframe tbody tr th:only-of-type {\n",
       "        vertical-align: middle;\n",
       "    }\n",
       "\n",
       "    .dataframe tbody tr th {\n",
       "        vertical-align: top;\n",
       "    }\n",
       "\n",
       "    .dataframe thead th {\n",
       "        text-align: right;\n",
       "    }\n",
       "</style>\n",
       "<table border=\"1\" class=\"dataframe\">\n",
       "  <thead>\n",
       "    <tr style=\"text-align: right;\">\n",
       "      <th></th>\n",
       "      <th>precio</th>\n",
       "      <th>producto_id</th>\n",
       "      <th>sucursal_id</th>\n",
       "    </tr>\n",
       "  </thead>\n",
       "  <tbody>\n",
       "    <tr>\n",
       "      <th>0</th>\n",
       "      <td>29.90</td>\n",
       "      <td>0000000001663</td>\n",
       "      <td>2-1-014</td>\n",
       "    </tr>\n",
       "    <tr>\n",
       "      <th>1</th>\n",
       "      <td>29.90</td>\n",
       "      <td>0000000002288</td>\n",
       "      <td>2-1-032</td>\n",
       "    </tr>\n",
       "    <tr>\n",
       "      <th>2</th>\n",
       "      <td>39.90</td>\n",
       "      <td>0000000002288</td>\n",
       "      <td>2-1-096</td>\n",
       "    </tr>\n",
       "    <tr>\n",
       "      <th>3</th>\n",
       "      <td>499.99</td>\n",
       "      <td>0000000205870</td>\n",
       "      <td>9-1-686</td>\n",
       "    </tr>\n",
       "    <tr>\n",
       "      <th>4</th>\n",
       "      <td>519.99</td>\n",
       "      <td>0000000205870</td>\n",
       "      <td>9-2-248</td>\n",
       "    </tr>\n",
       "  </tbody>\n",
       "</table>\n",
       "</div>"
      ],
      "text/plain": [
       "   precio    producto_id sucursal_id\n",
       "0   29.90  0000000001663     2-1-014\n",
       "1   29.90  0000000002288     2-1-032\n",
       "2   39.90  0000000002288     2-1-096\n",
       "3  499.99  0000000205870     9-1-686\n",
       "4  519.99  0000000205870     9-2-248"
      ]
     },
     "execution_count": 9,
     "metadata": {},
     "output_type": "execute_result"
    }
   ],
   "source": [
    "precios_semana_20200413.head(5)"
   ]
  },
  {
   "cell_type": "markdown",
   "metadata": {},
   "source": [
    "## Dataset \"precios_semana_20200503\""
   ]
  },
  {
   "cell_type": "code",
   "execution_count": 36,
   "metadata": {},
   "outputs": [],
   "source": [
    "precios_semana_20200503 = pd.read_json(r'C:\\Users\\Auli\\Documents\\Henry\\Daft-04\\Proyecto Individual 1\\PI01_DATA_ENGINEERING\\Datasets\\Datasets relevamiento precios\\precios_semana_20200503.json', encoding='utf-8')"
   ]
  },
  {
   "cell_type": "code",
   "execution_count": 12,
   "metadata": {},
   "outputs": [
    {
     "data": {
      "text/html": [
       "<div>\n",
       "<style scoped>\n",
       "    .dataframe tbody tr th:only-of-type {\n",
       "        vertical-align: middle;\n",
       "    }\n",
       "\n",
       "    .dataframe tbody tr th {\n",
       "        vertical-align: top;\n",
       "    }\n",
       "\n",
       "    .dataframe thead th {\n",
       "        text-align: right;\n",
       "    }\n",
       "</style>\n",
       "<table border=\"1\" class=\"dataframe\">\n",
       "  <thead>\n",
       "    <tr style=\"text-align: right;\">\n",
       "      <th></th>\n",
       "      <th>precio</th>\n",
       "      <th>producto_id</th>\n",
       "      <th>sucursal_id</th>\n",
       "    </tr>\n",
       "  </thead>\n",
       "  <tbody>\n",
       "    <tr>\n",
       "      <th>0</th>\n",
       "      <td>29.9</td>\n",
       "      <td>0000000002288</td>\n",
       "      <td>2-1-187</td>\n",
       "    </tr>\n",
       "    <tr>\n",
       "      <th>1</th>\n",
       "      <td>39.9</td>\n",
       "      <td>0000000002288</td>\n",
       "      <td>2-3-247</td>\n",
       "    </tr>\n",
       "    <tr>\n",
       "      <th>2</th>\n",
       "      <td>499.99</td>\n",
       "      <td>0000000205870</td>\n",
       "      <td>9-1-685</td>\n",
       "    </tr>\n",
       "    <tr>\n",
       "      <th>3</th>\n",
       "      <td>539.99</td>\n",
       "      <td>0000000205870</td>\n",
       "      <td>9-2-22</td>\n",
       "    </tr>\n",
       "    <tr>\n",
       "      <th>4</th>\n",
       "      <td>519.99</td>\n",
       "      <td>0000000205870</td>\n",
       "      <td>9-2-59</td>\n",
       "    </tr>\n",
       "  </tbody>\n",
       "</table>\n",
       "</div>"
      ],
      "text/plain": [
       "   precio    producto_id sucursal_id\n",
       "0    29.9  0000000002288     2-1-187\n",
       "1    39.9  0000000002288     2-3-247\n",
       "2  499.99  0000000205870     9-1-685\n",
       "3  539.99  0000000205870      9-2-22\n",
       "4  519.99  0000000205870      9-2-59"
      ]
     },
     "execution_count": 12,
     "metadata": {},
     "output_type": "execute_result"
    }
   ],
   "source": [
    "precios_semana_20200503.head(5)"
   ]
  },
  {
   "cell_type": "markdown",
   "metadata": {},
   "source": [
    "## Dataset \"precios_semana_20200518\""
   ]
  },
  {
   "cell_type": "code",
   "execution_count": 37,
   "metadata": {},
   "outputs": [],
   "source": [
    "precios_semana_20200518 = pd.read_csv(r'C:\\Users\\Auli\\Documents\\Henry\\Daft-04\\Proyecto Individual 1\\PI01_DATA_ENGINEERING\\Datasets\\Datasets relevamiento precios\\precios_semana_20200518.txt',sep='|', encoding='utf-8')"
   ]
  },
  {
   "cell_type": "code",
   "execution_count": 15,
   "metadata": {},
   "outputs": [
    {
     "data": {
      "text/html": [
       "<div>\n",
       "<style scoped>\n",
       "    .dataframe tbody tr th:only-of-type {\n",
       "        vertical-align: middle;\n",
       "    }\n",
       "\n",
       "    .dataframe tbody tr th {\n",
       "        vertical-align: top;\n",
       "    }\n",
       "\n",
       "    .dataframe thead th {\n",
       "        text-align: right;\n",
       "    }\n",
       "</style>\n",
       "<table border=\"1\" class=\"dataframe\">\n",
       "  <thead>\n",
       "    <tr style=\"text-align: right;\">\n",
       "      <th></th>\n",
       "      <th>precio</th>\n",
       "      <th>producto_id</th>\n",
       "      <th>sucursal_id</th>\n",
       "    </tr>\n",
       "  </thead>\n",
       "  <tbody>\n",
       "    <tr>\n",
       "      <th>0</th>\n",
       "      <td>29.90</td>\n",
       "      <td>0000000002288</td>\n",
       "      <td>2-1-009</td>\n",
       "    </tr>\n",
       "    <tr>\n",
       "      <th>1</th>\n",
       "      <td>32.90</td>\n",
       "      <td>0000000002288</td>\n",
       "      <td>2-1-037</td>\n",
       "    </tr>\n",
       "    <tr>\n",
       "      <th>2</th>\n",
       "      <td>36.90</td>\n",
       "      <td>0000000002288</td>\n",
       "      <td>2-1-090</td>\n",
       "    </tr>\n",
       "    <tr>\n",
       "      <th>3</th>\n",
       "      <td>39.90</td>\n",
       "      <td>0000000002288</td>\n",
       "      <td>2-3-247</td>\n",
       "    </tr>\n",
       "    <tr>\n",
       "      <th>4</th>\n",
       "      <td>499.99</td>\n",
       "      <td>0000000205870</td>\n",
       "      <td>9-1-430</td>\n",
       "    </tr>\n",
       "  </tbody>\n",
       "</table>\n",
       "</div>"
      ],
      "text/plain": [
       "   precio    producto_id sucursal_id\n",
       "0   29.90  0000000002288     2-1-009\n",
       "1   32.90  0000000002288     2-1-037\n",
       "2   36.90  0000000002288     2-1-090\n",
       "3   39.90  0000000002288     2-3-247\n",
       "4  499.99  0000000205870     9-1-430"
      ]
     },
     "execution_count": 15,
     "metadata": {},
     "output_type": "execute_result"
    }
   ],
   "source": [
    "precios_semana_20200518.head(5)"
   ]
  },
  {
   "cell_type": "markdown",
   "metadata": {},
   "source": [
    "## Dataset \"precios_semanas_20200419_20200426\""
   ]
  },
  {
   "cell_type": "code",
   "execution_count": null,
   "metadata": {},
   "outputs": [],
   "source": [
    "precios_semana_20200419 = pd.read_excel(r'C:\\Users\\Auli\\Documents\\Henry\\Daft-04\\Proyecto Individual 1\\PI01_DATA_ENGINEERING\\Datasets\\Datasets relevamiento precios\\precios_semanas_20200419_20200426.xlsx', sheet_name='precios_20200419_20200419')\n",
    "\n",
    "# Week 20200419 (second excel sheet)"
   ]
  },
  {
   "cell_type": "code",
   "execution_count": 23,
   "metadata": {},
   "outputs": [
    {
     "data": {
      "text/html": [
       "<div>\n",
       "<style scoped>\n",
       "    .dataframe tbody tr th:only-of-type {\n",
       "        vertical-align: middle;\n",
       "    }\n",
       "\n",
       "    .dataframe tbody tr th {\n",
       "        vertical-align: top;\n",
       "    }\n",
       "\n",
       "    .dataframe thead th {\n",
       "        text-align: right;\n",
       "    }\n",
       "</style>\n",
       "<table border=\"1\" class=\"dataframe\">\n",
       "  <thead>\n",
       "    <tr style=\"text-align: right;\">\n",
       "      <th></th>\n",
       "      <th>precio</th>\n",
       "      <th>sucursal_id</th>\n",
       "      <th>producto_id</th>\n",
       "    </tr>\n",
       "  </thead>\n",
       "  <tbody>\n",
       "    <tr>\n",
       "      <th>0</th>\n",
       "      <td>29.90</td>\n",
       "      <td>2-1-184</td>\n",
       "      <td>2288</td>\n",
       "    </tr>\n",
       "    <tr>\n",
       "      <th>1</th>\n",
       "      <td>39.90</td>\n",
       "      <td>2-1-206</td>\n",
       "      <td>2288</td>\n",
       "    </tr>\n",
       "    <tr>\n",
       "      <th>2</th>\n",
       "      <td>499.99</td>\n",
       "      <td>9-1-430</td>\n",
       "      <td>205870</td>\n",
       "    </tr>\n",
       "    <tr>\n",
       "      <th>3</th>\n",
       "      <td>539.99</td>\n",
       "      <td>9-2-107</td>\n",
       "      <td>205870</td>\n",
       "    </tr>\n",
       "    <tr>\n",
       "      <th>4</th>\n",
       "      <td>539.99</td>\n",
       "      <td>5218-03-09 00:00:00</td>\n",
       "      <td>205870</td>\n",
       "    </tr>\n",
       "  </tbody>\n",
       "</table>\n",
       "</div>"
      ],
      "text/plain": [
       "   precio          sucursal_id producto_id\n",
       "0   29.90              2-1-184        2288\n",
       "1   39.90              2-1-206        2288\n",
       "2  499.99              9-1-430      205870\n",
       "3  539.99              9-2-107      205870\n",
       "4  539.99  5218-03-09 00:00:00      205870"
      ]
     },
     "execution_count": 23,
     "metadata": {},
     "output_type": "execute_result"
    }
   ],
   "source": [
    "precios_semana_20200419.head(5)"
   ]
  },
  {
   "cell_type": "code",
   "execution_count": 39,
   "metadata": {},
   "outputs": [],
   "source": [
    "precios_semana_20200426 = pd.read_excel(r'C:\\Users\\Auli\\Documents\\Henry\\Daft-04\\Proyecto Individual 1\\PI01_DATA_ENGINEERING\\Datasets\\Datasets relevamiento precios\\precios_semanas_20200419_20200426.xlsx', sheet_name='precios_20200426_20200426')\n",
    "\n",
    "# Week 20200426 (first excel sheet)"
   ]
  },
  {
   "cell_type": "code",
   "execution_count": 25,
   "metadata": {},
   "outputs": [
    {
     "data": {
      "text/html": [
       "<div>\n",
       "<style scoped>\n",
       "    .dataframe tbody tr th:only-of-type {\n",
       "        vertical-align: middle;\n",
       "    }\n",
       "\n",
       "    .dataframe tbody tr th {\n",
       "        vertical-align: top;\n",
       "    }\n",
       "\n",
       "    .dataframe thead th {\n",
       "        text-align: right;\n",
       "    }\n",
       "</style>\n",
       "<table border=\"1\" class=\"dataframe\">\n",
       "  <thead>\n",
       "    <tr style=\"text-align: right;\">\n",
       "      <th></th>\n",
       "      <th>precio</th>\n",
       "      <th>sucursal_id</th>\n",
       "      <th>producto_id</th>\n",
       "    </tr>\n",
       "  </thead>\n",
       "  <tbody>\n",
       "    <tr>\n",
       "      <th>0</th>\n",
       "      <td>399.0</td>\n",
       "      <td>2-1-092</td>\n",
       "      <td>2288.0</td>\n",
       "    </tr>\n",
       "    <tr>\n",
       "      <th>1</th>\n",
       "      <td>299.0</td>\n",
       "      <td>2-1-206</td>\n",
       "      <td>2288.0</td>\n",
       "    </tr>\n",
       "    <tr>\n",
       "      <th>2</th>\n",
       "      <td>399.0</td>\n",
       "      <td>2-2-241</td>\n",
       "      <td>2288.0</td>\n",
       "    </tr>\n",
       "    <tr>\n",
       "      <th>3</th>\n",
       "      <td>49999.0</td>\n",
       "      <td>9-1-430</td>\n",
       "      <td>205870.0</td>\n",
       "    </tr>\n",
       "    <tr>\n",
       "      <th>4</th>\n",
       "      <td>53999.0</td>\n",
       "      <td>9-2-4</td>\n",
       "      <td>205870.0</td>\n",
       "    </tr>\n",
       "  </tbody>\n",
       "</table>\n",
       "</div>"
      ],
      "text/plain": [
       "    precio sucursal_id  producto_id\n",
       "0    399.0     2-1-092       2288.0\n",
       "1    299.0     2-1-206       2288.0\n",
       "2    399.0     2-2-241       2288.0\n",
       "3  49999.0     9-1-430     205870.0\n",
       "4  53999.0       9-2-4     205870.0"
      ]
     },
     "execution_count": 25,
     "metadata": {},
     "output_type": "execute_result"
    }
   ],
   "source": [
    "precios_semana_20200426.head(5)"
   ]
  },
  {
   "cell_type": "markdown",
   "metadata": {},
   "source": [
    "## Dataset \"Producto\""
   ]
  },
  {
   "cell_type": "code",
   "execution_count": 31,
   "metadata": {},
   "outputs": [],
   "source": [
    "Producto = pd.read_parquet(r'C:\\Users\\Auli\\Documents\\Henry\\Daft-04\\Proyecto Individual 1\\PI01_DATA_ENGINEERING\\Datasets\\Datasets relevamiento precios\\Producto.parquet', engine= 'pyarrow')"
   ]
  },
  {
   "cell_type": "code",
   "execution_count": 32,
   "metadata": {},
   "outputs": [
    {
     "data": {
      "text/html": [
       "<div>\n",
       "<style scoped>\n",
       "    .dataframe tbody tr th:only-of-type {\n",
       "        vertical-align: middle;\n",
       "    }\n",
       "\n",
       "    .dataframe tbody tr th {\n",
       "        vertical-align: top;\n",
       "    }\n",
       "\n",
       "    .dataframe thead th {\n",
       "        text-align: right;\n",
       "    }\n",
       "</style>\n",
       "<table border=\"1\" class=\"dataframe\">\n",
       "  <thead>\n",
       "    <tr style=\"text-align: right;\">\n",
       "      <th></th>\n",
       "      <th>id</th>\n",
       "      <th>marca</th>\n",
       "      <th>nombre</th>\n",
       "      <th>presentacion</th>\n",
       "      <th>categoria1</th>\n",
       "      <th>categoria2</th>\n",
       "      <th>categoria3</th>\n",
       "    </tr>\n",
       "  </thead>\n",
       "  <tbody>\n",
       "    <tr>\n",
       "      <th>0</th>\n",
       "      <td>0000000001663</td>\n",
       "      <td>LA ANÓNIMA</td>\n",
       "      <td>Radicheta Atada La Anonima 1 Un</td>\n",
       "      <td>1.0 un</td>\n",
       "      <td>None</td>\n",
       "      <td>None</td>\n",
       "      <td>None</td>\n",
       "    </tr>\n",
       "    <tr>\n",
       "      <th>1</th>\n",
       "      <td>0000000002288</td>\n",
       "      <td>LA ANÓNIMA</td>\n",
       "      <td>Perejil Atado La Anonima 1 Un</td>\n",
       "      <td>1.0 un</td>\n",
       "      <td>None</td>\n",
       "      <td>None</td>\n",
       "      <td>None</td>\n",
       "    </tr>\n",
       "    <tr>\n",
       "      <th>2</th>\n",
       "      <td>0000000205870</td>\n",
       "      <td>SIN MARCA</td>\n",
       "      <td>Ojo de Bife 1 Kg</td>\n",
       "      <td>1.0 kg</td>\n",
       "      <td>None</td>\n",
       "      <td>None</td>\n",
       "      <td>None</td>\n",
       "    </tr>\n",
       "    <tr>\n",
       "      <th>3</th>\n",
       "      <td>0000000205894</td>\n",
       "      <td>SIN MARCA</td>\n",
       "      <td>Milanesa de Peceto Novillito 1 Kg</td>\n",
       "      <td>1.0 kg</td>\n",
       "      <td>None</td>\n",
       "      <td>None</td>\n",
       "      <td>None</td>\n",
       "    </tr>\n",
       "    <tr>\n",
       "      <th>4</th>\n",
       "      <td>0000000205955</td>\n",
       "      <td>SIN MARCA</td>\n",
       "      <td>Chiquizuela Novillito 1 Kg</td>\n",
       "      <td>1.0 kg</td>\n",
       "      <td>None</td>\n",
       "      <td>None</td>\n",
       "      <td>None</td>\n",
       "    </tr>\n",
       "  </tbody>\n",
       "</table>\n",
       "</div>"
      ],
      "text/plain": [
       "              id       marca                             nombre presentacion  \\\n",
       "0  0000000001663  LA ANÓNIMA    Radicheta Atada La Anonima 1 Un       1.0 un   \n",
       "1  0000000002288  LA ANÓNIMA      Perejil Atado La Anonima 1 Un       1.0 un   \n",
       "2  0000000205870   SIN MARCA                   Ojo de Bife 1 Kg       1.0 kg   \n",
       "3  0000000205894   SIN MARCA  Milanesa de Peceto Novillito 1 Kg       1.0 kg   \n",
       "4  0000000205955   SIN MARCA         Chiquizuela Novillito 1 Kg       1.0 kg   \n",
       "\n",
       "  categoria1 categoria2 categoria3  \n",
       "0       None       None       None  \n",
       "1       None       None       None  \n",
       "2       None       None       None  \n",
       "3       None       None       None  \n",
       "4       None       None       None  "
      ]
     },
     "execution_count": 32,
     "metadata": {},
     "output_type": "execute_result"
    }
   ],
   "source": [
    "Producto.head(5)"
   ]
  },
  {
   "cell_type": "markdown",
   "metadata": {},
   "source": [
    "## Dataset \"sucursal\""
   ]
  },
  {
   "cell_type": "code",
   "execution_count": 98,
   "metadata": {},
   "outputs": [],
   "source": [
    "Sucursal = pd.read_csv(r'C:\\Users\\Auli\\Documents\\Henry\\Daft-04\\Proyecto Individual 1\\PI01_DATA_ENGINEERING\\Datasets\\Datasets relevamiento precios\\sucursal.csv', encoding='utf-8')"
   ]
  },
  {
   "cell_type": "code",
   "execution_count": 112,
   "metadata": {},
   "outputs": [
    {
     "data": {
      "text/html": [
       "<div>\n",
       "<style scoped>\n",
       "    .dataframe tbody tr th:only-of-type {\n",
       "        vertical-align: middle;\n",
       "    }\n",
       "\n",
       "    .dataframe tbody tr th {\n",
       "        vertical-align: top;\n",
       "    }\n",
       "\n",
       "    .dataframe thead th {\n",
       "        text-align: right;\n",
       "    }\n",
       "</style>\n",
       "<table border=\"1\" class=\"dataframe\">\n",
       "  <thead>\n",
       "    <tr style=\"text-align: right;\">\n",
       "      <th></th>\n",
       "      <th>id</th>\n",
       "      <th>comercioId</th>\n",
       "      <th>banderaId</th>\n",
       "      <th>banderaDescripcion</th>\n",
       "      <th>comercioRazonSocial</th>\n",
       "      <th>provincia</th>\n",
       "      <th>localidad</th>\n",
       "      <th>direccion</th>\n",
       "      <th>lat</th>\n",
       "      <th>lng</th>\n",
       "      <th>sucursalNombre</th>\n",
       "      <th>sucursalTipo</th>\n",
       "    </tr>\n",
       "  </thead>\n",
       "  <tbody>\n",
       "    <tr>\n",
       "      <th>0</th>\n",
       "      <td>1-1-7</td>\n",
       "      <td>1</td>\n",
       "      <td>1</td>\n",
       "      <td>Super MAMI</td>\n",
       "      <td>Dinosaurio S.A.</td>\n",
       "      <td>AR-X</td>\n",
       "      <td>SALSIPUEDES</td>\n",
       "      <td>E53 1011 None</td>\n",
       "      <td>-31.126667</td>\n",
       "      <td>-64.295250</td>\n",
       "      <td>Super Mami 4</td>\n",
       "      <td>Hipermercado</td>\n",
       "    </tr>\n",
       "    <tr>\n",
       "      <th>1</th>\n",
       "      <td>10-1-1</td>\n",
       "      <td>10</td>\n",
       "      <td>1</td>\n",
       "      <td>Hipermercado Carrefour</td>\n",
       "      <td>INC S.A.</td>\n",
       "      <td>AR-B</td>\n",
       "      <td>San Isidro</td>\n",
       "      <td>Bernardo De Irigoyen 2647</td>\n",
       "      <td>-34.491345</td>\n",
       "      <td>-58.589025</td>\n",
       "      <td>San Isidro</td>\n",
       "      <td>Hipermercado</td>\n",
       "    </tr>\n",
       "    <tr>\n",
       "      <th>2</th>\n",
       "      <td>10-1-10</td>\n",
       "      <td>10</td>\n",
       "      <td>1</td>\n",
       "      <td>Hipermercado Carrefour</td>\n",
       "      <td>INC S.A.</td>\n",
       "      <td>AR-B</td>\n",
       "      <td>Hurlingham</td>\n",
       "      <td>Av. Vergara 1910</td>\n",
       "      <td>-34.620610</td>\n",
       "      <td>-58.633769</td>\n",
       "      <td>Villa Tesei</td>\n",
       "      <td>Hipermercado</td>\n",
       "    </tr>\n",
       "    <tr>\n",
       "      <th>3</th>\n",
       "      <td>10-1-11</td>\n",
       "      <td>10</td>\n",
       "      <td>1</td>\n",
       "      <td>Hipermercado Carrefour</td>\n",
       "      <td>INC S.A.</td>\n",
       "      <td>AR-B</td>\n",
       "      <td>Malvinas Argentinas</td>\n",
       "      <td>Av. Arturo Illia 3770</td>\n",
       "      <td>-34.528883</td>\n",
       "      <td>-58.701631</td>\n",
       "      <td>Malvinas Argentinas</td>\n",
       "      <td>Hipermercado</td>\n",
       "    </tr>\n",
       "    <tr>\n",
       "      <th>4</th>\n",
       "      <td>10-1-112</td>\n",
       "      <td>10</td>\n",
       "      <td>1</td>\n",
       "      <td>Hipermercado Carrefour</td>\n",
       "      <td>INC S.A.</td>\n",
       "      <td>AR-A</td>\n",
       "      <td>Salta</td>\n",
       "      <td>20 De Febrero 37</td>\n",
       "      <td>-24.789072</td>\n",
       "      <td>-65.413699</td>\n",
       "      <td>Salta</td>\n",
       "      <td>Hipermercado</td>\n",
       "    </tr>\n",
       "  </tbody>\n",
       "</table>\n",
       "</div>"
      ],
      "text/plain": [
       "         id  comercioId  banderaId      banderaDescripcion  \\\n",
       "0     1-1-7           1          1              Super MAMI   \n",
       "1    10-1-1          10          1  Hipermercado Carrefour   \n",
       "2   10-1-10          10          1  Hipermercado Carrefour   \n",
       "3   10-1-11          10          1  Hipermercado Carrefour   \n",
       "4  10-1-112          10          1  Hipermercado Carrefour   \n",
       "\n",
       "  comercioRazonSocial provincia            localidad  \\\n",
       "0     Dinosaurio S.A.      AR-X          SALSIPUEDES   \n",
       "1            INC S.A.      AR-B           San Isidro   \n",
       "2            INC S.A.      AR-B           Hurlingham   \n",
       "3            INC S.A.      AR-B  Malvinas Argentinas   \n",
       "4            INC S.A.      AR-A                Salta   \n",
       "\n",
       "                   direccion        lat        lng       sucursalNombre  \\\n",
       "0              E53 1011 None -31.126667 -64.295250         Super Mami 4   \n",
       "1  Bernardo De Irigoyen 2647 -34.491345 -58.589025           San Isidro   \n",
       "2           Av. Vergara 1910 -34.620610 -58.633769          Villa Tesei   \n",
       "3      Av. Arturo Illia 3770 -34.528883 -58.701631  Malvinas Argentinas   \n",
       "4           20 De Febrero 37 -24.789072 -65.413699                Salta   \n",
       "\n",
       "   sucursalTipo  \n",
       "0  Hipermercado  \n",
       "1  Hipermercado  \n",
       "2  Hipermercado  \n",
       "3  Hipermercado  \n",
       "4  Hipermercado  "
      ]
     },
     "execution_count": 112,
     "metadata": {},
     "output_type": "execute_result"
    }
   ],
   "source": [
    "Sucursal.head(5)"
   ]
  },
  {
   "cell_type": "markdown",
   "metadata": {},
   "source": [
    "## Datasets Normalization"
   ]
  },
  {
   "cell_type": "markdown",
   "metadata": {},
   "source": [
    "I check each week entries"
   ]
  },
  {
   "cell_type": "code",
   "execution_count": 37,
   "metadata": {},
   "outputs": [
    {
     "data": {
      "text/html": [
       "<div>\n",
       "<style scoped>\n",
       "    .dataframe tbody tr th:only-of-type {\n",
       "        vertical-align: middle;\n",
       "    }\n",
       "\n",
       "    .dataframe tbody tr th {\n",
       "        vertical-align: top;\n",
       "    }\n",
       "\n",
       "    .dataframe thead th {\n",
       "        text-align: right;\n",
       "    }\n",
       "</style>\n",
       "<table border=\"1\" class=\"dataframe\">\n",
       "  <thead>\n",
       "    <tr style=\"text-align: right;\">\n",
       "      <th></th>\n",
       "      <th>precio</th>\n",
       "      <th>producto_id</th>\n",
       "      <th>sucursal_id</th>\n",
       "    </tr>\n",
       "  </thead>\n",
       "  <tbody>\n",
       "    <tr>\n",
       "      <th>0</th>\n",
       "      <td>29.9</td>\n",
       "      <td>0000000002288</td>\n",
       "      <td>2-1-009</td>\n",
       "    </tr>\n",
       "  </tbody>\n",
       "</table>\n",
       "</div>"
      ],
      "text/plain": [
       "   precio    producto_id sucursal_id\n",
       "0    29.9  0000000002288     2-1-009"
      ]
     },
     "execution_count": 37,
     "metadata": {},
     "output_type": "execute_result"
    }
   ],
   "source": [
    "precios_semana_20200518.head(1) "
   ]
  },
  {
   "cell_type": "code",
   "execution_count": 38,
   "metadata": {},
   "outputs": [
    {
     "data": {
      "text/html": [
       "<div>\n",
       "<style scoped>\n",
       "    .dataframe tbody tr th:only-of-type {\n",
       "        vertical-align: middle;\n",
       "    }\n",
       "\n",
       "    .dataframe tbody tr th {\n",
       "        vertical-align: top;\n",
       "    }\n",
       "\n",
       "    .dataframe thead th {\n",
       "        text-align: right;\n",
       "    }\n",
       "</style>\n",
       "<table border=\"1\" class=\"dataframe\">\n",
       "  <thead>\n",
       "    <tr style=\"text-align: right;\">\n",
       "      <th></th>\n",
       "      <th>precio</th>\n",
       "      <th>producto_id</th>\n",
       "      <th>sucursal_id</th>\n",
       "    </tr>\n",
       "  </thead>\n",
       "  <tbody>\n",
       "    <tr>\n",
       "      <th>0</th>\n",
       "      <td>29.9</td>\n",
       "      <td>0000000002288</td>\n",
       "      <td>2-1-187</td>\n",
       "    </tr>\n",
       "  </tbody>\n",
       "</table>\n",
       "</div>"
      ],
      "text/plain": [
       "  precio    producto_id sucursal_id\n",
       "0   29.9  0000000002288     2-1-187"
      ]
     },
     "execution_count": 38,
     "metadata": {},
     "output_type": "execute_result"
    }
   ],
   "source": [
    "precios_semana_20200503.head(1)"
   ]
  },
  {
   "cell_type": "code",
   "execution_count": 39,
   "metadata": {},
   "outputs": [
    {
     "data": {
      "text/html": [
       "<div>\n",
       "<style scoped>\n",
       "    .dataframe tbody tr th:only-of-type {\n",
       "        vertical-align: middle;\n",
       "    }\n",
       "\n",
       "    .dataframe tbody tr th {\n",
       "        vertical-align: top;\n",
       "    }\n",
       "\n",
       "    .dataframe thead th {\n",
       "        text-align: right;\n",
       "    }\n",
       "</style>\n",
       "<table border=\"1\" class=\"dataframe\">\n",
       "  <thead>\n",
       "    <tr style=\"text-align: right;\">\n",
       "      <th></th>\n",
       "      <th>precio</th>\n",
       "      <th>sucursal_id</th>\n",
       "      <th>producto_id</th>\n",
       "    </tr>\n",
       "  </thead>\n",
       "  <tbody>\n",
       "    <tr>\n",
       "      <th>0</th>\n",
       "      <td>399.0</td>\n",
       "      <td>2-1-092</td>\n",
       "      <td>2288.0</td>\n",
       "    </tr>\n",
       "  </tbody>\n",
       "</table>\n",
       "</div>"
      ],
      "text/plain": [
       "   precio sucursal_id  producto_id\n",
       "0   399.0     2-1-092       2288.0"
      ]
     },
     "execution_count": 39,
     "metadata": {},
     "output_type": "execute_result"
    }
   ],
   "source": [
    "precios_semana_20200426.head(1) # product's ID are missing zeros and are not intergers"
   ]
  },
  {
   "cell_type": "code",
   "execution_count": 40,
   "metadata": {},
   "outputs": [
    {
     "data": {
      "text/html": [
       "<div>\n",
       "<style scoped>\n",
       "    .dataframe tbody tr th:only-of-type {\n",
       "        vertical-align: middle;\n",
       "    }\n",
       "\n",
       "    .dataframe tbody tr th {\n",
       "        vertical-align: top;\n",
       "    }\n",
       "\n",
       "    .dataframe thead th {\n",
       "        text-align: right;\n",
       "    }\n",
       "</style>\n",
       "<table border=\"1\" class=\"dataframe\">\n",
       "  <thead>\n",
       "    <tr style=\"text-align: right;\">\n",
       "      <th></th>\n",
       "      <th>precio</th>\n",
       "      <th>sucursal_id</th>\n",
       "      <th>producto_id</th>\n",
       "    </tr>\n",
       "  </thead>\n",
       "  <tbody>\n",
       "    <tr>\n",
       "      <th>0</th>\n",
       "      <td>29.9</td>\n",
       "      <td>2-1-184</td>\n",
       "      <td>2288</td>\n",
       "    </tr>\n",
       "  </tbody>\n",
       "</table>\n",
       "</div>"
      ],
      "text/plain": [
       "   precio sucursal_id producto_id\n",
       "0    29.9     2-1-184        2288"
      ]
     },
     "execution_count": 40,
     "metadata": {},
     "output_type": "execute_result"
    }
   ],
   "source": [
    "precios_semana_20200419.head(1)"
   ]
  },
  {
   "cell_type": "code",
   "execution_count": 41,
   "metadata": {},
   "outputs": [
    {
     "data": {
      "text/html": [
       "<div>\n",
       "<style scoped>\n",
       "    .dataframe tbody tr th:only-of-type {\n",
       "        vertical-align: middle;\n",
       "    }\n",
       "\n",
       "    .dataframe tbody tr th {\n",
       "        vertical-align: top;\n",
       "    }\n",
       "\n",
       "    .dataframe thead th {\n",
       "        text-align: right;\n",
       "    }\n",
       "</style>\n",
       "<table border=\"1\" class=\"dataframe\">\n",
       "  <thead>\n",
       "    <tr style=\"text-align: right;\">\n",
       "      <th></th>\n",
       "      <th>precio</th>\n",
       "      <th>producto_id</th>\n",
       "      <th>sucursal_id</th>\n",
       "    </tr>\n",
       "  </thead>\n",
       "  <tbody>\n",
       "    <tr>\n",
       "      <th>0</th>\n",
       "      <td>29.9</td>\n",
       "      <td>0000000001663</td>\n",
       "      <td>2-1-014</td>\n",
       "    </tr>\n",
       "  </tbody>\n",
       "</table>\n",
       "</div>"
      ],
      "text/plain": [
       "   precio    producto_id sucursal_id\n",
       "0    29.9  0000000001663     2-1-014"
      ]
     },
     "execution_count": 41,
     "metadata": {},
     "output_type": "execute_result"
    }
   ],
   "source": [
    "precios_semana_20200413.head(1)"
   ]
  },
  {
   "cell_type": "markdown",
   "metadata": {},
   "source": [
    "I check the \"Producto\" dataset"
   ]
  },
  {
   "cell_type": "code",
   "execution_count": 42,
   "metadata": {},
   "outputs": [
    {
     "data": {
      "text/html": [
       "<div>\n",
       "<style scoped>\n",
       "    .dataframe tbody tr th:only-of-type {\n",
       "        vertical-align: middle;\n",
       "    }\n",
       "\n",
       "    .dataframe tbody tr th {\n",
       "        vertical-align: top;\n",
       "    }\n",
       "\n",
       "    .dataframe thead th {\n",
       "        text-align: right;\n",
       "    }\n",
       "</style>\n",
       "<table border=\"1\" class=\"dataframe\">\n",
       "  <thead>\n",
       "    <tr style=\"text-align: right;\">\n",
       "      <th></th>\n",
       "      <th>id</th>\n",
       "      <th>marca</th>\n",
       "      <th>nombre</th>\n",
       "      <th>presentacion</th>\n",
       "      <th>categoria1</th>\n",
       "      <th>categoria2</th>\n",
       "      <th>categoria3</th>\n",
       "    </tr>\n",
       "  </thead>\n",
       "  <tbody>\n",
       "    <tr>\n",
       "      <th>0</th>\n",
       "      <td>0000000001663</td>\n",
       "      <td>LA ANÓNIMA</td>\n",
       "      <td>Radicheta Atada La Anonima 1 Un</td>\n",
       "      <td>1.0 un</td>\n",
       "      <td>None</td>\n",
       "      <td>None</td>\n",
       "      <td>None</td>\n",
       "    </tr>\n",
       "    <tr>\n",
       "      <th>1</th>\n",
       "      <td>0000000002288</td>\n",
       "      <td>LA ANÓNIMA</td>\n",
       "      <td>Perejil Atado La Anonima 1 Un</td>\n",
       "      <td>1.0 un</td>\n",
       "      <td>None</td>\n",
       "      <td>None</td>\n",
       "      <td>None</td>\n",
       "    </tr>\n",
       "    <tr>\n",
       "      <th>2</th>\n",
       "      <td>0000000205870</td>\n",
       "      <td>SIN MARCA</td>\n",
       "      <td>Ojo de Bife 1 Kg</td>\n",
       "      <td>1.0 kg</td>\n",
       "      <td>None</td>\n",
       "      <td>None</td>\n",
       "      <td>None</td>\n",
       "    </tr>\n",
       "    <tr>\n",
       "      <th>3</th>\n",
       "      <td>0000000205894</td>\n",
       "      <td>SIN MARCA</td>\n",
       "      <td>Milanesa de Peceto Novillito 1 Kg</td>\n",
       "      <td>1.0 kg</td>\n",
       "      <td>None</td>\n",
       "      <td>None</td>\n",
       "      <td>None</td>\n",
       "    </tr>\n",
       "    <tr>\n",
       "      <th>4</th>\n",
       "      <td>0000000205955</td>\n",
       "      <td>SIN MARCA</td>\n",
       "      <td>Chiquizuela Novillito 1 Kg</td>\n",
       "      <td>1.0 kg</td>\n",
       "      <td>None</td>\n",
       "      <td>None</td>\n",
       "      <td>None</td>\n",
       "    </tr>\n",
       "  </tbody>\n",
       "</table>\n",
       "</div>"
      ],
      "text/plain": [
       "              id       marca                             nombre presentacion  \\\n",
       "0  0000000001663  LA ANÓNIMA    Radicheta Atada La Anonima 1 Un       1.0 un   \n",
       "1  0000000002288  LA ANÓNIMA      Perejil Atado La Anonima 1 Un       1.0 un   \n",
       "2  0000000205870   SIN MARCA                   Ojo de Bife 1 Kg       1.0 kg   \n",
       "3  0000000205894   SIN MARCA  Milanesa de Peceto Novillito 1 Kg       1.0 kg   \n",
       "4  0000000205955   SIN MARCA         Chiquizuela Novillito 1 Kg       1.0 kg   \n",
       "\n",
       "  categoria1 categoria2 categoria3  \n",
       "0       None       None       None  \n",
       "1       None       None       None  \n",
       "2       None       None       None  \n",
       "3       None       None       None  \n",
       "4       None       None       None  "
      ]
     },
     "execution_count": 42,
     "metadata": {},
     "output_type": "execute_result"
    }
   ],
   "source": [
    "Producto.head() # ID not consistent with the amount of zeros, \n",
    "                # \"nombre\" column is not representative,\n",
    "                # missing values in the categories columns"
   ]
  },
  {
   "cell_type": "markdown",
   "metadata": {},
   "source": [
    "I work on the ID column"
   ]
  },
  {
   "cell_type": "code",
   "execution_count": null,
   "metadata": {},
   "outputs": [],
   "source": [
    "pd.unique(Producto.id.values) # I see what kind of numbers the column has"
   ]
  },
  {
   "cell_type": "code",
   "execution_count": 51,
   "metadata": {},
   "outputs": [
    {
     "data": {
      "text/plain": [
       "72038"
      ]
     },
     "execution_count": 51,
     "metadata": {},
     "output_type": "execute_result"
    }
   ],
   "source": [
    "Producto.id.nunique() # I count the products total amount"
   ]
  },
  {
   "cell_type": "code",
   "execution_count": 61,
   "metadata": {},
   "outputs": [
    {
     "ename": "ValueError",
     "evalue": "could not convert string to float: '1-1-1500210000009'",
     "output_type": "error",
     "traceback": [
      "\u001b[1;31m---------------------------------------------------------------------------\u001b[0m",
      "\u001b[1;31mValueError\u001b[0m                                Traceback (most recent call last)",
      "Cell \u001b[1;32mIn [61], line 1\u001b[0m\n\u001b[1;32m----> 1\u001b[0m Producto\u001b[39m.\u001b[39;49mid\u001b[39m.\u001b[39;49mastype(\u001b[39mfloat\u001b[39;49m)\n",
      "File \u001b[1;32mc:\\Users\\Auli\\AppData\\Local\\Programs\\Python\\Python310\\lib\\site-packages\\pandas\\core\\generic.py:6245\u001b[0m, in \u001b[0;36mNDFrame.astype\u001b[1;34m(self, dtype, copy, errors)\u001b[0m\n\u001b[0;32m   6238\u001b[0m     results \u001b[39m=\u001b[39m [\n\u001b[0;32m   6239\u001b[0m         \u001b[39mself\u001b[39m\u001b[39m.\u001b[39miloc[:, i]\u001b[39m.\u001b[39mastype(dtype, copy\u001b[39m=\u001b[39mcopy)\n\u001b[0;32m   6240\u001b[0m         \u001b[39mfor\u001b[39;00m i \u001b[39min\u001b[39;00m \u001b[39mrange\u001b[39m(\u001b[39mlen\u001b[39m(\u001b[39mself\u001b[39m\u001b[39m.\u001b[39mcolumns))\n\u001b[0;32m   6241\u001b[0m     ]\n\u001b[0;32m   6243\u001b[0m \u001b[39melse\u001b[39;00m:\n\u001b[0;32m   6244\u001b[0m     \u001b[39m# else, only a single dtype is given\u001b[39;00m\n\u001b[1;32m-> 6245\u001b[0m     new_data \u001b[39m=\u001b[39m \u001b[39mself\u001b[39;49m\u001b[39m.\u001b[39;49m_mgr\u001b[39m.\u001b[39;49mastype(dtype\u001b[39m=\u001b[39;49mdtype, copy\u001b[39m=\u001b[39;49mcopy, errors\u001b[39m=\u001b[39;49merrors)\n\u001b[0;32m   6246\u001b[0m     \u001b[39mreturn\u001b[39;00m \u001b[39mself\u001b[39m\u001b[39m.\u001b[39m_constructor(new_data)\u001b[39m.\u001b[39m__finalize__(\u001b[39mself\u001b[39m, method\u001b[39m=\u001b[39m\u001b[39m\"\u001b[39m\u001b[39mastype\u001b[39m\u001b[39m\"\u001b[39m)\n\u001b[0;32m   6248\u001b[0m \u001b[39m# GH 33113: handle empty frame or series\u001b[39;00m\n",
      "File \u001b[1;32mc:\\Users\\Auli\\AppData\\Local\\Programs\\Python\\Python310\\lib\\site-packages\\pandas\\core\\internals\\managers.py:446\u001b[0m, in \u001b[0;36mBaseBlockManager.astype\u001b[1;34m(self, dtype, copy, errors)\u001b[0m\n\u001b[0;32m    445\u001b[0m \u001b[39mdef\u001b[39;00m \u001b[39mastype\u001b[39m(\u001b[39mself\u001b[39m: T, dtype, copy: \u001b[39mbool\u001b[39m \u001b[39m=\u001b[39m \u001b[39mFalse\u001b[39;00m, errors: \u001b[39mstr\u001b[39m \u001b[39m=\u001b[39m \u001b[39m\"\u001b[39m\u001b[39mraise\u001b[39m\u001b[39m\"\u001b[39m) \u001b[39m-\u001b[39m\u001b[39m>\u001b[39m T:\n\u001b[1;32m--> 446\u001b[0m     \u001b[39mreturn\u001b[39;00m \u001b[39mself\u001b[39;49m\u001b[39m.\u001b[39;49mapply(\u001b[39m\"\u001b[39;49m\u001b[39mastype\u001b[39;49m\u001b[39m\"\u001b[39;49m, dtype\u001b[39m=\u001b[39;49mdtype, copy\u001b[39m=\u001b[39;49mcopy, errors\u001b[39m=\u001b[39;49merrors)\n",
      "File \u001b[1;32mc:\\Users\\Auli\\AppData\\Local\\Programs\\Python\\Python310\\lib\\site-packages\\pandas\\core\\internals\\managers.py:348\u001b[0m, in \u001b[0;36mBaseBlockManager.apply\u001b[1;34m(self, f, align_keys, ignore_failures, **kwargs)\u001b[0m\n\u001b[0;32m    346\u001b[0m         applied \u001b[39m=\u001b[39m b\u001b[39m.\u001b[39mapply(f, \u001b[39m*\u001b[39m\u001b[39m*\u001b[39mkwargs)\n\u001b[0;32m    347\u001b[0m     \u001b[39melse\u001b[39;00m:\n\u001b[1;32m--> 348\u001b[0m         applied \u001b[39m=\u001b[39m \u001b[39mgetattr\u001b[39m(b, f)(\u001b[39m*\u001b[39m\u001b[39m*\u001b[39mkwargs)\n\u001b[0;32m    349\u001b[0m \u001b[39mexcept\u001b[39;00m (\u001b[39mTypeError\u001b[39;00m, \u001b[39mNotImplementedError\u001b[39;00m):\n\u001b[0;32m    350\u001b[0m     \u001b[39mif\u001b[39;00m \u001b[39mnot\u001b[39;00m ignore_failures:\n",
      "File \u001b[1;32mc:\\Users\\Auli\\AppData\\Local\\Programs\\Python\\Python310\\lib\\site-packages\\pandas\\core\\internals\\blocks.py:527\u001b[0m, in \u001b[0;36mBlock.astype\u001b[1;34m(self, dtype, copy, errors)\u001b[0m\n\u001b[0;32m    509\u001b[0m \u001b[39m\"\"\"\u001b[39;00m\n\u001b[0;32m    510\u001b[0m \u001b[39mCoerce to the new dtype.\u001b[39;00m\n\u001b[0;32m    511\u001b[0m \n\u001b[1;32m   (...)\u001b[0m\n\u001b[0;32m    523\u001b[0m \u001b[39mBlock\u001b[39;00m\n\u001b[0;32m    524\u001b[0m \u001b[39m\"\"\"\u001b[39;00m\n\u001b[0;32m    525\u001b[0m values \u001b[39m=\u001b[39m \u001b[39mself\u001b[39m\u001b[39m.\u001b[39mvalues\n\u001b[1;32m--> 527\u001b[0m new_values \u001b[39m=\u001b[39m astype_array_safe(values, dtype, copy\u001b[39m=\u001b[39;49mcopy, errors\u001b[39m=\u001b[39;49merrors)\n\u001b[0;32m    529\u001b[0m new_values \u001b[39m=\u001b[39m maybe_coerce_values(new_values)\n\u001b[0;32m    530\u001b[0m newb \u001b[39m=\u001b[39m \u001b[39mself\u001b[39m\u001b[39m.\u001b[39mmake_block(new_values)\n",
      "File \u001b[1;32mc:\\Users\\Auli\\AppData\\Local\\Programs\\Python\\Python310\\lib\\site-packages\\pandas\\core\\dtypes\\astype.py:299\u001b[0m, in \u001b[0;36mastype_array_safe\u001b[1;34m(values, dtype, copy, errors)\u001b[0m\n\u001b[0;32m    296\u001b[0m     \u001b[39mreturn\u001b[39;00m values\u001b[39m.\u001b[39mcopy()\n\u001b[0;32m    298\u001b[0m \u001b[39mtry\u001b[39;00m:\n\u001b[1;32m--> 299\u001b[0m     new_values \u001b[39m=\u001b[39m astype_array(values, dtype, copy\u001b[39m=\u001b[39;49mcopy)\n\u001b[0;32m    300\u001b[0m \u001b[39mexcept\u001b[39;00m (\u001b[39mValueError\u001b[39;00m, \u001b[39mTypeError\u001b[39;00m):\n\u001b[0;32m    301\u001b[0m     \u001b[39m# e.g. astype_nansafe can fail on object-dtype of strings\u001b[39;00m\n\u001b[0;32m    302\u001b[0m     \u001b[39m#  trying to convert to float\u001b[39;00m\n\u001b[0;32m    303\u001b[0m     \u001b[39mif\u001b[39;00m errors \u001b[39m==\u001b[39m \u001b[39m\"\u001b[39m\u001b[39mignore\u001b[39m\u001b[39m\"\u001b[39m:\n",
      "File \u001b[1;32mc:\\Users\\Auli\\AppData\\Local\\Programs\\Python\\Python310\\lib\\site-packages\\pandas\\core\\dtypes\\astype.py:230\u001b[0m, in \u001b[0;36mastype_array\u001b[1;34m(values, dtype, copy)\u001b[0m\n\u001b[0;32m    227\u001b[0m     values \u001b[39m=\u001b[39m values\u001b[39m.\u001b[39mastype(dtype, copy\u001b[39m=\u001b[39mcopy)\n\u001b[0;32m    229\u001b[0m \u001b[39melse\u001b[39;00m:\n\u001b[1;32m--> 230\u001b[0m     values \u001b[39m=\u001b[39m astype_nansafe(values, dtype, copy\u001b[39m=\u001b[39;49mcopy)\n\u001b[0;32m    232\u001b[0m \u001b[39m# in pandas we don't store numpy str dtypes, so convert to object\u001b[39;00m\n\u001b[0;32m    233\u001b[0m \u001b[39mif\u001b[39;00m \u001b[39misinstance\u001b[39m(dtype, np\u001b[39m.\u001b[39mdtype) \u001b[39mand\u001b[39;00m \u001b[39missubclass\u001b[39m(values\u001b[39m.\u001b[39mdtype\u001b[39m.\u001b[39mtype, \u001b[39mstr\u001b[39m):\n",
      "File \u001b[1;32mc:\\Users\\Auli\\AppData\\Local\\Programs\\Python\\Python310\\lib\\site-packages\\pandas\\core\\dtypes\\astype.py:170\u001b[0m, in \u001b[0;36mastype_nansafe\u001b[1;34m(arr, dtype, copy, skipna)\u001b[0m\n\u001b[0;32m    166\u001b[0m     \u001b[39mraise\u001b[39;00m \u001b[39mValueError\u001b[39;00m(msg)\n\u001b[0;32m    168\u001b[0m \u001b[39mif\u001b[39;00m copy \u001b[39mor\u001b[39;00m is_object_dtype(arr\u001b[39m.\u001b[39mdtype) \u001b[39mor\u001b[39;00m is_object_dtype(dtype):\n\u001b[0;32m    169\u001b[0m     \u001b[39m# Explicit copy, or required since NumPy can't view from / to object.\u001b[39;00m\n\u001b[1;32m--> 170\u001b[0m     \u001b[39mreturn\u001b[39;00m arr\u001b[39m.\u001b[39;49mastype(dtype, copy\u001b[39m=\u001b[39;49m\u001b[39mTrue\u001b[39;49;00m)\n\u001b[0;32m    172\u001b[0m \u001b[39mreturn\u001b[39;00m arr\u001b[39m.\u001b[39mastype(dtype, copy\u001b[39m=\u001b[39mcopy)\n",
      "\u001b[1;31mValueError\u001b[0m: could not convert string to float: '1-1-1500210000009'"
     ]
    }
   ],
   "source": [
    "Producto.id.astype(float) # I doesn't let me turn them into float because some ID's have especial\n",
    "                          # characters"
   ]
  },
  {
   "cell_type": "code",
   "execution_count": 66,
   "metadata": {},
   "outputs": [
    {
     "data": {
      "text/html": [
       "<div>\n",
       "<style scoped>\n",
       "    .dataframe tbody tr th:only-of-type {\n",
       "        vertical-align: middle;\n",
       "    }\n",
       "\n",
       "    .dataframe tbody tr th {\n",
       "        vertical-align: top;\n",
       "    }\n",
       "\n",
       "    .dataframe thead th {\n",
       "        text-align: right;\n",
       "    }\n",
       "</style>\n",
       "<table border=\"1\" class=\"dataframe\">\n",
       "  <thead>\n",
       "    <tr style=\"text-align: right;\">\n",
       "      <th></th>\n",
       "      <th>id</th>\n",
       "      <th>marca</th>\n",
       "      <th>nombre</th>\n",
       "      <th>presentacion</th>\n",
       "      <th>categoria1</th>\n",
       "      <th>categoria2</th>\n",
       "      <th>categoria3</th>\n",
       "    </tr>\n",
       "  </thead>\n",
       "  <tbody>\n",
       "    <tr>\n",
       "      <th>1922</th>\n",
       "      <td>1-1-1500210000009</td>\n",
       "      <td>LA SERENÍSIMA</td>\n",
       "      <td>Queso Cremon Light La Serenisima 1 Kg</td>\n",
       "      <td>1.0 kg</td>\n",
       "      <td>None</td>\n",
       "      <td>None</td>\n",
       "      <td>None</td>\n",
       "    </tr>\n",
       "  </tbody>\n",
       "</table>\n",
       "</div>"
      ],
      "text/plain": [
       "                     id          marca                                 nombre  \\\n",
       "1922  1-1-1500210000009  LA SERENÍSIMA  Queso Cremon Light La Serenisima 1 Kg   \n",
       "\n",
       "     presentacion categoria1 categoria2 categoria3  \n",
       "1922       1.0 kg       None       None       None  "
      ]
     },
     "execution_count": 66,
     "metadata": {},
     "output_type": "execute_result"
    }
   ],
   "source": [
    "Producto[Producto.id == '1-1-1500210000009'] # I check if the ID's with especial characters\n",
    "                                             # are associated to a product"
   ]
  },
  {
   "cell_type": "code",
   "execution_count": 73,
   "metadata": {},
   "outputs": [],
   "source": [
    "Producto['id'] = Producto.id.str.replace('-','') # I replace the middle dash with nothing"
   ]
  },
  {
   "cell_type": "code",
   "execution_count": 75,
   "metadata": {},
   "outputs": [
    {
     "data": {
      "text/html": [
       "<div>\n",
       "<style scoped>\n",
       "    .dataframe tbody tr th:only-of-type {\n",
       "        vertical-align: middle;\n",
       "    }\n",
       "\n",
       "    .dataframe tbody tr th {\n",
       "        vertical-align: top;\n",
       "    }\n",
       "\n",
       "    .dataframe thead th {\n",
       "        text-align: right;\n",
       "    }\n",
       "</style>\n",
       "<table border=\"1\" class=\"dataframe\">\n",
       "  <thead>\n",
       "    <tr style=\"text-align: right;\">\n",
       "      <th></th>\n",
       "      <th>id</th>\n",
       "      <th>marca</th>\n",
       "      <th>nombre</th>\n",
       "      <th>presentacion</th>\n",
       "      <th>categoria1</th>\n",
       "      <th>categoria2</th>\n",
       "      <th>categoria3</th>\n",
       "    </tr>\n",
       "  </thead>\n",
       "  <tbody>\n",
       "    <tr>\n",
       "      <th>1922</th>\n",
       "      <td>111500210000009</td>\n",
       "      <td>LA SERENÍSIMA</td>\n",
       "      <td>Queso Cremon Light La Serenisima 1 Kg</td>\n",
       "      <td>1.0 kg</td>\n",
       "      <td>None</td>\n",
       "      <td>None</td>\n",
       "      <td>None</td>\n",
       "    </tr>\n",
       "  </tbody>\n",
       "</table>\n",
       "</div>"
      ],
      "text/plain": [
       "                   id          marca                                 nombre  \\\n",
       "1922  111500210000009  LA SERENÍSIMA  Queso Cremon Light La Serenisima 1 Kg   \n",
       "\n",
       "     presentacion categoria1 categoria2 categoria3  \n",
       "1922       1.0 kg       None       None       None  "
      ]
     },
     "execution_count": 75,
     "metadata": {},
     "output_type": "execute_result"
    }
   ],
   "source": [
    "Producto[Producto.id == '111500210000009']"
   ]
  },
  {
   "cell_type": "code",
   "execution_count": 77,
   "metadata": {},
   "outputs": [],
   "source": [
    "producto_id_duplicado = Producto[Producto.id.duplicated()] # I create a Dataframe to see if \n",
    "                                                           # there are duplicated ID's"
   ]
  },
  {
   "cell_type": "code",
   "execution_count": 78,
   "metadata": {},
   "outputs": [
    {
     "data": {
      "text/html": [
       "<div>\n",
       "<style scoped>\n",
       "    .dataframe tbody tr th:only-of-type {\n",
       "        vertical-align: middle;\n",
       "    }\n",
       "\n",
       "    .dataframe tbody tr th {\n",
       "        vertical-align: top;\n",
       "    }\n",
       "\n",
       "    .dataframe thead th {\n",
       "        text-align: right;\n",
       "    }\n",
       "</style>\n",
       "<table border=\"1\" class=\"dataframe\">\n",
       "  <thead>\n",
       "    <tr style=\"text-align: right;\">\n",
       "      <th></th>\n",
       "      <th>id</th>\n",
       "      <th>marca</th>\n",
       "      <th>nombre</th>\n",
       "      <th>presentacion</th>\n",
       "      <th>categoria1</th>\n",
       "      <th>categoria2</th>\n",
       "      <th>categoria3</th>\n",
       "    </tr>\n",
       "  </thead>\n",
       "  <tbody>\n",
       "  </tbody>\n",
       "</table>\n",
       "</div>"
      ],
      "text/plain": [
       "Empty DataFrame\n",
       "Columns: [id, marca, nombre, presentacion, categoria1, categoria2, categoria3]\n",
       "Index: []"
      ]
     },
     "execution_count": 78,
     "metadata": {},
     "output_type": "execute_result"
    }
   ],
   "source": [
    "producto_id_duplicado # No duplicated ID's"
   ]
  },
  {
   "cell_type": "code",
   "execution_count": 81,
   "metadata": {},
   "outputs": [],
   "source": [
    "Producto.id = Producto.id.astype(np.int64) # I convert the ID's to integer"
   ]
  },
  {
   "cell_type": "code",
   "execution_count": 82,
   "metadata": {},
   "outputs": [
    {
     "name": "stdout",
     "output_type": "stream",
     "text": [
      "<class 'pandas.core.frame.DataFrame'>\n",
      "RangeIndex: 72038 entries, 0 to 72037\n",
      "Data columns (total 7 columns):\n",
      " #   Column        Non-Null Count  Dtype \n",
      "---  ------        --------------  ----- \n",
      " 0   id            72038 non-null  int64 \n",
      " 1   marca         72036 non-null  object\n",
      " 2   nombre        72036 non-null  object\n",
      " 3   presentacion  72036 non-null  object\n",
      " 4   categoria1    4 non-null      object\n",
      " 5   categoria2    4 non-null      object\n",
      " 6   categoria3    4 non-null      object\n",
      "dtypes: int64(1), object(6)\n",
      "memory usage: 3.8+ MB\n"
     ]
    }
   ],
   "source": [
    "Producto.info()"
   ]
  },
  {
   "cell_type": "code",
   "execution_count": 83,
   "metadata": {},
   "outputs": [],
   "source": [
    "producto_id_duplicado = Producto[Producto.id.duplicated()] # I check once more if there are \n",
    "                                                           # duplicated ID's"
   ]
  },
  {
   "cell_type": "code",
   "execution_count": 84,
   "metadata": {},
   "outputs": [
    {
     "data": {
      "text/html": [
       "<div>\n",
       "<style scoped>\n",
       "    .dataframe tbody tr th:only-of-type {\n",
       "        vertical-align: middle;\n",
       "    }\n",
       "\n",
       "    .dataframe tbody tr th {\n",
       "        vertical-align: top;\n",
       "    }\n",
       "\n",
       "    .dataframe thead th {\n",
       "        text-align: right;\n",
       "    }\n",
       "</style>\n",
       "<table border=\"1\" class=\"dataframe\">\n",
       "  <thead>\n",
       "    <tr style=\"text-align: right;\">\n",
       "      <th></th>\n",
       "      <th>id</th>\n",
       "      <th>marca</th>\n",
       "      <th>nombre</th>\n",
       "      <th>presentacion</th>\n",
       "      <th>categoria1</th>\n",
       "      <th>categoria2</th>\n",
       "      <th>categoria3</th>\n",
       "    </tr>\n",
       "  </thead>\n",
       "  <tbody>\n",
       "  </tbody>\n",
       "</table>\n",
       "</div>"
      ],
      "text/plain": [
       "Empty DataFrame\n",
       "Columns: [id, marca, nombre, presentacion, categoria1, categoria2, categoria3]\n",
       "Index: []"
      ]
     },
     "execution_count": 84,
     "metadata": {},
     "output_type": "execute_result"
    }
   ],
   "source": [
    "producto_id_duplicado # No duplicated ID's"
   ]
  },
  {
   "cell_type": "code",
   "execution_count": 85,
   "metadata": {},
   "outputs": [
    {
     "data": {
      "text/html": [
       "<div>\n",
       "<style scoped>\n",
       "    .dataframe tbody tr th:only-of-type {\n",
       "        vertical-align: middle;\n",
       "    }\n",
       "\n",
       "    .dataframe tbody tr th {\n",
       "        vertical-align: top;\n",
       "    }\n",
       "\n",
       "    .dataframe thead th {\n",
       "        text-align: right;\n",
       "    }\n",
       "</style>\n",
       "<table border=\"1\" class=\"dataframe\">\n",
       "  <thead>\n",
       "    <tr style=\"text-align: right;\">\n",
       "      <th></th>\n",
       "      <th>id</th>\n",
       "      <th>marca</th>\n",
       "      <th>nombre</th>\n",
       "      <th>presentacion</th>\n",
       "      <th>categoria1</th>\n",
       "      <th>categoria2</th>\n",
       "      <th>categoria3</th>\n",
       "    </tr>\n",
       "  </thead>\n",
       "  <tbody>\n",
       "    <tr>\n",
       "      <th>0</th>\n",
       "      <td>1663</td>\n",
       "      <td>LA ANÓNIMA</td>\n",
       "      <td>Radicheta Atada La Anonima 1 Un</td>\n",
       "      <td>1.0 un</td>\n",
       "      <td>None</td>\n",
       "      <td>None</td>\n",
       "      <td>None</td>\n",
       "    </tr>\n",
       "    <tr>\n",
       "      <th>1</th>\n",
       "      <td>2288</td>\n",
       "      <td>LA ANÓNIMA</td>\n",
       "      <td>Perejil Atado La Anonima 1 Un</td>\n",
       "      <td>1.0 un</td>\n",
       "      <td>None</td>\n",
       "      <td>None</td>\n",
       "      <td>None</td>\n",
       "    </tr>\n",
       "    <tr>\n",
       "      <th>2</th>\n",
       "      <td>205870</td>\n",
       "      <td>SIN MARCA</td>\n",
       "      <td>Ojo de Bife 1 Kg</td>\n",
       "      <td>1.0 kg</td>\n",
       "      <td>None</td>\n",
       "      <td>None</td>\n",
       "      <td>None</td>\n",
       "    </tr>\n",
       "    <tr>\n",
       "      <th>3</th>\n",
       "      <td>205894</td>\n",
       "      <td>SIN MARCA</td>\n",
       "      <td>Milanesa de Peceto Novillito 1 Kg</td>\n",
       "      <td>1.0 kg</td>\n",
       "      <td>None</td>\n",
       "      <td>None</td>\n",
       "      <td>None</td>\n",
       "    </tr>\n",
       "    <tr>\n",
       "      <th>4</th>\n",
       "      <td>205955</td>\n",
       "      <td>SIN MARCA</td>\n",
       "      <td>Chiquizuela Novillito 1 Kg</td>\n",
       "      <td>1.0 kg</td>\n",
       "      <td>None</td>\n",
       "      <td>None</td>\n",
       "      <td>None</td>\n",
       "    </tr>\n",
       "  </tbody>\n",
       "</table>\n",
       "</div>"
      ],
      "text/plain": [
       "       id       marca                             nombre presentacion  \\\n",
       "0    1663  LA ANÓNIMA    Radicheta Atada La Anonima 1 Un       1.0 un   \n",
       "1    2288  LA ANÓNIMA      Perejil Atado La Anonima 1 Un       1.0 un   \n",
       "2  205870   SIN MARCA                   Ojo de Bife 1 Kg       1.0 kg   \n",
       "3  205894   SIN MARCA  Milanesa de Peceto Novillito 1 Kg       1.0 kg   \n",
       "4  205955   SIN MARCA         Chiquizuela Novillito 1 Kg       1.0 kg   \n",
       "\n",
       "  categoria1 categoria2 categoria3  \n",
       "0       None       None       None  \n",
       "1       None       None       None  \n",
       "2       None       None       None  \n",
       "3       None       None       None  \n",
       "4       None       None       None  "
      ]
     },
     "execution_count": 85,
     "metadata": {},
     "output_type": "execute_result"
    }
   ],
   "source": [
    "Producto.head()"
   ]
  },
  {
   "cell_type": "code",
   "execution_count": 86,
   "metadata": {},
   "outputs": [
    {
     "data": {
      "text/html": [
       "<div>\n",
       "<style scoped>\n",
       "    .dataframe tbody tr th:only-of-type {\n",
       "        vertical-align: middle;\n",
       "    }\n",
       "\n",
       "    .dataframe tbody tr th {\n",
       "        vertical-align: top;\n",
       "    }\n",
       "\n",
       "    .dataframe thead th {\n",
       "        text-align: right;\n",
       "    }\n",
       "</style>\n",
       "<table border=\"1\" class=\"dataframe\">\n",
       "  <thead>\n",
       "    <tr style=\"text-align: right;\">\n",
       "      <th></th>\n",
       "      <th>id</th>\n",
       "      <th>marca</th>\n",
       "      <th>nombre</th>\n",
       "      <th>presentacion</th>\n",
       "      <th>categoria1</th>\n",
       "      <th>categoria2</th>\n",
       "      <th>categoria3</th>\n",
       "    </tr>\n",
       "  </thead>\n",
       "  <tbody>\n",
       "    <tr>\n",
       "      <th>1</th>\n",
       "      <td>2288</td>\n",
       "      <td>LA ANÓNIMA</td>\n",
       "      <td>Perejil Atado La Anonima 1 Un</td>\n",
       "      <td>1.0 un</td>\n",
       "      <td>None</td>\n",
       "      <td>None</td>\n",
       "      <td>None</td>\n",
       "    </tr>\n",
       "  </tbody>\n",
       "</table>\n",
       "</div>"
      ],
      "text/plain": [
       "     id       marca                         nombre presentacion categoria1  \\\n",
       "1  2288  LA ANÓNIMA  Perejil Atado La Anonima 1 Un       1.0 un       None   \n",
       "\n",
       "  categoria2 categoria3  \n",
       "1       None       None  "
      ]
     },
     "execution_count": 86,
     "metadata": {},
     "output_type": "execute_result"
    }
   ],
   "source": [
    "Producto[Producto.id == 2288] # I check that the ID matches con a random ID from one \n",
    "                              # of the weekly sales dataset"
   ]
  },
  {
   "cell_type": "code",
   "execution_count": 87,
   "metadata": {},
   "outputs": [
    {
     "data": {
      "text/html": [
       "<div>\n",
       "<style scoped>\n",
       "    .dataframe tbody tr th:only-of-type {\n",
       "        vertical-align: middle;\n",
       "    }\n",
       "\n",
       "    .dataframe tbody tr th {\n",
       "        vertical-align: top;\n",
       "    }\n",
       "\n",
       "    .dataframe thead th {\n",
       "        text-align: right;\n",
       "    }\n",
       "</style>\n",
       "<table border=\"1\" class=\"dataframe\">\n",
       "  <thead>\n",
       "    <tr style=\"text-align: right;\">\n",
       "      <th></th>\n",
       "      <th>id</th>\n",
       "      <th>marca</th>\n",
       "      <th>nombre</th>\n",
       "      <th>presentacion</th>\n",
       "      <th>categoria1</th>\n",
       "      <th>categoria2</th>\n",
       "      <th>categoria3</th>\n",
       "    </tr>\n",
       "  </thead>\n",
       "  <tbody>\n",
       "    <tr>\n",
       "      <th>24842</th>\n",
       "      <td>7790520005625</td>\n",
       "      <td>GLADE</td>\n",
       "      <td>Desodorante de Ambiente Toque Calidez de Hogar...</td>\n",
       "      <td>9.0 gr</td>\n",
       "      <td>None</td>\n",
       "      <td>None</td>\n",
       "      <td>None</td>\n",
       "    </tr>\n",
       "  </tbody>\n",
       "</table>\n",
       "</div>"
      ],
      "text/plain": [
       "                  id  marca  \\\n",
       "24842  7790520005625  GLADE   \n",
       "\n",
       "                                                  nombre presentacion  \\\n",
       "24842  Desodorante de Ambiente Toque Calidez de Hogar...       9.0 gr   \n",
       "\n",
       "      categoria1 categoria2 categoria3  \n",
       "24842       None       None       None  "
      ]
     },
     "execution_count": 87,
     "metadata": {},
     "output_type": "execute_result"
    }
   ],
   "source": [
    "Producto[Producto.id == 7790520005625] # I check that the ID matches con a random ID from one \n",
    "                                       # of the weekly sales dataset"
   ]
  },
  {
   "cell_type": "markdown",
   "metadata": {},
   "source": [
    "I check the categories columns"
   ]
  },
  {
   "cell_type": "code",
   "execution_count": 53,
   "metadata": {},
   "outputs": [
    {
     "data": {
      "text/html": [
       "<div>\n",
       "<style scoped>\n",
       "    .dataframe tbody tr th:only-of-type {\n",
       "        vertical-align: middle;\n",
       "    }\n",
       "\n",
       "    .dataframe tbody tr th {\n",
       "        vertical-align: top;\n",
       "    }\n",
       "\n",
       "    .dataframe thead th {\n",
       "        text-align: right;\n",
       "    }\n",
       "</style>\n",
       "<table border=\"1\" class=\"dataframe\">\n",
       "  <thead>\n",
       "    <tr style=\"text-align: right;\">\n",
       "      <th></th>\n",
       "      <th>id</th>\n",
       "      <th>marca</th>\n",
       "      <th>nombre</th>\n",
       "      <th>presentacion</th>\n",
       "      <th>categoria1</th>\n",
       "      <th>categoria2</th>\n",
       "      <th>categoria3</th>\n",
       "    </tr>\n",
       "  </thead>\n",
       "  <tbody>\n",
       "    <tr>\n",
       "      <th>53619</th>\n",
       "      <td>7798024299045</td>\n",
       "      <td>None</td>\n",
       "      <td>None</td>\n",
       "      <td>None</td>\n",
       "      <td>Almacén</td>\n",
       "      <td>Aceites</td>\n",
       "      <td>Aerosol</td>\n",
       "    </tr>\n",
       "    <tr>\n",
       "      <th>55798</th>\n",
       "      <td>7798061190213</td>\n",
       "      <td>None</td>\n",
       "      <td>None</td>\n",
       "      <td>None</td>\n",
       "      <td>Almacén</td>\n",
       "      <td>Aceites</td>\n",
       "      <td>Oliva</td>\n",
       "    </tr>\n",
       "  </tbody>\n",
       "</table>\n",
       "</div>"
      ],
      "text/plain": [
       "                  id marca nombre presentacion categoria1 categoria2  \\\n",
       "53619  7798024299045  None   None         None    Almacén    Aceites   \n",
       "55798  7798061190213  None   None         None    Almacén    Aceites   \n",
       "\n",
       "      categoria3  \n",
       "53619    Aerosol  \n",
       "55798      Oliva  "
      ]
     },
     "execution_count": 53,
     "metadata": {},
     "output_type": "execute_result"
    }
   ],
   "source": [
    "Producto[Producto['categoria1'] == 'Almacén'] # I see how the categories work"
   ]
  },
  {
   "cell_type": "code",
   "execution_count": 43,
   "metadata": {},
   "outputs": [
    {
     "data": {
      "text/plain": [
       "array([None, 'Perfumería y Cuidado Personal', 'Almacén',\n",
       "       'Alimentos Congelados'], dtype=object)"
      ]
     },
     "execution_count": 43,
     "metadata": {},
     "output_type": "execute_result"
    }
   ],
   "source": [
    "pd.unique(Producto.categoria1.values) # I see what categories there are\n",
    "# I could change the \"None\" values for \"No category\""
   ]
  },
  {
   "cell_type": "code",
   "execution_count": 92,
   "metadata": {},
   "outputs": [],
   "source": [
    "Producto.categoria1.fillna('Sin categoria',inplace=True) # I replace the \"None\" values for \"No category\"\n",
    "pd.unique(Producto.categoria1.values)"
   ]
  },
  {
   "cell_type": "code",
   "execution_count": 44,
   "metadata": {},
   "outputs": [
    {
     "data": {
      "text/plain": [
       "array([None, 'Cuidado Capilar', 'Aceites', 'Helados'], dtype=object)"
      ]
     },
     "execution_count": 44,
     "metadata": {},
     "output_type": "execute_result"
    }
   ],
   "source": [
    "pd.unique(Producto.categoria2.values) # I see what categories there are\n",
    "# I could change the \"None\" values for \"No category\""
   ]
  },
  {
   "cell_type": "code",
   "execution_count": 95,
   "metadata": {},
   "outputs": [
    {
     "data": {
      "text/plain": [
       "array(['Sin categoria', 'Cuidado Capilar', 'Aceites', 'Helados'],\n",
       "      dtype=object)"
      ]
     },
     "execution_count": 95,
     "metadata": {},
     "output_type": "execute_result"
    }
   ],
   "source": [
    "Producto.categoria2.fillna('Sin categoria',inplace=True) # I replace the \"None\" values for \"No category\"\n",
    "pd.unique(Producto.categoria2.values)"
   ]
  },
  {
   "cell_type": "code",
   "execution_count": 45,
   "metadata": {},
   "outputs": [
    {
     "data": {
      "text/plain": [
       "array([None, 'Acondicionadores', 'Aerosol', 'Oliva', 'Helados'],\n",
       "      dtype=object)"
      ]
     },
     "execution_count": 45,
     "metadata": {},
     "output_type": "execute_result"
    }
   ],
   "source": [
    "pd.unique(Producto.categoria3.values) # I see what categories there are\n",
    "# I could change the \"None\" values for \"No category\""
   ]
  },
  {
   "cell_type": "code",
   "execution_count": 96,
   "metadata": {},
   "outputs": [
    {
     "data": {
      "text/plain": [
       "array(['Sin categoria', 'Acondicionadores', 'Aerosol', 'Oliva', 'Helados'],\n",
       "      dtype=object)"
      ]
     },
     "execution_count": 96,
     "metadata": {},
     "output_type": "execute_result"
    }
   ],
   "source": [
    "Producto.categoria3.fillna('Sin categoria',inplace=True) # I replace the \"None\" values for \"No category\"\n",
    "pd.unique(Producto.categoria3.values)"
   ]
  },
  {
   "cell_type": "markdown",
   "metadata": {},
   "source": [
    "I check the \"id\" and \"nombre\" columns names"
   ]
  },
  {
   "cell_type": "code",
   "execution_count": 97,
   "metadata": {},
   "outputs": [
    {
     "data": {
      "text/html": [
       "<div>\n",
       "<style scoped>\n",
       "    .dataframe tbody tr th:only-of-type {\n",
       "        vertical-align: middle;\n",
       "    }\n",
       "\n",
       "    .dataframe tbody tr th {\n",
       "        vertical-align: top;\n",
       "    }\n",
       "\n",
       "    .dataframe thead th {\n",
       "        text-align: right;\n",
       "    }\n",
       "</style>\n",
       "<table border=\"1\" class=\"dataframe\">\n",
       "  <thead>\n",
       "    <tr style=\"text-align: right;\">\n",
       "      <th></th>\n",
       "      <th>id</th>\n",
       "      <th>marca</th>\n",
       "      <th>nombre</th>\n",
       "      <th>presentacion</th>\n",
       "      <th>categoria1</th>\n",
       "      <th>categoria2</th>\n",
       "      <th>categoria3</th>\n",
       "    </tr>\n",
       "  </thead>\n",
       "  <tbody>\n",
       "    <tr>\n",
       "      <th>0</th>\n",
       "      <td>1663</td>\n",
       "      <td>LA ANÓNIMA</td>\n",
       "      <td>Radicheta Atada La Anonima 1 Un</td>\n",
       "      <td>1.0 un</td>\n",
       "      <td>Sin categoria</td>\n",
       "      <td>Sin categoria</td>\n",
       "      <td>Sin categoria</td>\n",
       "    </tr>\n",
       "    <tr>\n",
       "      <th>1</th>\n",
       "      <td>2288</td>\n",
       "      <td>LA ANÓNIMA</td>\n",
       "      <td>Perejil Atado La Anonima 1 Un</td>\n",
       "      <td>1.0 un</td>\n",
       "      <td>Sin categoria</td>\n",
       "      <td>Sin categoria</td>\n",
       "      <td>Sin categoria</td>\n",
       "    </tr>\n",
       "    <tr>\n",
       "      <th>2</th>\n",
       "      <td>205870</td>\n",
       "      <td>SIN MARCA</td>\n",
       "      <td>Ojo de Bife 1 Kg</td>\n",
       "      <td>1.0 kg</td>\n",
       "      <td>Sin categoria</td>\n",
       "      <td>Sin categoria</td>\n",
       "      <td>Sin categoria</td>\n",
       "    </tr>\n",
       "    <tr>\n",
       "      <th>3</th>\n",
       "      <td>205894</td>\n",
       "      <td>SIN MARCA</td>\n",
       "      <td>Milanesa de Peceto Novillito 1 Kg</td>\n",
       "      <td>1.0 kg</td>\n",
       "      <td>Sin categoria</td>\n",
       "      <td>Sin categoria</td>\n",
       "      <td>Sin categoria</td>\n",
       "    </tr>\n",
       "    <tr>\n",
       "      <th>4</th>\n",
       "      <td>205955</td>\n",
       "      <td>SIN MARCA</td>\n",
       "      <td>Chiquizuela Novillito 1 Kg</td>\n",
       "      <td>1.0 kg</td>\n",
       "      <td>Sin categoria</td>\n",
       "      <td>Sin categoria</td>\n",
       "      <td>Sin categoria</td>\n",
       "    </tr>\n",
       "  </tbody>\n",
       "</table>\n",
       "</div>"
      ],
      "text/plain": [
       "       id       marca                             nombre presentacion  \\\n",
       "0    1663  LA ANÓNIMA    Radicheta Atada La Anonima 1 Un       1.0 un   \n",
       "1    2288  LA ANÓNIMA      Perejil Atado La Anonima 1 Un       1.0 un   \n",
       "2  205870   SIN MARCA                   Ojo de Bife 1 Kg       1.0 kg   \n",
       "3  205894   SIN MARCA  Milanesa de Peceto Novillito 1 Kg       1.0 kg   \n",
       "4  205955   SIN MARCA         Chiquizuela Novillito 1 Kg       1.0 kg   \n",
       "\n",
       "      categoria1     categoria2     categoria3  \n",
       "0  Sin categoria  Sin categoria  Sin categoria  \n",
       "1  Sin categoria  Sin categoria  Sin categoria  \n",
       "2  Sin categoria  Sin categoria  Sin categoria  \n",
       "3  Sin categoria  Sin categoria  Sin categoria  \n",
       "4  Sin categoria  Sin categoria  Sin categoria  "
      ]
     },
     "execution_count": 97,
     "metadata": {},
     "output_type": "execute_result"
    }
   ],
   "source": [
    "Producto.head() # the \"nombre\" column I could rename it as \"producto\", so could with the \"id\" column\n",
    "                # as \"producto_id\"\n",
    "                # and clear the redundant information from the \"nombre column\""
   ]
  },
  {
   "cell_type": "code",
   "execution_count": 101,
   "metadata": {},
   "outputs": [],
   "source": [
    "Producto.rename(columns={'id':'producto_id'}, inplace=True) # I rename the \"id\" column\n",
    "Producto.rename(columns={'nombre':'producto'}, inplace=True) # I rename the \"nombre\" column"
   ]
  },
  {
   "cell_type": "code",
   "execution_count": 102,
   "metadata": {},
   "outputs": [
    {
     "data": {
      "text/html": [
       "<div>\n",
       "<style scoped>\n",
       "    .dataframe tbody tr th:only-of-type {\n",
       "        vertical-align: middle;\n",
       "    }\n",
       "\n",
       "    .dataframe tbody tr th {\n",
       "        vertical-align: top;\n",
       "    }\n",
       "\n",
       "    .dataframe thead th {\n",
       "        text-align: right;\n",
       "    }\n",
       "</style>\n",
       "<table border=\"1\" class=\"dataframe\">\n",
       "  <thead>\n",
       "    <tr style=\"text-align: right;\">\n",
       "      <th></th>\n",
       "      <th>producto_id</th>\n",
       "      <th>marca</th>\n",
       "      <th>producto</th>\n",
       "      <th>presentacion</th>\n",
       "      <th>categoria1</th>\n",
       "      <th>categoria2</th>\n",
       "      <th>categoria3</th>\n",
       "    </tr>\n",
       "  </thead>\n",
       "  <tbody>\n",
       "    <tr>\n",
       "      <th>0</th>\n",
       "      <td>1663</td>\n",
       "      <td>LA ANÓNIMA</td>\n",
       "      <td>Radicheta Atada La Anonima 1 Un</td>\n",
       "      <td>1.0 un</td>\n",
       "      <td>Sin categoria</td>\n",
       "      <td>Sin categoria</td>\n",
       "      <td>Sin categoria</td>\n",
       "    </tr>\n",
       "    <tr>\n",
       "      <th>1</th>\n",
       "      <td>2288</td>\n",
       "      <td>LA ANÓNIMA</td>\n",
       "      <td>Perejil Atado La Anonima 1 Un</td>\n",
       "      <td>1.0 un</td>\n",
       "      <td>Sin categoria</td>\n",
       "      <td>Sin categoria</td>\n",
       "      <td>Sin categoria</td>\n",
       "    </tr>\n",
       "    <tr>\n",
       "      <th>2</th>\n",
       "      <td>205870</td>\n",
       "      <td>SIN MARCA</td>\n",
       "      <td>Ojo de Bife 1 Kg</td>\n",
       "      <td>1.0 kg</td>\n",
       "      <td>Sin categoria</td>\n",
       "      <td>Sin categoria</td>\n",
       "      <td>Sin categoria</td>\n",
       "    </tr>\n",
       "    <tr>\n",
       "      <th>3</th>\n",
       "      <td>205894</td>\n",
       "      <td>SIN MARCA</td>\n",
       "      <td>Milanesa de Peceto Novillito 1 Kg</td>\n",
       "      <td>1.0 kg</td>\n",
       "      <td>Sin categoria</td>\n",
       "      <td>Sin categoria</td>\n",
       "      <td>Sin categoria</td>\n",
       "    </tr>\n",
       "    <tr>\n",
       "      <th>4</th>\n",
       "      <td>205955</td>\n",
       "      <td>SIN MARCA</td>\n",
       "      <td>Chiquizuela Novillito 1 Kg</td>\n",
       "      <td>1.0 kg</td>\n",
       "      <td>Sin categoria</td>\n",
       "      <td>Sin categoria</td>\n",
       "      <td>Sin categoria</td>\n",
       "    </tr>\n",
       "  </tbody>\n",
       "</table>\n",
       "</div>"
      ],
      "text/plain": [
       "   producto_id       marca                           producto presentacion  \\\n",
       "0         1663  LA ANÓNIMA    Radicheta Atada La Anonima 1 Un       1.0 un   \n",
       "1         2288  LA ANÓNIMA      Perejil Atado La Anonima 1 Un       1.0 un   \n",
       "2       205870   SIN MARCA                   Ojo de Bife 1 Kg       1.0 kg   \n",
       "3       205894   SIN MARCA  Milanesa de Peceto Novillito 1 Kg       1.0 kg   \n",
       "4       205955   SIN MARCA         Chiquizuela Novillito 1 Kg       1.0 kg   \n",
       "\n",
       "      categoria1     categoria2     categoria3  \n",
       "0  Sin categoria  Sin categoria  Sin categoria  \n",
       "1  Sin categoria  Sin categoria  Sin categoria  \n",
       "2  Sin categoria  Sin categoria  Sin categoria  \n",
       "3  Sin categoria  Sin categoria  Sin categoria  \n",
       "4  Sin categoria  Sin categoria  Sin categoria  "
      ]
     },
     "execution_count": 102,
     "metadata": {},
     "output_type": "execute_result"
    }
   ],
   "source": [
    "Producto.head()"
   ]
  },
  {
   "cell_type": "code",
   "execution_count": 103,
   "metadata": {},
   "outputs": [],
   "source": [
    "Producto.producto = Producto.producto.str.replace('1 Un','') # I replace \"1 Un\" for nothing\n",
    "Producto.producto = Producto.producto.str.replace('1 Kg','') # I replace \"1 Kg\" for nothing"
   ]
  },
  {
   "cell_type": "code",
   "execution_count": 104,
   "metadata": {},
   "outputs": [
    {
     "data": {
      "text/html": [
       "<div>\n",
       "<style scoped>\n",
       "    .dataframe tbody tr th:only-of-type {\n",
       "        vertical-align: middle;\n",
       "    }\n",
       "\n",
       "    .dataframe tbody tr th {\n",
       "        vertical-align: top;\n",
       "    }\n",
       "\n",
       "    .dataframe thead th {\n",
       "        text-align: right;\n",
       "    }\n",
       "</style>\n",
       "<table border=\"1\" class=\"dataframe\">\n",
       "  <thead>\n",
       "    <tr style=\"text-align: right;\">\n",
       "      <th></th>\n",
       "      <th>producto_id</th>\n",
       "      <th>marca</th>\n",
       "      <th>producto</th>\n",
       "      <th>presentacion</th>\n",
       "      <th>categoria1</th>\n",
       "      <th>categoria2</th>\n",
       "      <th>categoria3</th>\n",
       "    </tr>\n",
       "  </thead>\n",
       "  <tbody>\n",
       "    <tr>\n",
       "      <th>0</th>\n",
       "      <td>1663</td>\n",
       "      <td>LA ANÓNIMA</td>\n",
       "      <td>Radicheta Atada La Anonima</td>\n",
       "      <td>1.0 un</td>\n",
       "      <td>Sin categoria</td>\n",
       "      <td>Sin categoria</td>\n",
       "      <td>Sin categoria</td>\n",
       "    </tr>\n",
       "    <tr>\n",
       "      <th>1</th>\n",
       "      <td>2288</td>\n",
       "      <td>LA ANÓNIMA</td>\n",
       "      <td>Perejil Atado La Anonima</td>\n",
       "      <td>1.0 un</td>\n",
       "      <td>Sin categoria</td>\n",
       "      <td>Sin categoria</td>\n",
       "      <td>Sin categoria</td>\n",
       "    </tr>\n",
       "    <tr>\n",
       "      <th>2</th>\n",
       "      <td>205870</td>\n",
       "      <td>SIN MARCA</td>\n",
       "      <td>Ojo de Bife</td>\n",
       "      <td>1.0 kg</td>\n",
       "      <td>Sin categoria</td>\n",
       "      <td>Sin categoria</td>\n",
       "      <td>Sin categoria</td>\n",
       "    </tr>\n",
       "    <tr>\n",
       "      <th>3</th>\n",
       "      <td>205894</td>\n",
       "      <td>SIN MARCA</td>\n",
       "      <td>Milanesa de Peceto Novillito</td>\n",
       "      <td>1.0 kg</td>\n",
       "      <td>Sin categoria</td>\n",
       "      <td>Sin categoria</td>\n",
       "      <td>Sin categoria</td>\n",
       "    </tr>\n",
       "    <tr>\n",
       "      <th>4</th>\n",
       "      <td>205955</td>\n",
       "      <td>SIN MARCA</td>\n",
       "      <td>Chiquizuela Novillito</td>\n",
       "      <td>1.0 kg</td>\n",
       "      <td>Sin categoria</td>\n",
       "      <td>Sin categoria</td>\n",
       "      <td>Sin categoria</td>\n",
       "    </tr>\n",
       "  </tbody>\n",
       "</table>\n",
       "</div>"
      ],
      "text/plain": [
       "   producto_id       marca                       producto presentacion  \\\n",
       "0         1663  LA ANÓNIMA    Radicheta Atada La Anonima        1.0 un   \n",
       "1         2288  LA ANÓNIMA      Perejil Atado La Anonima        1.0 un   \n",
       "2       205870   SIN MARCA                   Ojo de Bife        1.0 kg   \n",
       "3       205894   SIN MARCA  Milanesa de Peceto Novillito        1.0 kg   \n",
       "4       205955   SIN MARCA         Chiquizuela Novillito        1.0 kg   \n",
       "\n",
       "      categoria1     categoria2     categoria3  \n",
       "0  Sin categoria  Sin categoria  Sin categoria  \n",
       "1  Sin categoria  Sin categoria  Sin categoria  \n",
       "2  Sin categoria  Sin categoria  Sin categoria  \n",
       "3  Sin categoria  Sin categoria  Sin categoria  \n",
       "4  Sin categoria  Sin categoria  Sin categoria  "
      ]
     },
     "execution_count": 104,
     "metadata": {},
     "output_type": "execute_result"
    }
   ],
   "source": [
    "Producto.head()"
   ]
  },
  {
   "cell_type": "code",
   "execution_count": 105,
   "metadata": {},
   "outputs": [
    {
     "name": "stdout",
     "output_type": "stream",
     "text": [
      "<class 'pandas.core.frame.DataFrame'>\n",
      "RangeIndex: 72038 entries, 0 to 72037\n",
      "Data columns (total 7 columns):\n",
      " #   Column        Non-Null Count  Dtype \n",
      "---  ------        --------------  ----- \n",
      " 0   producto_id   72038 non-null  int64 \n",
      " 1   marca         72036 non-null  object\n",
      " 2   producto      72036 non-null  object\n",
      " 3   presentacion  72036 non-null  object\n",
      " 4   categoria1    72038 non-null  object\n",
      " 5   categoria2    72038 non-null  object\n",
      " 6   categoria3    72038 non-null  object\n",
      "dtypes: int64(1), object(6)\n",
      "memory usage: 3.8+ MB\n"
     ]
    }
   ],
   "source": [
    "Producto.info()"
   ]
  },
  {
   "cell_type": "markdown",
   "metadata": {},
   "source": [
    "## I check the \"Sucursal\" dataset"
   ]
  },
  {
   "cell_type": "code",
   "execution_count": 99,
   "metadata": {},
   "outputs": [
    {
     "name": "stdout",
     "output_type": "stream",
     "text": [
      "<class 'pandas.core.frame.DataFrame'>\n",
      "RangeIndex: 2333 entries, 0 to 2332\n",
      "Data columns (total 12 columns):\n",
      " #   Column               Non-Null Count  Dtype  \n",
      "---  ------               --------------  -----  \n",
      " 0   id                   2333 non-null   object \n",
      " 1   comercioId           2333 non-null   int64  \n",
      " 2   banderaId            2333 non-null   int64  \n",
      " 3   banderaDescripcion   2333 non-null   object \n",
      " 4   comercioRazonSocial  2333 non-null   object \n",
      " 5   provincia            2333 non-null   object \n",
      " 6   localidad            2333 non-null   object \n",
      " 7   direccion            2333 non-null   object \n",
      " 8   lat                  2333 non-null   float64\n",
      " 9   lng                  2333 non-null   float64\n",
      " 10  sucursalNombre       2333 non-null   object \n",
      " 11  sucursalTipo         2333 non-null   object \n",
      "dtypes: float64(2), int64(2), object(8)\n",
      "memory usage: 218.8+ KB\n"
     ]
    }
   ],
   "source": [
    "Sucursal.info()"
   ]
  },
  {
   "cell_type": "code",
   "execution_count": 100,
   "metadata": {},
   "outputs": [
    {
     "data": {
      "text/html": [
       "<div>\n",
       "<style scoped>\n",
       "    .dataframe tbody tr th:only-of-type {\n",
       "        vertical-align: middle;\n",
       "    }\n",
       "\n",
       "    .dataframe tbody tr th {\n",
       "        vertical-align: top;\n",
       "    }\n",
       "\n",
       "    .dataframe thead th {\n",
       "        text-align: right;\n",
       "    }\n",
       "</style>\n",
       "<table border=\"1\" class=\"dataframe\">\n",
       "  <thead>\n",
       "    <tr style=\"text-align: right;\">\n",
       "      <th></th>\n",
       "      <th>id</th>\n",
       "      <th>comercioId</th>\n",
       "      <th>banderaId</th>\n",
       "      <th>banderaDescripcion</th>\n",
       "      <th>comercioRazonSocial</th>\n",
       "      <th>provincia</th>\n",
       "      <th>localidad</th>\n",
       "      <th>direccion</th>\n",
       "      <th>lat</th>\n",
       "      <th>lng</th>\n",
       "      <th>sucursalNombre</th>\n",
       "      <th>sucursalTipo</th>\n",
       "    </tr>\n",
       "  </thead>\n",
       "  <tbody>\n",
       "    <tr>\n",
       "      <th>0</th>\n",
       "      <td>1-1-7</td>\n",
       "      <td>1</td>\n",
       "      <td>1</td>\n",
       "      <td>Super MAMI</td>\n",
       "      <td>Dinosaurio S.A.</td>\n",
       "      <td>AR-X</td>\n",
       "      <td>SALSIPUEDES</td>\n",
       "      <td>E53 1011 None</td>\n",
       "      <td>-31.126667</td>\n",
       "      <td>-64.295250</td>\n",
       "      <td>Super Mami 4</td>\n",
       "      <td>Hipermercado</td>\n",
       "    </tr>\n",
       "    <tr>\n",
       "      <th>1</th>\n",
       "      <td>10-1-1</td>\n",
       "      <td>10</td>\n",
       "      <td>1</td>\n",
       "      <td>Hipermercado Carrefour</td>\n",
       "      <td>INC S.A.</td>\n",
       "      <td>AR-B</td>\n",
       "      <td>San Isidro</td>\n",
       "      <td>Bernardo De Irigoyen 2647</td>\n",
       "      <td>-34.491345</td>\n",
       "      <td>-58.589025</td>\n",
       "      <td>San Isidro</td>\n",
       "      <td>Hipermercado</td>\n",
       "    </tr>\n",
       "    <tr>\n",
       "      <th>2</th>\n",
       "      <td>10-1-10</td>\n",
       "      <td>10</td>\n",
       "      <td>1</td>\n",
       "      <td>Hipermercado Carrefour</td>\n",
       "      <td>INC S.A.</td>\n",
       "      <td>AR-B</td>\n",
       "      <td>Hurlingham</td>\n",
       "      <td>Av. Vergara 1910</td>\n",
       "      <td>-34.620610</td>\n",
       "      <td>-58.633769</td>\n",
       "      <td>Villa Tesei</td>\n",
       "      <td>Hipermercado</td>\n",
       "    </tr>\n",
       "    <tr>\n",
       "      <th>3</th>\n",
       "      <td>10-1-11</td>\n",
       "      <td>10</td>\n",
       "      <td>1</td>\n",
       "      <td>Hipermercado Carrefour</td>\n",
       "      <td>INC S.A.</td>\n",
       "      <td>AR-B</td>\n",
       "      <td>Malvinas Argentinas</td>\n",
       "      <td>Av. Arturo Illia 3770</td>\n",
       "      <td>-34.528883</td>\n",
       "      <td>-58.701631</td>\n",
       "      <td>Malvinas Argentinas</td>\n",
       "      <td>Hipermercado</td>\n",
       "    </tr>\n",
       "    <tr>\n",
       "      <th>4</th>\n",
       "      <td>10-1-112</td>\n",
       "      <td>10</td>\n",
       "      <td>1</td>\n",
       "      <td>Hipermercado Carrefour</td>\n",
       "      <td>INC S.A.</td>\n",
       "      <td>AR-A</td>\n",
       "      <td>Salta</td>\n",
       "      <td>20 De Febrero 37</td>\n",
       "      <td>-24.789072</td>\n",
       "      <td>-65.413699</td>\n",
       "      <td>Salta</td>\n",
       "      <td>Hipermercado</td>\n",
       "    </tr>\n",
       "  </tbody>\n",
       "</table>\n",
       "</div>"
      ],
      "text/plain": [
       "         id  comercioId  banderaId      banderaDescripcion  \\\n",
       "0     1-1-7           1          1              Super MAMI   \n",
       "1    10-1-1          10          1  Hipermercado Carrefour   \n",
       "2   10-1-10          10          1  Hipermercado Carrefour   \n",
       "3   10-1-11          10          1  Hipermercado Carrefour   \n",
       "4  10-1-112          10          1  Hipermercado Carrefour   \n",
       "\n",
       "  comercioRazonSocial provincia            localidad  \\\n",
       "0     Dinosaurio S.A.      AR-X          SALSIPUEDES   \n",
       "1            INC S.A.      AR-B           San Isidro   \n",
       "2            INC S.A.      AR-B           Hurlingham   \n",
       "3            INC S.A.      AR-B  Malvinas Argentinas   \n",
       "4            INC S.A.      AR-A                Salta   \n",
       "\n",
       "                   direccion        lat        lng       sucursalNombre  \\\n",
       "0              E53 1011 None -31.126667 -64.295250         Super Mami 4   \n",
       "1  Bernardo De Irigoyen 2647 -34.491345 -58.589025           San Isidro   \n",
       "2           Av. Vergara 1910 -34.620610 -58.633769          Villa Tesei   \n",
       "3      Av. Arturo Illia 3770 -34.528883 -58.701631  Malvinas Argentinas   \n",
       "4           20 De Febrero 37 -24.789072 -65.413699                Salta   \n",
       "\n",
       "   sucursalTipo  \n",
       "0  Hipermercado  \n",
       "1  Hipermercado  \n",
       "2  Hipermercado  \n",
       "3  Hipermercado  \n",
       "4  Hipermercado  "
      ]
     },
     "execution_count": 100,
     "metadata": {},
     "output_type": "execute_result"
    }
   ],
   "source": [
    "Sucursal.head()"
   ]
  },
  {
   "cell_type": "code",
   "execution_count": 101,
   "metadata": {},
   "outputs": [
    {
     "data": {
      "text/plain": [
       "array(['SALSIPUEDES', 'San Isidro', 'Hurlingham', 'Malvinas Argentinas',\n",
       "       'Salta', 'San Justo', 'San Juan', 'Comodoro Rivadavia',\n",
       "       'General Roca', 'Olavarría', 'Río Grande', 'Santa Rosa',\n",
       "       'Bariloche', 'San Martín', 'San Nicolás', 'Neuquén', 'Corrientes',\n",
       "       'Monte Grande', 'Ushuaia', 'Trelew', 'Guaymallen',\n",
       "       'San Fernando del Valle de Catamarca', 'Puerto Madryn', 'Rosario',\n",
       "       'Maschwitz', 'Vicente López', 'Olivos', 'Moreno', 'Zárate',\n",
       "       'Ciudad Autónoma de Buenos Aires', 'San Miguel', 'Mar del Plata',\n",
       "       'Bernal', 'Pergamino', 'Adrogué', 'Lomas de Zamora', 'Campana',\n",
       "       'Concordia', 'Don Torcuato', 'Villa Mercedes', 'General Pacheco',\n",
       "       'Jardin Espinoza', 'Gualeguaychu', 'Luján', 'San Fernando',\n",
       "       'Venado Tuerto', 'Pilar', 'Mendoza', 'Ituzaingó',\n",
       "       'General Rodríguez', 'Tandil', 'Temperley', 'Merlo', 'Haedo',\n",
       "       'Resistencia', 'San Miguel de Tucumán', 'Martín Coronado',\n",
       "       'Río Gallegos', 'Florencio Varela', 'Quintas de Arguello', 'Tigre',\n",
       "       'Villa Allende Lomas', 'Formosa', 'Glew', 'Balcarce', 'Santa Cruz',\n",
       "       'Quilmes', 'La Plata', 'Villa Urquiza', 'Avellaneda',\n",
       "       'Bahía Blanca', 'Río Cuarto', 'Jujuy', 'Paraná', 'La Rioja',\n",
       "       'San Luis', 'Lanús', 'Escobar', 'Carapachay', 'Chilavert',\n",
       "       'Ciudad Jardín del Palomar', 'Martínez', 'Villa Ballester',\n",
       "       'Acassuso', 'José León Suárez', 'Tupungato', 'Luján de Cuyo',\n",
       "       'Godoy Cruz', 'Alto Verde', 'Yerba Buena', 'Jose León Suárez',\n",
       "       'Adolfo Sordeaux', 'Victoria', 'Del Viso', 'Maquinista Savio',\n",
       "       'Villa Adelina', 'Beccar', 'Los Polvorines', 'Castelar', 'Munro',\n",
       "       'Morón', 'Don Bosco', 'Monte Chingolo', 'Burzaco', 'Longchamps',\n",
       "       'Almirante Brown', 'Ezpeleta', 'Banfield', 'Gerli',\n",
       "       'Remedios de Escalada', 'Budge', 'Valentín Alsina', 'Wilde',\n",
       "       'Isidro Casanova', 'Villa Bosh', 'Gregorio de Laferrere',\n",
       "       'Ramos Mejía', 'Villa Celina', 'La Matanza', 'Palomar', 'Tapiales',\n",
       "       'San Antonio de Padua', 'Paso del Rey', 'Grand Bourg',\n",
       "       'Berazategui', 'Ezeiza', '3 de Febrero', 'Córdoba', 'Derqui',\n",
       "       'LA RIOJA', 'SALTA', 'SANTIAGO DEL ESTERO', 'TIGRE', 'MAIPU',\n",
       "       'NEUQUEN', 'SAN CARLOS DE BARILOCHE', 'SANTA ROSA', 'FORMOSA',\n",
       "       'SAN FERNANDO DEL VALLE DE CATAMARCA', 'ALMIRANTE BROWN', 'MORENO',\n",
       "       'SAN SALVADOR DE JUJUY', 'INGENIERO PABLO NOGUES',\n",
       "       'BANDA DEL RIO SALI', 'CASEROS', 'CIPOLLETTI', 'PARANA', 'TRELEW',\n",
       "       'LANUS', 'POSADAS', 'SAN RAMON DE LA NUEVA ORAN', 'VIEDMA',\n",
       "       'VILLA MERCEDES', 'VILLA NUEVA', 'GONZALEZ CATAN',\n",
       "       'BARRIO MATIENZO *', 'JUNIN', 'GENERAL SAN MARTIN', 'GOYA',\n",
       "       'BARRIO CASTAÑARES', 'TEMPERLEY', 'GENERAL PICO', 'TARTAGAL',\n",
       "       'BARRIO RAWSON', 'SAN MIGUEL DE TUCUMAN', 'CORRIENTES',\n",
       "       'CONCEPCION', 'SAN JUAN', 'BARRIO AERONAUTICO *',\n",
       "       'PRESIDENCIA ROQUE SAENZ PEÑA', 'PUERTO MADRYN', 'CLAYPOLE',\n",
       "       'SAN PEDRO', 'CLORINDA', 'GENERAL ROCA', 'MORON',\n",
       "       'CIUDAD AUTONOMA BUENOS AIRES', 'JOSE CLEMENTE PAZ', 'SAN MARTIN',\n",
       "       'WILLIAMS MORRIS *', 'VILLA SANTOS TESEI', 'PERGAMINO',\n",
       "       'SAN VICENTE', 'RIO CUARTO', 'SAN LUIS', 'SAN FERNANDO',\n",
       "       'MENDOZA CIUDAD', 'BARRIO RIVADAVIA', 'CIUDAD DE CORDOBA NORTE',\n",
       "       'LUJAN', 'SARANDI', 'TABLADA', 'BARRIO EL DORADO',\n",
       "       'GREGORIO DE LAFERRERE', 'OLAVARRIA', 'COMODORO RIVADAVIA',\n",
       "       'RESISTENCIA', 'GODOY CRUZ', 'PILAR', 'SANTOS LUGARES',\n",
       "       'SAN JUSTO', 'AVELLANEDA', 'LA PLATA NOROESTE DE LA CALLE 50',\n",
       "       'BAHIA BLANCA', 'SANTA FE', 'VILLANUEVA', 'Capital Federal',\n",
       "       'Lomas De Zamora', 'Parana', 'V Illa Lugano', 'San Martin',\n",
       "       'Caballito', 'Ciudad De Santa Fe', 'Lugano', 'Bella Vista',\n",
       "       'Cdad. De Bs.As', 'Ciudadela', 'Gonzalez Catan', 'Jose C Paz',\n",
       "       'Parque Chacabuco', 'Gral Madariaga', 'Cuidad De Santa Fe', 'Once',\n",
       "       'Saavedra', 'Neuquen', 'Lanus', 'Vicente Lopez', 'Constitucion',\n",
       "       'La Horqueta', 'Garin', 'Paternal', 'Belgrano', 'Barrio Norte',\n",
       "       'General Lavalle', 'San Antonio De Padua', 'Moron', 'Caba',\n",
       "       'Palermo', 'San Telmo', 'Villa Devoto', 'Florida', 'Liniers',\n",
       "       'Flores Sur', 'Almagro', 'Boedo', 'Flores', 'Mar De Ajo',\n",
       "       'Ramos Mejia', 'Devoto', 'Santos Lugares', 'Floresta',\n",
       "       'Tribunales', 'Pompeya', 'Sarandi', 'Las Lomas', 'Punta Chica',\n",
       "       'Parque Patricios', 'San Cristobal', 'Villa Crespo', 'Villa Luro',\n",
       "       'Mataderos', 'Abasto', 'Vte Lopez', 'Fisherton', 'Plottier',\n",
       "       'Choele Choel', 'Lamarque', 'Luis Beltran', 'Trenque Lauquen',\n",
       "       'Catriel', 'Pehuajó', 'Allen', 'Zapala', '9 de Julio', 'Lobería',\n",
       "       'Cutral Co', 'Batán', 'Cinco Saltos', 'Andacollo', 'Loncopué',\n",
       "       'San Martín de los Andes', 'Viedma', 'Cipolletti', 'Bahia Blanca',\n",
       "       'Las Lajas', 'Villa Gesell', 'Chos Malal', 'Junín de los Andes',\n",
       "       'NECOCHEA', 'Pedro Luro', 'Guatrache', 'Punta Alta', 'Azul',\n",
       "       'Pigue', 'Coronel Dorrego', 'Coronel Suarez', 'Tres Arroyos',\n",
       "       'Coronel Pringles', 'General Cerri', 'Puan', 'Necochea',\n",
       "       'Benito Juarez', 'Tornquist', 'Río Colorado', 'General Acha',\n",
       "       'General Lamadrid', 'Villa Regina', 'Puerto Belgrano',\n",
       "       'Centenario', 'Cabildo', 'Quequen', 'Casbas', 'Ingeniero Huergo',\n",
       "       'General Pico', 'General Villegas', 'Fernandez Oro',\n",
       "       'Monte Hermoso', 'Mayor Buratovich', 'Médanos', 'Villalonga',\n",
       "       'Bolivar', 'Henderson', 'Laprida', 'Chimpay', 'Alta Gracia',\n",
       "       'Villa Carlos Paz', 'Villa General Belgrano',\n",
       "       'Santa Rosa De Calamuchita', 'Caseros', 'Adrogue', 'Tablada',\n",
       "       'Ituizango', 'Lomas Del Mirador', 'Pablo Podesta', 'Chascomus',\n",
       "       'Rafael Calzada', 'Martin Coronado', 'Dolores', 'Villa Tesei',\n",
       "       'General Rodriguez', 'Ensenada', 'Jose C. Paz', 'San Vicente',\n",
       "       'Gualeguay', 'Villaguay', 'Chajari', 'Bell Ville', 'Marcos Juarez',\n",
       "       'Parana-Entre Rios', 'La Paz', 'Concepc Del Uruguay',\n",
       "       'Rio Tercero', 'Santa Fe', 'Villa Maria', 'Esquina',\n",
       "       'Monte Caseros', 'Curuzu-Cuatia', 'Santo Tome', 'Goya',\n",
       "       'Luis Guillon', 'Arroyito', 'Mercedes', 'Bella Vista (Ctes.)',\n",
       "       'Miramar', 'Trujui', 'Ingeniero Maschwitz', '9 De Abril',\n",
       "       'La Reja', 'Llavallol', 'Adolfo Sourdeaux', 'Matheu',\n",
       "       'Villa Madero', 'Claypole', 'Villa Bosch', 'Benavidez', 'Crespo',\n",
       "       'Federacion', 'Federal', 'Monte', 'Colon',\n",
       "       'San Francisco Dpto S Just', 'Almafuerte', 'Villa Del Rosario',\n",
       "       'Hernando', 'La Carlota', 'Oncativo', 'Diamante', 'Leones',\n",
       "       'Ramirez', 'Loberia', 'Virreyes', 'Boulogne',\n",
       "       'San Antonio De Areco', 'Mar Del Plata', 'San Francisco Solano',\n",
       "       'Coronel Brandsen', 'Francisco Alvarez', 'Maq Francisco Savio',\n",
       "       'Loma Verde', 'Ingeniero Pablo Nogues', 'Villa Rosa', 'Maipu',\n",
       "       'Ranchos', 'Las Flores', 'Villa Constitucion', 'Bragado', 'Zarate',\n",
       "       'Capitan Sarmiento', 'Firmat', '25 De Mayo', 'Rafael Castillo',\n",
       "       'Carlos Casares', 'Los Toldos', 'Rojas', 'Arrecifes', 'Chivilcoy',\n",
       "       'General Belgrano', 'Roque Perez', 'Navarro', 'Lobos', 'Ayacucho',\n",
       "       'San Andres De Giles', 'San Pedro', 'General Madariaga',\n",
       "       'Jose Manuel Marmol', 'San Nicolas', 'Chacabuco', 'Arroyo Seco',\n",
       "       'Daireaux', 'Olavarria', 'Pehuajo', 'Carmen De Areco', 'Nogoya',\n",
       "       'Rosario Del Tala', 'Villa San Jose', 'Villa Elisa', 'CaÃ±uelas',\n",
       "       'Gral Pinto', 'America', 'Berisso', 'Funes', 'Rauch', 'Viale',\n",
       "       'Coronel Vidal', 'Lujan', 'Macia', 'El Palomar', 'Las Heras',\n",
       "       'Bovril', 'General Galarza', 'Santa Elena Dpto La Paz',\n",
       "       'San Salvador', 'Villa Hernandarias', 'Colonia Cerrito',\n",
       "       'Loma Hermosa', 'Laferrere', 'Tortuguitas', 'Aldo Bonzi',\n",
       "       'Virrey Del Pino', 'El Jaguel Pdo Esteb Eche',\n",
       "       'Joaquin V Gonzalez', 'Metan', 'Jose Leon Suarez', 'Alberti',\n",
       "       'Alejandro Korn', 'Paso Del Rey', 'La Banda', 'Capital', 'Posadas',\n",
       "       'Rafaela', 'San Miguel de Tucuman', 'Resisitencia', 'Rawson',\n",
       "       'Villa Nueva', 'Sampacho', 'Juana Koslay', 'La Punta', 'ZARATE',\n",
       "       'ANTEQUERAS', 'RIO NEGRO', 'LAS FLORES', 'USPALLATA',\n",
       "       'San Carlos de Bariloche', 'Esquel', 'El Bolson', 'Caleta Olivia',\n",
       "       'Rio Gallegos', 'Rio Grande', 'San Antonio Oeste',\n",
       "       'Carmen de Patagones', 'Plaza Huincul', 'Junin', 'Salto',\n",
       "       'Puerto Deseado', 'Lincoln', 'San Martin de los Andes',\n",
       "       'Sarmiento', 'Rufino', 'Florentino Ameghino', 'Laboulaye',\n",
       "       'El Calafate', 'Yacimientos Rio Turbio', 'Pico Truncado',\n",
       "       'Junin de los Andes', 'Intendente Alvear', 'Esperanza',\n",
       "       'San Jorge', 'Sierra Grande', 'Trevelin', 'Rincon de los Sauces',\n",
       "       'Villa la Angostura', 'Rada Tilly', 'Playa Union', 'Piedra Buena',\n",
       "       'Eduardo Castex', 'San Julian', 'Gobernador Gregores',\n",
       "       '28 de Noviembre', 'Gaiman', 'Las Grutas', 'Tolhuin',\n",
       "       'Perito Moreno', 'Rio Colorado', 'Morteros', 'Lago Puelo',\n",
       "       'Puerto Santa Cruz', 'Marcos Juares', 'Aguada San Roque',\n",
       "       'Pinamar', 'Ciudad Autonoma de Buenos Aires', 'Esteban Echeverria',\n",
       "       'Matanza', 'General Pueyrredon', 'Cordoba', 'Villa Allende',\n",
       "       'General San Martin', 'ARROYO SECO',\n",
       "       'SAN ISIDRO ,PTDO. SAN ISIDRO', 'LA PLATA', 'MONTE GRANDE',\n",
       "       'MERLO', 'SAN MIGUEL', 'LOMAS DE ZAMORA', 'QUILMES', 'OLIVOS',\n",
       "       'FLORENCIO VARELA', 'VIRREYES', 'CASEROS ,PARTIDO 3 DE FEBRERO',\n",
       "       'RAMOS MEJIA', 'BANFIELD', 'ADROGUE', 'CAMPANA',\n",
       "       'SAN FRANCISCO SOLANO', 'MUNRO', 'JOSE C. PAZ', 'GRAND BOURG',\n",
       "       'HURLINGHAM', 'SAN MARTIN. PTO.GRAL SAN MARTIN', 'MAR DEL PLATA',\n",
       "       'Barracas', 'CAPITAL FEDERAL', 'MARTINEZ', 'SAN ISIDRO',\n",
       "       'CHASCOMUS', 'ITUZAINGO', 'CIUDADELA', 'ACASSUSO', 'PINAMAR',\n",
       "       'DEL VISO', 'LAS ARMAS', 'TRISTAN SUAREZ', 'BERAZATEGUI',\n",
       "       'ENSENADA', 'GERLI', 'REMEDIOS DE ESCALADA', 'Capitán Sarmiento',\n",
       "       'Saladillo', 'General Alvear', '25 de Mayo', 'Tapalque',\n",
       "       'Carmen de Patagones ', 'Stroeder            ',\n",
       "       'San Salvador de Jujuy', 'Perico', 'San Pedro de Jujuy',\n",
       "       'Libertador Gral. San Martin', 'Palpala',\n",
       "       'San Ramon de la Nueva Oran', 'S.F.Solano', 'CABA',\n",
       "       'VILLA DOLORES', 'RIO SEGUNDO', 'VILLA ALLENDE', 'CORDOBA',\n",
       "       'DEAN FUNES', 'LAS VARILLAS', 'STA.ROSA CALAMUCHITA', 'RECREO',\n",
       "       'FRIAS', 'LA FALDA', 'MORTEROS', 'RIO CEBALLOS', 'CARLOS PAZ',\n",
       "       'CURA BROCHERO', 'MINA CLAVERO', 'CAPILLA DEL MONTE', 'UNQUILLO',\n",
       "       'LA CUMBRE', 'VILLA DEL ROSARIO', 'JESUS MARIA', 'jesus maria',\n",
       "       'CRUZ DEL EJE', 'Valle Hermoso', 'ORAN', 'SAN ANTONIO DE PADUA',\n",
       "       'CASTELAR', 'MERCEDES', 'VILLA NUEVA DE GUAYMALLEN', 'LAS HERAS',\n",
       "       'MENDOZA', 'TUNUYAN', 'SAN RAFAEL', 'LUJAN DE CUYO', 'VILLA MARIA',\n",
       "       'SAN FDO DEL VALLE DE CATAMARCA', 'RODEO DE LA CRUZ', 'FUNES',\n",
       "       'SAN FRANCISCO', 'BELL VILLE', 'MARCOS JUAREZ',\n",
       "       'SAN CLEMENTE DEL TUYU', 'TUPUNGATO', 'EUGENIO BUSTOS', 'ROJAS',\n",
       "       'SALADILLO', 'CHAJARI', 'GUALEGUAYCHU', 'RIO TERCERO',\n",
       "       'PASO DE LOS LIBRES', 'GENERAL PACHECO', 'YERBA BUENA', 'LOBOS',\n",
       "       'CAÑUELAS', 'TRES ARROYOS', 'TANDIL', 'TAFI VIEJO', 'LEDESMA',\n",
       "       'CHIVILCOY', 'GENERAL ALVEAR', 'CONCORDIA',\n",
       "       'SAN JOSE DE GUAYMALLEN', 'MONTEROS VIEJO',\n",
       "       'JUAN BAUTISTA ALBERDI', 'MALARGUE', 'TAPIALES', 'MIRAMAR',\n",
       "       'CITY BELL', 'BELLA VISTA', 'VILLA CARLOS PAZ',\n",
       "       'SAN BERNARDO DEL TUYU', 'VICENTE LOPEZ', 'VILLA GESELL',\n",
       "       'COSQUIN', 'TORTUGUITAS', 'ALTA GRACIA', 'CANNING',\n",
       "       'VENADO TUERTO', 'ZONA DELTA TIGRE', 'LLAVALLOL',\n",
       "       'VILLA BALLESTER', 'QUILMES OESTE', 'BELEN DE ESCOBAR', 'ROSARIO',\n",
       "       'CARRODILLA  LA PUNTILLA'], dtype=object)"
      ]
     },
     "execution_count": 101,
     "metadata": {},
     "output_type": "execute_result"
    }
   ],
   "source": [
    "pd.unique(Sucursal.localidad) # There are many localities in upper case"
   ]
  },
  {
   "cell_type": "code",
   "execution_count": 102,
   "metadata": {},
   "outputs": [],
   "source": [
    "Sucursal.localidad = Sucursal.localidad.str.title() # I normalize the localities names"
   ]
  },
  {
   "cell_type": "code",
   "execution_count": 103,
   "metadata": {},
   "outputs": [
    {
     "data": {
      "text/plain": [
       "array(['Salsipuedes', 'San Isidro', 'Hurlingham', 'Malvinas Argentinas',\n",
       "       'Salta', 'San Justo', 'San Juan', 'Comodoro Rivadavia',\n",
       "       'General Roca', 'Olavarría', 'Río Grande', 'Santa Rosa',\n",
       "       'Bariloche', 'San Martín', 'San Nicolás', 'Neuquén', 'Corrientes',\n",
       "       'Monte Grande', 'Ushuaia', 'Trelew', 'Guaymallen',\n",
       "       'San Fernando Del Valle De Catamarca', 'Puerto Madryn', 'Rosario',\n",
       "       'Maschwitz', 'Vicente López', 'Olivos', 'Moreno', 'Zárate',\n",
       "       'Ciudad Autónoma De Buenos Aires', 'San Miguel', 'Mar Del Plata',\n",
       "       'Bernal', 'Pergamino', 'Adrogué', 'Lomas De Zamora', 'Campana',\n",
       "       'Concordia', 'Don Torcuato', 'Villa Mercedes', 'General Pacheco',\n",
       "       'Jardin Espinoza', 'Gualeguaychu', 'Luján', 'San Fernando',\n",
       "       'Venado Tuerto', 'Pilar', 'Mendoza', 'Ituzaingó',\n",
       "       'General Rodríguez', 'Tandil', 'Temperley', 'Merlo', 'Haedo',\n",
       "       'Resistencia', 'San Miguel De Tucumán', 'Martín Coronado',\n",
       "       'Río Gallegos', 'Florencio Varela', 'Quintas De Arguello', 'Tigre',\n",
       "       'Villa Allende Lomas', 'Formosa', 'Glew', 'Balcarce', 'Santa Cruz',\n",
       "       'Quilmes', 'La Plata', 'Villa Urquiza', 'Avellaneda',\n",
       "       'Bahía Blanca', 'Río Cuarto', 'Jujuy', 'Paraná', 'La Rioja',\n",
       "       'San Luis', 'Lanús', 'Escobar', 'Carapachay', 'Chilavert',\n",
       "       'Ciudad Jardín Del Palomar', 'Martínez', 'Villa Ballester',\n",
       "       'Acassuso', 'José León Suárez', 'Tupungato', 'Luján De Cuyo',\n",
       "       'Godoy Cruz', 'Alto Verde', 'Yerba Buena', 'Jose León Suárez',\n",
       "       'Adolfo Sordeaux', 'Victoria', 'Del Viso', 'Maquinista Savio',\n",
       "       'Villa Adelina', 'Beccar', 'Los Polvorines', 'Castelar', 'Munro',\n",
       "       'Morón', 'Don Bosco', 'Monte Chingolo', 'Burzaco', 'Longchamps',\n",
       "       'Almirante Brown', 'Ezpeleta', 'Banfield', 'Gerli',\n",
       "       'Remedios De Escalada', 'Budge', 'Valentín Alsina', 'Wilde',\n",
       "       'Isidro Casanova', 'Villa Bosh', 'Gregorio De Laferrere',\n",
       "       'Ramos Mejía', 'Villa Celina', 'La Matanza', 'Palomar', 'Tapiales',\n",
       "       'San Antonio De Padua', 'Paso Del Rey', 'Grand Bourg',\n",
       "       'Berazategui', 'Ezeiza', '3 De Febrero', 'Córdoba', 'Derqui',\n",
       "       'Santiago Del Estero', 'Maipu', 'Neuquen',\n",
       "       'San Carlos De Bariloche', 'San Salvador De Jujuy',\n",
       "       'Ingeniero Pablo Nogues', 'Banda Del Rio Sali', 'Caseros',\n",
       "       'Cipolletti', 'Parana', 'Lanus', 'Posadas',\n",
       "       'San Ramon De La Nueva Oran', 'Viedma', 'Villa Nueva',\n",
       "       'Gonzalez Catan', 'Barrio Matienzo *', 'Junin',\n",
       "       'General San Martin', 'Goya', 'Barrio Castañares', 'General Pico',\n",
       "       'Tartagal', 'Barrio Rawson', 'San Miguel De Tucuman', 'Concepcion',\n",
       "       'Barrio Aeronautico *', 'Presidencia Roque Saenz Peña', 'Claypole',\n",
       "       'San Pedro', 'Clorinda', 'Moron', 'Ciudad Autonoma Buenos Aires',\n",
       "       'Jose Clemente Paz', 'San Martin', 'Williams Morris *',\n",
       "       'Villa Santos Tesei', 'San Vicente', 'Rio Cuarto',\n",
       "       'Mendoza Ciudad', 'Barrio Rivadavia', 'Ciudad De Cordoba Norte',\n",
       "       'Lujan', 'Sarandi', 'Tablada', 'Barrio El Dorado', 'Olavarria',\n",
       "       'Santos Lugares', 'La Plata Noroeste De La Calle 50',\n",
       "       'Bahia Blanca', 'Santa Fe', 'Villanueva', 'Capital Federal',\n",
       "       'V Illa Lugano', 'Caballito', 'Ciudad De Santa Fe', 'Lugano',\n",
       "       'Bella Vista', 'Cdad. De Bs.As', 'Ciudadela', 'Jose C Paz',\n",
       "       'Parque Chacabuco', 'Gral Madariaga', 'Cuidad De Santa Fe', 'Once',\n",
       "       'Saavedra', 'Vicente Lopez', 'Constitucion', 'La Horqueta',\n",
       "       'Garin', 'Paternal', 'Belgrano', 'Barrio Norte', 'General Lavalle',\n",
       "       'Caba', 'Palermo', 'San Telmo', 'Villa Devoto', 'Florida',\n",
       "       'Liniers', 'Flores Sur', 'Almagro', 'Boedo', 'Flores',\n",
       "       'Mar De Ajo', 'Ramos Mejia', 'Devoto', 'Floresta', 'Tribunales',\n",
       "       'Pompeya', 'Las Lomas', 'Punta Chica', 'Parque Patricios',\n",
       "       'San Cristobal', 'Villa Crespo', 'Villa Luro', 'Mataderos',\n",
       "       'Abasto', 'Vte Lopez', 'Fisherton', 'Plottier', 'Choele Choel',\n",
       "       'Lamarque', 'Luis Beltran', 'Trenque Lauquen', 'Catriel',\n",
       "       'Pehuajó', 'Allen', 'Zapala', '9 De Julio', 'Lobería', 'Cutral Co',\n",
       "       'Batán', 'Cinco Saltos', 'Andacollo', 'Loncopué',\n",
       "       'San Martín De Los Andes', 'Las Lajas', 'Villa Gesell',\n",
       "       'Chos Malal', 'Junín De Los Andes', 'Necochea', 'Pedro Luro',\n",
       "       'Guatrache', 'Punta Alta', 'Azul', 'Pigue', 'Coronel Dorrego',\n",
       "       'Coronel Suarez', 'Tres Arroyos', 'Coronel Pringles',\n",
       "       'General Cerri', 'Puan', 'Benito Juarez', 'Tornquist',\n",
       "       'Río Colorado', 'General Acha', 'General Lamadrid', 'Villa Regina',\n",
       "       'Puerto Belgrano', 'Centenario', 'Cabildo', 'Quequen', 'Casbas',\n",
       "       'Ingeniero Huergo', 'General Villegas', 'Fernandez Oro',\n",
       "       'Monte Hermoso', 'Mayor Buratovich', 'Médanos', 'Villalonga',\n",
       "       'Bolivar', 'Henderson', 'Laprida', 'Chimpay', 'Alta Gracia',\n",
       "       'Villa Carlos Paz', 'Villa General Belgrano',\n",
       "       'Santa Rosa De Calamuchita', 'Adrogue', 'Ituizango',\n",
       "       'Lomas Del Mirador', 'Pablo Podesta', 'Chascomus',\n",
       "       'Rafael Calzada', 'Martin Coronado', 'Dolores', 'Villa Tesei',\n",
       "       'General Rodriguez', 'Ensenada', 'Jose C. Paz', 'Gualeguay',\n",
       "       'Villaguay', 'Chajari', 'Bell Ville', 'Marcos Juarez',\n",
       "       'Parana-Entre Rios', 'La Paz', 'Concepc Del Uruguay',\n",
       "       'Rio Tercero', 'Villa Maria', 'Esquina', 'Monte Caseros',\n",
       "       'Curuzu-Cuatia', 'Santo Tome', 'Luis Guillon', 'Arroyito',\n",
       "       'Mercedes', 'Bella Vista (Ctes.)', 'Miramar', 'Trujui',\n",
       "       'Ingeniero Maschwitz', '9 De Abril', 'La Reja', 'Llavallol',\n",
       "       'Adolfo Sourdeaux', 'Matheu', 'Villa Madero', 'Villa Bosch',\n",
       "       'Benavidez', 'Crespo', 'Federacion', 'Federal', 'Monte', 'Colon',\n",
       "       'San Francisco Dpto S Just', 'Almafuerte', 'Villa Del Rosario',\n",
       "       'Hernando', 'La Carlota', 'Oncativo', 'Diamante', 'Leones',\n",
       "       'Ramirez', 'Loberia', 'Virreyes', 'Boulogne',\n",
       "       'San Antonio De Areco', 'San Francisco Solano', 'Coronel Brandsen',\n",
       "       'Francisco Alvarez', 'Maq Francisco Savio', 'Loma Verde',\n",
       "       'Villa Rosa', 'Ranchos', 'Las Flores', 'Villa Constitucion',\n",
       "       'Bragado', 'Zarate', 'Capitan Sarmiento', 'Firmat', '25 De Mayo',\n",
       "       'Rafael Castillo', 'Carlos Casares', 'Los Toldos', 'Rojas',\n",
       "       'Arrecifes', 'Chivilcoy', 'General Belgrano', 'Roque Perez',\n",
       "       'Navarro', 'Lobos', 'Ayacucho', 'San Andres De Giles',\n",
       "       'General Madariaga', 'Jose Manuel Marmol', 'San Nicolas',\n",
       "       'Chacabuco', 'Arroyo Seco', 'Daireaux', 'Pehuajo',\n",
       "       'Carmen De Areco', 'Nogoya', 'Rosario Del Tala', 'Villa San Jose',\n",
       "       'Villa Elisa', 'Caã±Uelas', 'Gral Pinto', 'America', 'Berisso',\n",
       "       'Funes', 'Rauch', 'Viale', 'Coronel Vidal', 'Macia', 'El Palomar',\n",
       "       'Las Heras', 'Bovril', 'General Galarza',\n",
       "       'Santa Elena Dpto La Paz', 'San Salvador', 'Villa Hernandarias',\n",
       "       'Colonia Cerrito', 'Loma Hermosa', 'Laferrere', 'Tortuguitas',\n",
       "       'Aldo Bonzi', 'Virrey Del Pino', 'El Jaguel Pdo Esteb Eche',\n",
       "       'Joaquin V Gonzalez', 'Metan', 'Jose Leon Suarez', 'Alberti',\n",
       "       'Alejandro Korn', 'La Banda', 'Capital', 'Rafaela', 'Resisitencia',\n",
       "       'Rawson', 'Sampacho', 'Juana Koslay', 'La Punta', 'Antequeras',\n",
       "       'Rio Negro', 'Uspallata', 'Esquel', 'El Bolson', 'Caleta Olivia',\n",
       "       'Rio Gallegos', 'Rio Grande', 'San Antonio Oeste',\n",
       "       'Carmen De Patagones', 'Plaza Huincul', 'Salto', 'Puerto Deseado',\n",
       "       'Lincoln', 'San Martin De Los Andes', 'Sarmiento', 'Rufino',\n",
       "       'Florentino Ameghino', 'Laboulaye', 'El Calafate',\n",
       "       'Yacimientos Rio Turbio', 'Pico Truncado', 'Junin De Los Andes',\n",
       "       'Intendente Alvear', 'Esperanza', 'San Jorge', 'Sierra Grande',\n",
       "       'Trevelin', 'Rincon De Los Sauces', 'Villa La Angostura',\n",
       "       'Rada Tilly', 'Playa Union', 'Piedra Buena', 'Eduardo Castex',\n",
       "       'San Julian', 'Gobernador Gregores', '28 De Noviembre', 'Gaiman',\n",
       "       'Las Grutas', 'Tolhuin', 'Perito Moreno', 'Rio Colorado',\n",
       "       'Morteros', 'Lago Puelo', 'Puerto Santa Cruz', 'Marcos Juares',\n",
       "       'Aguada San Roque', 'Pinamar', 'Ciudad Autonoma De Buenos Aires',\n",
       "       'Esteban Echeverria', 'Matanza', 'General Pueyrredon', 'Cordoba',\n",
       "       'Villa Allende', 'San Isidro ,Ptdo. San Isidro',\n",
       "       'Caseros ,Partido 3 De Febrero', 'San Martin. Pto.Gral San Martin',\n",
       "       'Barracas', 'Martinez', 'Ituzaingo', 'Las Armas', 'Tristan Suarez',\n",
       "       'Capitán Sarmiento', 'Saladillo', 'General Alvear', 'Tapalque',\n",
       "       'Carmen De Patagones ', 'Stroeder            ', 'Perico',\n",
       "       'San Pedro De Jujuy', 'Libertador Gral. San Martin', 'Palpala',\n",
       "       'S.F.Solano', 'Villa Dolores', 'Rio Segundo', 'Dean Funes',\n",
       "       'Las Varillas', 'Sta.Rosa Calamuchita', 'Recreo', 'Frias',\n",
       "       'La Falda', 'Rio Ceballos', 'Carlos Paz', 'Cura Brochero',\n",
       "       'Mina Clavero', 'Capilla Del Monte', 'Unquillo', 'La Cumbre',\n",
       "       'Jesus Maria', 'Cruz Del Eje', 'Valle Hermoso', 'Oran',\n",
       "       'Villa Nueva De Guaymallen', 'Tunuyan', 'San Rafael',\n",
       "       'Lujan De Cuyo', 'San Fdo Del Valle De Catamarca',\n",
       "       'Rodeo De La Cruz', 'San Francisco', 'San Clemente Del Tuyu',\n",
       "       'Eugenio Bustos', 'Paso De Los Libres', 'Cañuelas', 'Tafi Viejo',\n",
       "       'Ledesma', 'San Jose De Guaymallen', 'Monteros Viejo',\n",
       "       'Juan Bautista Alberdi', 'Malargue', 'City Bell',\n",
       "       'San Bernardo Del Tuyu', 'Cosquin', 'Canning', 'Zona Delta Tigre',\n",
       "       'Quilmes Oeste', 'Belen De Escobar', 'Carrodilla  La Puntilla'],\n",
       "      dtype=object)"
      ]
     },
     "execution_count": 103,
     "metadata": {},
     "output_type": "execute_result"
    }
   ],
   "source": [
    "pd.unique(Sucursal.localidad)"
   ]
  },
  {
   "cell_type": "code",
   "execution_count": 104,
   "metadata": {},
   "outputs": [
    {
     "data": {
      "text/plain": [
       "array(['Super MAMI', 'Hipermercado Carrefour', 'Market', 'Express',\n",
       "       'Changomas', 'Mi Changomas', 'Walmart SuperCenter', 'COTO CICSA',\n",
       "       'Cooperativa Obrera Limitada de Consumo y Vivienda',\n",
       "       'Supermercados Becerra', 'Supermercados DIA',\n",
       "       'Hipermercado Libertad', 'Mini Libertad', 'Atomo', 'Super Aiello',\n",
       "       'FULL', 'La Anonima', 'Topsy', 'Bomba',\n",
       "       'LA AGRICOLA REGIONAL COOPERATIVA LIMITADA', 'Toledo',\n",
       "       'Axion Energy', 'Simplicity', 'LA AMISTAD',\n",
       "       'JOSIMAR SUPERMERCADOS', 'DEHEZA S.A.I.C.F. e I.',\n",
       "       'MUCOOP CAP.SARMIENTO', 'SuperCLC', 'ESTACION LIMA S.A.',\n",
       "       'SUPERMERCADOS EL NENE', 'ALMACENES PAMPAS', 'ALMACENES DE MARCA',\n",
       "       'Sup. Unicoop        ', 'Super Tuti1 y Super Tuti 3',\n",
       "       'California Supermercados', 'Super Tuti2 y Super Todo',\n",
       "       'Supermercados Comodin', 'Maxi Comodin', 'Diarco',\n",
       "       'Supermercados Cordiez', 'Abastecimiento Mercamax', 'Mariano Max',\n",
       "       'Vea', 'Disco', 'Jumbo'], dtype=object)"
      ]
     },
     "execution_count": 104,
     "metadata": {},
     "output_type": "execute_result"
    }
   ],
   "source": [
    "pd.unique(Sucursal.banderaDescripcion) # There are many fantasy names in upper case"
   ]
  },
  {
   "cell_type": "code",
   "execution_count": 105,
   "metadata": {},
   "outputs": [],
   "source": [
    "Sucursal.banderaDescripcion = Sucursal.banderaDescripcion.str.title() # I normalize them"
   ]
  },
  {
   "cell_type": "code",
   "execution_count": 106,
   "metadata": {},
   "outputs": [
    {
     "data": {
      "text/plain": [
       "array(['Super Mami', 'Hipermercado Carrefour', 'Market', 'Express',\n",
       "       'Changomas', 'Mi Changomas', 'Walmart Supercenter', 'Coto Cicsa',\n",
       "       'Cooperativa Obrera Limitada De Consumo Y Vivienda',\n",
       "       'Supermercados Becerra', 'Supermercados Dia',\n",
       "       'Hipermercado Libertad', 'Mini Libertad', 'Atomo', 'Super Aiello',\n",
       "       'Full', 'La Anonima', 'Topsy', 'Bomba',\n",
       "       'La Agricola Regional Cooperativa Limitada', 'Toledo',\n",
       "       'Axion Energy', 'Simplicity', 'La Amistad',\n",
       "       'Josimar Supermercados', 'Deheza S.A.I.C.F. E I.',\n",
       "       'Mucoop Cap.Sarmiento', 'Superclc', 'Estacion Lima S.A.',\n",
       "       'Supermercados El Nene', 'Almacenes Pampas', 'Almacenes De Marca',\n",
       "       'Sup. Unicoop        ', 'Super Tuti1 Y Super Tuti 3',\n",
       "       'California Supermercados', 'Super Tuti2 Y Super Todo',\n",
       "       'Supermercados Comodin', 'Maxi Comodin', 'Diarco',\n",
       "       'Supermercados Cordiez', 'Abastecimiento Mercamax', 'Mariano Max',\n",
       "       'Vea', 'Disco', 'Jumbo'], dtype=object)"
      ]
     },
     "execution_count": 106,
     "metadata": {},
     "output_type": "execute_result"
    }
   ],
   "source": [
    "pd.unique(Sucursal.banderaDescripcion)"
   ]
  },
  {
   "cell_type": "code",
   "execution_count": 107,
   "metadata": {},
   "outputs": [],
   "source": [
    "Sucursal.sucursalNombre = Sucursal.sucursalNombre.str.title() # Just in case I normalize this\n",
    "                                                              # column as well"
   ]
  },
  {
   "cell_type": "code",
   "execution_count": 108,
   "metadata": {},
   "outputs": [
    {
     "data": {
      "text/plain": [
       "array(['AR-X', 'AR-B', 'AR-A', 'AR-J', 'AR-U', 'AR-R', 'AR-V', 'AR-L',\n",
       "       'AR-Q', 'AR-W', 'AR-M', 'AR-K', 'AR-S', 'AR-C', 'AR-E', 'AR-D',\n",
       "       'AR-H', 'AR-T', 'AR-Z', 'AR-P', 'AR-Y', 'AR-F', 'AR-G', 'AR-N'],\n",
       "      dtype=object)"
      ]
     },
     "execution_count": 108,
     "metadata": {},
     "output_type": "execute_result"
    }
   ],
   "source": [
    "pd.unique(Sucursal.provincia) # I see which states there are"
   ]
  },
  {
   "cell_type": "code",
   "execution_count": 109,
   "metadata": {},
   "outputs": [
    {
     "data": {
      "text/plain": [
       "24"
      ]
     },
     "execution_count": 109,
     "metadata": {},
     "output_type": "execute_result"
    }
   ],
   "source": [
    "Sucursal.provincia.nunique() # I count the total amount"
   ]
  },
  {
   "cell_type": "code",
   "execution_count": 110,
   "metadata": {},
   "outputs": [
    {
     "data": {
      "text/html": [
       "<div>\n",
       "<style scoped>\n",
       "    .dataframe tbody tr th:only-of-type {\n",
       "        vertical-align: middle;\n",
       "    }\n",
       "\n",
       "    .dataframe tbody tr th {\n",
       "        vertical-align: top;\n",
       "    }\n",
       "\n",
       "    .dataframe thead th {\n",
       "        text-align: right;\n",
       "    }\n",
       "</style>\n",
       "<table border=\"1\" class=\"dataframe\">\n",
       "  <thead>\n",
       "    <tr style=\"text-align: right;\">\n",
       "      <th></th>\n",
       "      <th>id</th>\n",
       "      <th>comercioId</th>\n",
       "      <th>banderaId</th>\n",
       "      <th>banderaDescripcion</th>\n",
       "      <th>comercioRazonSocial</th>\n",
       "      <th>provincia</th>\n",
       "      <th>localidad</th>\n",
       "      <th>direccion</th>\n",
       "      <th>lat</th>\n",
       "      <th>lng</th>\n",
       "      <th>sucursalNombre</th>\n",
       "      <th>sucursalTipo</th>\n",
       "    </tr>\n",
       "  </thead>\n",
       "  <tbody>\n",
       "    <tr>\n",
       "      <th>0</th>\n",
       "      <td>1-1-7</td>\n",
       "      <td>1</td>\n",
       "      <td>1</td>\n",
       "      <td>Super Mami</td>\n",
       "      <td>Dinosaurio S.A.</td>\n",
       "      <td>AR-X</td>\n",
       "      <td>Salsipuedes</td>\n",
       "      <td>E53 1011 None</td>\n",
       "      <td>-31.126667</td>\n",
       "      <td>-64.295250</td>\n",
       "      <td>Super Mami 4</td>\n",
       "      <td>Hipermercado</td>\n",
       "    </tr>\n",
       "    <tr>\n",
       "      <th>1</th>\n",
       "      <td>10-1-1</td>\n",
       "      <td>10</td>\n",
       "      <td>1</td>\n",
       "      <td>Hipermercado Carrefour</td>\n",
       "      <td>INC S.A.</td>\n",
       "      <td>AR-B</td>\n",
       "      <td>San Isidro</td>\n",
       "      <td>Bernardo De Irigoyen 2647</td>\n",
       "      <td>-34.491345</td>\n",
       "      <td>-58.589025</td>\n",
       "      <td>San Isidro</td>\n",
       "      <td>Hipermercado</td>\n",
       "    </tr>\n",
       "    <tr>\n",
       "      <th>2</th>\n",
       "      <td>10-1-10</td>\n",
       "      <td>10</td>\n",
       "      <td>1</td>\n",
       "      <td>Hipermercado Carrefour</td>\n",
       "      <td>INC S.A.</td>\n",
       "      <td>AR-B</td>\n",
       "      <td>Hurlingham</td>\n",
       "      <td>Av. Vergara 1910</td>\n",
       "      <td>-34.620610</td>\n",
       "      <td>-58.633769</td>\n",
       "      <td>Villa Tesei</td>\n",
       "      <td>Hipermercado</td>\n",
       "    </tr>\n",
       "    <tr>\n",
       "      <th>3</th>\n",
       "      <td>10-1-11</td>\n",
       "      <td>10</td>\n",
       "      <td>1</td>\n",
       "      <td>Hipermercado Carrefour</td>\n",
       "      <td>INC S.A.</td>\n",
       "      <td>AR-B</td>\n",
       "      <td>Malvinas Argentinas</td>\n",
       "      <td>Av. Arturo Illia 3770</td>\n",
       "      <td>-34.528883</td>\n",
       "      <td>-58.701631</td>\n",
       "      <td>Malvinas Argentinas</td>\n",
       "      <td>Hipermercado</td>\n",
       "    </tr>\n",
       "    <tr>\n",
       "      <th>4</th>\n",
       "      <td>10-1-112</td>\n",
       "      <td>10</td>\n",
       "      <td>1</td>\n",
       "      <td>Hipermercado Carrefour</td>\n",
       "      <td>INC S.A.</td>\n",
       "      <td>AR-A</td>\n",
       "      <td>Salta</td>\n",
       "      <td>20 De Febrero 37</td>\n",
       "      <td>-24.789072</td>\n",
       "      <td>-65.413699</td>\n",
       "      <td>Salta</td>\n",
       "      <td>Hipermercado</td>\n",
       "    </tr>\n",
       "  </tbody>\n",
       "</table>\n",
       "</div>"
      ],
      "text/plain": [
       "         id  comercioId  banderaId      banderaDescripcion  \\\n",
       "0     1-1-7           1          1              Super Mami   \n",
       "1    10-1-1          10          1  Hipermercado Carrefour   \n",
       "2   10-1-10          10          1  Hipermercado Carrefour   \n",
       "3   10-1-11          10          1  Hipermercado Carrefour   \n",
       "4  10-1-112          10          1  Hipermercado Carrefour   \n",
       "\n",
       "  comercioRazonSocial provincia            localidad  \\\n",
       "0     Dinosaurio S.A.      AR-X          Salsipuedes   \n",
       "1            INC S.A.      AR-B           San Isidro   \n",
       "2            INC S.A.      AR-B           Hurlingham   \n",
       "3            INC S.A.      AR-B  Malvinas Argentinas   \n",
       "4            INC S.A.      AR-A                Salta   \n",
       "\n",
       "                   direccion        lat        lng       sucursalNombre  \\\n",
       "0              E53 1011 None -31.126667 -64.295250         Super Mami 4   \n",
       "1  Bernardo De Irigoyen 2647 -34.491345 -58.589025           San Isidro   \n",
       "2           Av. Vergara 1910 -34.620610 -58.633769          Villa Tesei   \n",
       "3      Av. Arturo Illia 3770 -34.528883 -58.701631  Malvinas Argentinas   \n",
       "4           20 De Febrero 37 -24.789072 -65.413699                Salta   \n",
       "\n",
       "   sucursalTipo  \n",
       "0  Hipermercado  \n",
       "1  Hipermercado  \n",
       "2  Hipermercado  \n",
       "3  Hipermercado  \n",
       "4  Hipermercado  "
      ]
     },
     "execution_count": 110,
     "metadata": {},
     "output_type": "execute_result"
    }
   ],
   "source": [
    "Sucursal.head() # I could rename some of the columns names"
   ]
  },
  {
   "cell_type": "code",
   "execution_count": 111,
   "metadata": {},
   "outputs": [],
   "source": [
    "Sucursal.rename(columns={'id':'sucursal_id', \n",
    "                 'comercioId':'comercio_id',\n",
    "                 'banderaId':'bandera_id',\n",
    "                 'banderaDescripcion':'bandera_desc',\n",
    "                 'comercioRazonSocial':'comercio_razon_social',\n",
    "                 'sucursalNombre':'sucursal_nombre',\n",
    "                 'sucursalTipo':'sucursal_tipo'}, inplace=True) \n",
    "# I rename some columns"
   ]
  },
  {
   "cell_type": "code",
   "execution_count": 112,
   "metadata": {},
   "outputs": [
    {
     "data": {
      "text/html": [
       "<div>\n",
       "<style scoped>\n",
       "    .dataframe tbody tr th:only-of-type {\n",
       "        vertical-align: middle;\n",
       "    }\n",
       "\n",
       "    .dataframe tbody tr th {\n",
       "        vertical-align: top;\n",
       "    }\n",
       "\n",
       "    .dataframe thead th {\n",
       "        text-align: right;\n",
       "    }\n",
       "</style>\n",
       "<table border=\"1\" class=\"dataframe\">\n",
       "  <thead>\n",
       "    <tr style=\"text-align: right;\">\n",
       "      <th></th>\n",
       "      <th>sucursal_id</th>\n",
       "      <th>comercio_id</th>\n",
       "      <th>bandera_id</th>\n",
       "      <th>bandera_desc</th>\n",
       "      <th>comercio_razon_social</th>\n",
       "      <th>provincia</th>\n",
       "      <th>localidad</th>\n",
       "      <th>direccion</th>\n",
       "      <th>lat</th>\n",
       "      <th>lng</th>\n",
       "      <th>sucursal_nombre</th>\n",
       "      <th>sucursal_tipo</th>\n",
       "    </tr>\n",
       "  </thead>\n",
       "  <tbody>\n",
       "    <tr>\n",
       "      <th>0</th>\n",
       "      <td>1-1-7</td>\n",
       "      <td>1</td>\n",
       "      <td>1</td>\n",
       "      <td>Super Mami</td>\n",
       "      <td>Dinosaurio S.A.</td>\n",
       "      <td>AR-X</td>\n",
       "      <td>Salsipuedes</td>\n",
       "      <td>E53 1011 None</td>\n",
       "      <td>-31.126667</td>\n",
       "      <td>-64.295250</td>\n",
       "      <td>Super Mami 4</td>\n",
       "      <td>Hipermercado</td>\n",
       "    </tr>\n",
       "    <tr>\n",
       "      <th>1</th>\n",
       "      <td>10-1-1</td>\n",
       "      <td>10</td>\n",
       "      <td>1</td>\n",
       "      <td>Hipermercado Carrefour</td>\n",
       "      <td>INC S.A.</td>\n",
       "      <td>AR-B</td>\n",
       "      <td>San Isidro</td>\n",
       "      <td>Bernardo De Irigoyen 2647</td>\n",
       "      <td>-34.491345</td>\n",
       "      <td>-58.589025</td>\n",
       "      <td>San Isidro</td>\n",
       "      <td>Hipermercado</td>\n",
       "    </tr>\n",
       "    <tr>\n",
       "      <th>2</th>\n",
       "      <td>10-1-10</td>\n",
       "      <td>10</td>\n",
       "      <td>1</td>\n",
       "      <td>Hipermercado Carrefour</td>\n",
       "      <td>INC S.A.</td>\n",
       "      <td>AR-B</td>\n",
       "      <td>Hurlingham</td>\n",
       "      <td>Av. Vergara 1910</td>\n",
       "      <td>-34.620610</td>\n",
       "      <td>-58.633769</td>\n",
       "      <td>Villa Tesei</td>\n",
       "      <td>Hipermercado</td>\n",
       "    </tr>\n",
       "    <tr>\n",
       "      <th>3</th>\n",
       "      <td>10-1-11</td>\n",
       "      <td>10</td>\n",
       "      <td>1</td>\n",
       "      <td>Hipermercado Carrefour</td>\n",
       "      <td>INC S.A.</td>\n",
       "      <td>AR-B</td>\n",
       "      <td>Malvinas Argentinas</td>\n",
       "      <td>Av. Arturo Illia 3770</td>\n",
       "      <td>-34.528883</td>\n",
       "      <td>-58.701631</td>\n",
       "      <td>Malvinas Argentinas</td>\n",
       "      <td>Hipermercado</td>\n",
       "    </tr>\n",
       "    <tr>\n",
       "      <th>4</th>\n",
       "      <td>10-1-112</td>\n",
       "      <td>10</td>\n",
       "      <td>1</td>\n",
       "      <td>Hipermercado Carrefour</td>\n",
       "      <td>INC S.A.</td>\n",
       "      <td>AR-A</td>\n",
       "      <td>Salta</td>\n",
       "      <td>20 De Febrero 37</td>\n",
       "      <td>-24.789072</td>\n",
       "      <td>-65.413699</td>\n",
       "      <td>Salta</td>\n",
       "      <td>Hipermercado</td>\n",
       "    </tr>\n",
       "  </tbody>\n",
       "</table>\n",
       "</div>"
      ],
      "text/plain": [
       "  sucursal_id  comercio_id  bandera_id            bandera_desc  \\\n",
       "0       1-1-7            1           1              Super Mami   \n",
       "1      10-1-1           10           1  Hipermercado Carrefour   \n",
       "2     10-1-10           10           1  Hipermercado Carrefour   \n",
       "3     10-1-11           10           1  Hipermercado Carrefour   \n",
       "4    10-1-112           10           1  Hipermercado Carrefour   \n",
       "\n",
       "  comercio_razon_social provincia            localidad  \\\n",
       "0       Dinosaurio S.A.      AR-X          Salsipuedes   \n",
       "1              INC S.A.      AR-B           San Isidro   \n",
       "2              INC S.A.      AR-B           Hurlingham   \n",
       "3              INC S.A.      AR-B  Malvinas Argentinas   \n",
       "4              INC S.A.      AR-A                Salta   \n",
       "\n",
       "                   direccion        lat        lng      sucursal_nombre  \\\n",
       "0              E53 1011 None -31.126667 -64.295250         Super Mami 4   \n",
       "1  Bernardo De Irigoyen 2647 -34.491345 -58.589025           San Isidro   \n",
       "2           Av. Vergara 1910 -34.620610 -58.633769          Villa Tesei   \n",
       "3      Av. Arturo Illia 3770 -34.528883 -58.701631  Malvinas Argentinas   \n",
       "4           20 De Febrero 37 -24.789072 -65.413699                Salta   \n",
       "\n",
       "  sucursal_tipo  \n",
       "0  Hipermercado  \n",
       "1  Hipermercado  \n",
       "2  Hipermercado  \n",
       "3  Hipermercado  \n",
       "4  Hipermercado  "
      ]
     },
     "execution_count": 112,
     "metadata": {},
     "output_type": "execute_result"
    }
   ],
   "source": [
    "Sucursal.head()"
   ]
  },
  {
   "cell_type": "code",
   "execution_count": 113,
   "metadata": {},
   "outputs": [],
   "source": [
    "Sucursal_ids_repetidos = Sucursal[Sucursal.sucursal_id.duplicated()] \n",
    "# I create a dataframe to check if there are any duplicated ids"
   ]
  },
  {
   "cell_type": "code",
   "execution_count": 114,
   "metadata": {},
   "outputs": [
    {
     "data": {
      "text/html": [
       "<div>\n",
       "<style scoped>\n",
       "    .dataframe tbody tr th:only-of-type {\n",
       "        vertical-align: middle;\n",
       "    }\n",
       "\n",
       "    .dataframe tbody tr th {\n",
       "        vertical-align: top;\n",
       "    }\n",
       "\n",
       "    .dataframe thead th {\n",
       "        text-align: right;\n",
       "    }\n",
       "</style>\n",
       "<table border=\"1\" class=\"dataframe\">\n",
       "  <thead>\n",
       "    <tr style=\"text-align: right;\">\n",
       "      <th></th>\n",
       "      <th>sucursal_id</th>\n",
       "      <th>comercio_id</th>\n",
       "      <th>bandera_id</th>\n",
       "      <th>bandera_desc</th>\n",
       "      <th>comercio_razon_social</th>\n",
       "      <th>provincia</th>\n",
       "      <th>localidad</th>\n",
       "      <th>direccion</th>\n",
       "      <th>lat</th>\n",
       "      <th>lng</th>\n",
       "      <th>sucursal_nombre</th>\n",
       "      <th>sucursal_tipo</th>\n",
       "    </tr>\n",
       "  </thead>\n",
       "  <tbody>\n",
       "  </tbody>\n",
       "</table>\n",
       "</div>"
      ],
      "text/plain": [
       "Empty DataFrame\n",
       "Columns: [sucursal_id, comercio_id, bandera_id, bandera_desc, comercio_razon_social, provincia, localidad, direccion, lat, lng, sucursal_nombre, sucursal_tipo]\n",
       "Index: []"
      ]
     },
     "execution_count": 114,
     "metadata": {},
     "output_type": "execute_result"
    }
   ],
   "source": [
    "Sucursal_ids_repetidos # no duplicated ids"
   ]
  },
  {
   "cell_type": "code",
   "execution_count": 115,
   "metadata": {},
   "outputs": [
    {
     "data": {
      "text/plain": [
       "0"
      ]
     },
     "execution_count": 115,
     "metadata": {},
     "output_type": "execute_result"
    }
   ],
   "source": [
    "Sucursal.sucursal_id.isna().sum() # I look for missing values"
   ]
  },
  {
   "cell_type": "code",
   "execution_count": 116,
   "metadata": {},
   "outputs": [],
   "source": [
    "Sucursal.sucursal_id = Sucursal.sucursal_id.str.replace('-', '') \n",
    "# I erase the middle dash from the ids"
   ]
  },
  {
   "cell_type": "code",
   "execution_count": 119,
   "metadata": {},
   "outputs": [
    {
     "data": {
      "text/html": [
       "<div>\n",
       "<style scoped>\n",
       "    .dataframe tbody tr th:only-of-type {\n",
       "        vertical-align: middle;\n",
       "    }\n",
       "\n",
       "    .dataframe tbody tr th {\n",
       "        vertical-align: top;\n",
       "    }\n",
       "\n",
       "    .dataframe thead th {\n",
       "        text-align: right;\n",
       "    }\n",
       "</style>\n",
       "<table border=\"1\" class=\"dataframe\">\n",
       "  <thead>\n",
       "    <tr style=\"text-align: right;\">\n",
       "      <th></th>\n",
       "      <th>sucursal_id</th>\n",
       "      <th>comercio_id</th>\n",
       "      <th>bandera_id</th>\n",
       "      <th>bandera_desc</th>\n",
       "      <th>comercio_razon_social</th>\n",
       "      <th>provincia</th>\n",
       "      <th>localidad</th>\n",
       "      <th>direccion</th>\n",
       "      <th>lat</th>\n",
       "      <th>lng</th>\n",
       "      <th>sucursal_nombre</th>\n",
       "      <th>sucursal_tipo</th>\n",
       "    </tr>\n",
       "  </thead>\n",
       "  <tbody>\n",
       "    <tr>\n",
       "      <th>0</th>\n",
       "      <td>117</td>\n",
       "      <td>1</td>\n",
       "      <td>1</td>\n",
       "      <td>Super Mami</td>\n",
       "      <td>Dinosaurio S.A.</td>\n",
       "      <td>AR-X</td>\n",
       "      <td>Salsipuedes</td>\n",
       "      <td>E53 1011 None</td>\n",
       "      <td>-31.126667</td>\n",
       "      <td>-64.295250</td>\n",
       "      <td>Super Mami 4</td>\n",
       "      <td>Hipermercado</td>\n",
       "    </tr>\n",
       "    <tr>\n",
       "      <th>1</th>\n",
       "      <td>1011</td>\n",
       "      <td>10</td>\n",
       "      <td>1</td>\n",
       "      <td>Hipermercado Carrefour</td>\n",
       "      <td>INC S.A.</td>\n",
       "      <td>AR-B</td>\n",
       "      <td>San Isidro</td>\n",
       "      <td>Bernardo De Irigoyen 2647</td>\n",
       "      <td>-34.491345</td>\n",
       "      <td>-58.589025</td>\n",
       "      <td>San Isidro</td>\n",
       "      <td>Hipermercado</td>\n",
       "    </tr>\n",
       "    <tr>\n",
       "      <th>2</th>\n",
       "      <td>10110</td>\n",
       "      <td>10</td>\n",
       "      <td>1</td>\n",
       "      <td>Hipermercado Carrefour</td>\n",
       "      <td>INC S.A.</td>\n",
       "      <td>AR-B</td>\n",
       "      <td>Hurlingham</td>\n",
       "      <td>Av. Vergara 1910</td>\n",
       "      <td>-34.620610</td>\n",
       "      <td>-58.633769</td>\n",
       "      <td>Villa Tesei</td>\n",
       "      <td>Hipermercado</td>\n",
       "    </tr>\n",
       "    <tr>\n",
       "      <th>3</th>\n",
       "      <td>10111</td>\n",
       "      <td>10</td>\n",
       "      <td>1</td>\n",
       "      <td>Hipermercado Carrefour</td>\n",
       "      <td>INC S.A.</td>\n",
       "      <td>AR-B</td>\n",
       "      <td>Malvinas Argentinas</td>\n",
       "      <td>Av. Arturo Illia 3770</td>\n",
       "      <td>-34.528883</td>\n",
       "      <td>-58.701631</td>\n",
       "      <td>Malvinas Argentinas</td>\n",
       "      <td>Hipermercado</td>\n",
       "    </tr>\n",
       "    <tr>\n",
       "      <th>4</th>\n",
       "      <td>101112</td>\n",
       "      <td>10</td>\n",
       "      <td>1</td>\n",
       "      <td>Hipermercado Carrefour</td>\n",
       "      <td>INC S.A.</td>\n",
       "      <td>AR-A</td>\n",
       "      <td>Salta</td>\n",
       "      <td>20 De Febrero 37</td>\n",
       "      <td>-24.789072</td>\n",
       "      <td>-65.413699</td>\n",
       "      <td>Salta</td>\n",
       "      <td>Hipermercado</td>\n",
       "    </tr>\n",
       "  </tbody>\n",
       "</table>\n",
       "</div>"
      ],
      "text/plain": [
       "   sucursal_id  comercio_id  bandera_id            bandera_desc  \\\n",
       "0          117            1           1              Super Mami   \n",
       "1         1011           10           1  Hipermercado Carrefour   \n",
       "2        10110           10           1  Hipermercado Carrefour   \n",
       "3        10111           10           1  Hipermercado Carrefour   \n",
       "4       101112           10           1  Hipermercado Carrefour   \n",
       "\n",
       "  comercio_razon_social provincia            localidad  \\\n",
       "0       Dinosaurio S.A.      AR-X          Salsipuedes   \n",
       "1              INC S.A.      AR-B           San Isidro   \n",
       "2              INC S.A.      AR-B           Hurlingham   \n",
       "3              INC S.A.      AR-B  Malvinas Argentinas   \n",
       "4              INC S.A.      AR-A                Salta   \n",
       "\n",
       "                   direccion        lat        lng      sucursal_nombre  \\\n",
       "0              E53 1011 None -31.126667 -64.295250         Super Mami 4   \n",
       "1  Bernardo De Irigoyen 2647 -34.491345 -58.589025           San Isidro   \n",
       "2           Av. Vergara 1910 -34.620610 -58.633769          Villa Tesei   \n",
       "3      Av. Arturo Illia 3770 -34.528883 -58.701631  Malvinas Argentinas   \n",
       "4           20 De Febrero 37 -24.789072 -65.413699                Salta   \n",
       "\n",
       "  sucursal_tipo  \n",
       "0  Hipermercado  \n",
       "1  Hipermercado  \n",
       "2  Hipermercado  \n",
       "3  Hipermercado  \n",
       "4  Hipermercado  "
      ]
     },
     "execution_count": 119,
     "metadata": {},
     "output_type": "execute_result"
    }
   ],
   "source": [
    "Sucursal.head(5)"
   ]
  },
  {
   "cell_type": "code",
   "execution_count": 118,
   "metadata": {},
   "outputs": [],
   "source": [
    "Sucursal.sucursal_id = Sucursal.sucursal_id.astype(int) \n",
    "# I convert the id column to integer"
   ]
  },
  {
   "cell_type": "markdown",
   "metadata": {},
   "source": [
    "## Now I check the weekly sales datasets"
   ]
  },
  {
   "cell_type": "markdown",
   "metadata": {},
   "source": [
    "## precios_semana_20200518"
   ]
  },
  {
   "cell_type": "code",
   "execution_count": 7,
   "metadata": {},
   "outputs": [
    {
     "name": "stdout",
     "output_type": "stream",
     "text": [
      "<class 'pandas.core.frame.DataFrame'>\n",
      "RangeIndex: 415293 entries, 0 to 415292\n",
      "Data columns (total 3 columns):\n",
      " #   Column       Non-Null Count   Dtype  \n",
      "---  ------       --------------   -----  \n",
      " 0   precio       413333 non-null  float64\n",
      " 1   producto_id  415287 non-null  object \n",
      " 2   sucursal_id  415287 non-null  object \n",
      "dtypes: float64(1), object(2)\n",
      "memory usage: 9.5+ MB\n"
     ]
    }
   ],
   "source": [
    "precios_semana_20200518.info()"
   ]
  },
  {
   "cell_type": "code",
   "execution_count": 8,
   "metadata": {},
   "outputs": [
    {
     "data": {
      "text/html": [
       "<div>\n",
       "<style scoped>\n",
       "    .dataframe tbody tr th:only-of-type {\n",
       "        vertical-align: middle;\n",
       "    }\n",
       "\n",
       "    .dataframe tbody tr th {\n",
       "        vertical-align: top;\n",
       "    }\n",
       "\n",
       "    .dataframe thead th {\n",
       "        text-align: right;\n",
       "    }\n",
       "</style>\n",
       "<table border=\"1\" class=\"dataframe\">\n",
       "  <thead>\n",
       "    <tr style=\"text-align: right;\">\n",
       "      <th></th>\n",
       "      <th>precio</th>\n",
       "      <th>producto_id</th>\n",
       "      <th>sucursal_id</th>\n",
       "    </tr>\n",
       "  </thead>\n",
       "  <tbody>\n",
       "    <tr>\n",
       "      <th>0</th>\n",
       "      <td>29.90</td>\n",
       "      <td>0000000002288</td>\n",
       "      <td>2-1-009</td>\n",
       "    </tr>\n",
       "    <tr>\n",
       "      <th>1</th>\n",
       "      <td>32.90</td>\n",
       "      <td>0000000002288</td>\n",
       "      <td>2-1-037</td>\n",
       "    </tr>\n",
       "    <tr>\n",
       "      <th>2</th>\n",
       "      <td>36.90</td>\n",
       "      <td>0000000002288</td>\n",
       "      <td>2-1-090</td>\n",
       "    </tr>\n",
       "    <tr>\n",
       "      <th>3</th>\n",
       "      <td>39.90</td>\n",
       "      <td>0000000002288</td>\n",
       "      <td>2-3-247</td>\n",
       "    </tr>\n",
       "    <tr>\n",
       "      <th>4</th>\n",
       "      <td>499.99</td>\n",
       "      <td>0000000205870</td>\n",
       "      <td>9-1-430</td>\n",
       "    </tr>\n",
       "  </tbody>\n",
       "</table>\n",
       "</div>"
      ],
      "text/plain": [
       "   precio    producto_id sucursal_id\n",
       "0   29.90  0000000002288     2-1-009\n",
       "1   32.90  0000000002288     2-1-037\n",
       "2   36.90  0000000002288     2-1-090\n",
       "3   39.90  0000000002288     2-3-247\n",
       "4  499.99  0000000205870     9-1-430"
      ]
     },
     "execution_count": 8,
     "metadata": {},
     "output_type": "execute_result"
    }
   ],
   "source": [
    "precios_semana_20200518.head() # It has the product's id prior to the transformation"
   ]
  },
  {
   "cell_type": "code",
   "execution_count": 9,
   "metadata": {},
   "outputs": [],
   "source": [
    "precios_semana_20200518.producto_id = precios_semana_20200518.producto_id.str.replace('-','') \n",
    "# I erase the middle dash"
   ]
  },
  {
   "cell_type": "code",
   "execution_count": 169,
   "metadata": {},
   "outputs": [
    {
     "ename": "ValueError",
     "evalue": "cannot convert float NaN to integer",
     "output_type": "error",
     "traceback": [
      "\u001b[1;31m---------------------------------------------------------------------------\u001b[0m",
      "\u001b[1;31mValueError\u001b[0m                                Traceback (most recent call last)",
      "Cell \u001b[1;32mIn [169], line 1\u001b[0m\n\u001b[1;32m----> 1\u001b[0m precios_semana_20200518\u001b[39m.\u001b[39mproducto_id \u001b[39m=\u001b[39m precios_semana_20200518\u001b[39m.\u001b[39;49mproducto_id\u001b[39m.\u001b[39;49mastype(np\u001b[39m.\u001b[39;49mint64)\n",
      "File \u001b[1;32mc:\\Users\\Auli\\AppData\\Local\\Programs\\Python\\Python310\\lib\\site-packages\\pandas\\core\\generic.py:6245\u001b[0m, in \u001b[0;36mNDFrame.astype\u001b[1;34m(self, dtype, copy, errors)\u001b[0m\n\u001b[0;32m   6238\u001b[0m     results \u001b[39m=\u001b[39m [\n\u001b[0;32m   6239\u001b[0m         \u001b[39mself\u001b[39m\u001b[39m.\u001b[39miloc[:, i]\u001b[39m.\u001b[39mastype(dtype, copy\u001b[39m=\u001b[39mcopy)\n\u001b[0;32m   6240\u001b[0m         \u001b[39mfor\u001b[39;00m i \u001b[39min\u001b[39;00m \u001b[39mrange\u001b[39m(\u001b[39mlen\u001b[39m(\u001b[39mself\u001b[39m\u001b[39m.\u001b[39mcolumns))\n\u001b[0;32m   6241\u001b[0m     ]\n\u001b[0;32m   6243\u001b[0m \u001b[39melse\u001b[39;00m:\n\u001b[0;32m   6244\u001b[0m     \u001b[39m# else, only a single dtype is given\u001b[39;00m\n\u001b[1;32m-> 6245\u001b[0m     new_data \u001b[39m=\u001b[39m \u001b[39mself\u001b[39;49m\u001b[39m.\u001b[39;49m_mgr\u001b[39m.\u001b[39;49mastype(dtype\u001b[39m=\u001b[39;49mdtype, copy\u001b[39m=\u001b[39;49mcopy, errors\u001b[39m=\u001b[39;49merrors)\n\u001b[0;32m   6246\u001b[0m     \u001b[39mreturn\u001b[39;00m \u001b[39mself\u001b[39m\u001b[39m.\u001b[39m_constructor(new_data)\u001b[39m.\u001b[39m__finalize__(\u001b[39mself\u001b[39m, method\u001b[39m=\u001b[39m\u001b[39m\"\u001b[39m\u001b[39mastype\u001b[39m\u001b[39m\"\u001b[39m)\n\u001b[0;32m   6248\u001b[0m \u001b[39m# GH 33113: handle empty frame or series\u001b[39;00m\n",
      "File \u001b[1;32mc:\\Users\\Auli\\AppData\\Local\\Programs\\Python\\Python310\\lib\\site-packages\\pandas\\core\\internals\\managers.py:446\u001b[0m, in \u001b[0;36mBaseBlockManager.astype\u001b[1;34m(self, dtype, copy, errors)\u001b[0m\n\u001b[0;32m    445\u001b[0m \u001b[39mdef\u001b[39;00m \u001b[39mastype\u001b[39m(\u001b[39mself\u001b[39m: T, dtype, copy: \u001b[39mbool\u001b[39m \u001b[39m=\u001b[39m \u001b[39mFalse\u001b[39;00m, errors: \u001b[39mstr\u001b[39m \u001b[39m=\u001b[39m \u001b[39m\"\u001b[39m\u001b[39mraise\u001b[39m\u001b[39m\"\u001b[39m) \u001b[39m-\u001b[39m\u001b[39m>\u001b[39m T:\n\u001b[1;32m--> 446\u001b[0m     \u001b[39mreturn\u001b[39;00m \u001b[39mself\u001b[39;49m\u001b[39m.\u001b[39;49mapply(\u001b[39m\"\u001b[39;49m\u001b[39mastype\u001b[39;49m\u001b[39m\"\u001b[39;49m, dtype\u001b[39m=\u001b[39;49mdtype, copy\u001b[39m=\u001b[39;49mcopy, errors\u001b[39m=\u001b[39;49merrors)\n",
      "File \u001b[1;32mc:\\Users\\Auli\\AppData\\Local\\Programs\\Python\\Python310\\lib\\site-packages\\pandas\\core\\internals\\managers.py:348\u001b[0m, in \u001b[0;36mBaseBlockManager.apply\u001b[1;34m(self, f, align_keys, ignore_failures, **kwargs)\u001b[0m\n\u001b[0;32m    346\u001b[0m         applied \u001b[39m=\u001b[39m b\u001b[39m.\u001b[39mapply(f, \u001b[39m*\u001b[39m\u001b[39m*\u001b[39mkwargs)\n\u001b[0;32m    347\u001b[0m     \u001b[39melse\u001b[39;00m:\n\u001b[1;32m--> 348\u001b[0m         applied \u001b[39m=\u001b[39m \u001b[39mgetattr\u001b[39m(b, f)(\u001b[39m*\u001b[39m\u001b[39m*\u001b[39mkwargs)\n\u001b[0;32m    349\u001b[0m \u001b[39mexcept\u001b[39;00m (\u001b[39mTypeError\u001b[39;00m, \u001b[39mNotImplementedError\u001b[39;00m):\n\u001b[0;32m    350\u001b[0m     \u001b[39mif\u001b[39;00m \u001b[39mnot\u001b[39;00m ignore_failures:\n",
      "File \u001b[1;32mc:\\Users\\Auli\\AppData\\Local\\Programs\\Python\\Python310\\lib\\site-packages\\pandas\\core\\internals\\blocks.py:527\u001b[0m, in \u001b[0;36mBlock.astype\u001b[1;34m(self, dtype, copy, errors)\u001b[0m\n\u001b[0;32m    509\u001b[0m \u001b[39m\"\"\"\u001b[39;00m\n\u001b[0;32m    510\u001b[0m \u001b[39mCoerce to the new dtype.\u001b[39;00m\n\u001b[0;32m    511\u001b[0m \n\u001b[1;32m   (...)\u001b[0m\n\u001b[0;32m    523\u001b[0m \u001b[39mBlock\u001b[39;00m\n\u001b[0;32m    524\u001b[0m \u001b[39m\"\"\"\u001b[39;00m\n\u001b[0;32m    525\u001b[0m values \u001b[39m=\u001b[39m \u001b[39mself\u001b[39m\u001b[39m.\u001b[39mvalues\n\u001b[1;32m--> 527\u001b[0m new_values \u001b[39m=\u001b[39m astype_array_safe(values, dtype, copy\u001b[39m=\u001b[39;49mcopy, errors\u001b[39m=\u001b[39;49merrors)\n\u001b[0;32m    529\u001b[0m new_values \u001b[39m=\u001b[39m maybe_coerce_values(new_values)\n\u001b[0;32m    530\u001b[0m newb \u001b[39m=\u001b[39m \u001b[39mself\u001b[39m\u001b[39m.\u001b[39mmake_block(new_values)\n",
      "File \u001b[1;32mc:\\Users\\Auli\\AppData\\Local\\Programs\\Python\\Python310\\lib\\site-packages\\pandas\\core\\dtypes\\astype.py:299\u001b[0m, in \u001b[0;36mastype_array_safe\u001b[1;34m(values, dtype, copy, errors)\u001b[0m\n\u001b[0;32m    296\u001b[0m     \u001b[39mreturn\u001b[39;00m values\u001b[39m.\u001b[39mcopy()\n\u001b[0;32m    298\u001b[0m \u001b[39mtry\u001b[39;00m:\n\u001b[1;32m--> 299\u001b[0m     new_values \u001b[39m=\u001b[39m astype_array(values, dtype, copy\u001b[39m=\u001b[39;49mcopy)\n\u001b[0;32m    300\u001b[0m \u001b[39mexcept\u001b[39;00m (\u001b[39mValueError\u001b[39;00m, \u001b[39mTypeError\u001b[39;00m):\n\u001b[0;32m    301\u001b[0m     \u001b[39m# e.g. astype_nansafe can fail on object-dtype of strings\u001b[39;00m\n\u001b[0;32m    302\u001b[0m     \u001b[39m#  trying to convert to float\u001b[39;00m\n\u001b[0;32m    303\u001b[0m     \u001b[39mif\u001b[39;00m errors \u001b[39m==\u001b[39m \u001b[39m\"\u001b[39m\u001b[39mignore\u001b[39m\u001b[39m\"\u001b[39m:\n",
      "File \u001b[1;32mc:\\Users\\Auli\\AppData\\Local\\Programs\\Python\\Python310\\lib\\site-packages\\pandas\\core\\dtypes\\astype.py:230\u001b[0m, in \u001b[0;36mastype_array\u001b[1;34m(values, dtype, copy)\u001b[0m\n\u001b[0;32m    227\u001b[0m     values \u001b[39m=\u001b[39m values\u001b[39m.\u001b[39mastype(dtype, copy\u001b[39m=\u001b[39mcopy)\n\u001b[0;32m    229\u001b[0m \u001b[39melse\u001b[39;00m:\n\u001b[1;32m--> 230\u001b[0m     values \u001b[39m=\u001b[39m astype_nansafe(values, dtype, copy\u001b[39m=\u001b[39;49mcopy)\n\u001b[0;32m    232\u001b[0m \u001b[39m# in pandas we don't store numpy str dtypes, so convert to object\u001b[39;00m\n\u001b[0;32m    233\u001b[0m \u001b[39mif\u001b[39;00m \u001b[39misinstance\u001b[39m(dtype, np\u001b[39m.\u001b[39mdtype) \u001b[39mand\u001b[39;00m \u001b[39missubclass\u001b[39m(values\u001b[39m.\u001b[39mdtype\u001b[39m.\u001b[39mtype, \u001b[39mstr\u001b[39m):\n",
      "File \u001b[1;32mc:\\Users\\Auli\\AppData\\Local\\Programs\\Python\\Python310\\lib\\site-packages\\pandas\\core\\dtypes\\astype.py:170\u001b[0m, in \u001b[0;36mastype_nansafe\u001b[1;34m(arr, dtype, copy, skipna)\u001b[0m\n\u001b[0;32m    166\u001b[0m     \u001b[39mraise\u001b[39;00m \u001b[39mValueError\u001b[39;00m(msg)\n\u001b[0;32m    168\u001b[0m \u001b[39mif\u001b[39;00m copy \u001b[39mor\u001b[39;00m is_object_dtype(arr\u001b[39m.\u001b[39mdtype) \u001b[39mor\u001b[39;00m is_object_dtype(dtype):\n\u001b[0;32m    169\u001b[0m     \u001b[39m# Explicit copy, or required since NumPy can't view from / to object.\u001b[39;00m\n\u001b[1;32m--> 170\u001b[0m     \u001b[39mreturn\u001b[39;00m arr\u001b[39m.\u001b[39;49mastype(dtype, copy\u001b[39m=\u001b[39;49m\u001b[39mTrue\u001b[39;49;00m)\n\u001b[0;32m    172\u001b[0m \u001b[39mreturn\u001b[39;00m arr\u001b[39m.\u001b[39mastype(dtype, copy\u001b[39m=\u001b[39mcopy)\n",
      "\u001b[1;31mValueError\u001b[0m: cannot convert float NaN to integer"
     ]
    }
   ],
   "source": [
    "precios_semana_20200518.producto_id = precios_semana_20200518.producto_id.astype(np.int64) \n",
    "# I convert the ids in integer"
   ]
  },
  {
   "cell_type": "code",
   "execution_count": 10,
   "metadata": {},
   "outputs": [],
   "source": [
    "precios_semana_20200518.producto_id.fillna('0', inplace=True) # There where \"None\" values in the id\n",
    "                                                              # so it wouldn´t let me make them integers,\n",
    "                                                              # so I replace them with zeros"
   ]
  },
  {
   "cell_type": "code",
   "execution_count": 11,
   "metadata": {},
   "outputs": [],
   "source": [
    "precios_semana_20200518.producto_id = precios_semana_20200518.producto_id.astype(np.int64) \n",
    "# I convert the ids to integer"
   ]
  },
  {
   "cell_type": "code",
   "execution_count": 12,
   "metadata": {},
   "outputs": [
    {
     "data": {
      "text/html": [
       "<div>\n",
       "<style scoped>\n",
       "    .dataframe tbody tr th:only-of-type {\n",
       "        vertical-align: middle;\n",
       "    }\n",
       "\n",
       "    .dataframe tbody tr th {\n",
       "        vertical-align: top;\n",
       "    }\n",
       "\n",
       "    .dataframe thead th {\n",
       "        text-align: right;\n",
       "    }\n",
       "</style>\n",
       "<table border=\"1\" class=\"dataframe\">\n",
       "  <thead>\n",
       "    <tr style=\"text-align: right;\">\n",
       "      <th></th>\n",
       "      <th>precio</th>\n",
       "      <th>producto_id</th>\n",
       "      <th>sucursal_id</th>\n",
       "    </tr>\n",
       "  </thead>\n",
       "  <tbody>\n",
       "    <tr>\n",
       "      <th>0</th>\n",
       "      <td>29.90</td>\n",
       "      <td>2288</td>\n",
       "      <td>2-1-009</td>\n",
       "    </tr>\n",
       "    <tr>\n",
       "      <th>1</th>\n",
       "      <td>32.90</td>\n",
       "      <td>2288</td>\n",
       "      <td>2-1-037</td>\n",
       "    </tr>\n",
       "    <tr>\n",
       "      <th>2</th>\n",
       "      <td>36.90</td>\n",
       "      <td>2288</td>\n",
       "      <td>2-1-090</td>\n",
       "    </tr>\n",
       "    <tr>\n",
       "      <th>3</th>\n",
       "      <td>39.90</td>\n",
       "      <td>2288</td>\n",
       "      <td>2-3-247</td>\n",
       "    </tr>\n",
       "    <tr>\n",
       "      <th>4</th>\n",
       "      <td>499.99</td>\n",
       "      <td>205870</td>\n",
       "      <td>9-1-430</td>\n",
       "    </tr>\n",
       "  </tbody>\n",
       "</table>\n",
       "</div>"
      ],
      "text/plain": [
       "   precio  producto_id sucursal_id\n",
       "0   29.90         2288     2-1-009\n",
       "1   32.90         2288     2-1-037\n",
       "2   36.90         2288     2-1-090\n",
       "3   39.90         2288     2-3-247\n",
       "4  499.99       205870     9-1-430"
      ]
     },
     "execution_count": 12,
     "metadata": {},
     "output_type": "execute_result"
    }
   ],
   "source": [
    "precios_semana_20200518.head()"
   ]
  },
  {
   "cell_type": "code",
   "execution_count": 13,
   "metadata": {},
   "outputs": [
    {
     "data": {
      "text/html": [
       "<div>\n",
       "<style scoped>\n",
       "    .dataframe tbody tr th:only-of-type {\n",
       "        vertical-align: middle;\n",
       "    }\n",
       "\n",
       "    .dataframe tbody tr th {\n",
       "        vertical-align: top;\n",
       "    }\n",
       "\n",
       "    .dataframe thead th {\n",
       "        text-align: right;\n",
       "    }\n",
       "</style>\n",
       "<table border=\"1\" class=\"dataframe\">\n",
       "  <thead>\n",
       "    <tr style=\"text-align: right;\">\n",
       "      <th></th>\n",
       "      <th>precio</th>\n",
       "      <th>producto_id</th>\n",
       "      <th>sucursal_id</th>\n",
       "    </tr>\n",
       "  </thead>\n",
       "  <tbody>\n",
       "    <tr>\n",
       "      <th>375118</th>\n",
       "      <td>203.0</td>\n",
       "      <td>0</td>\n",
       "      <td>NaN</td>\n",
       "    </tr>\n",
       "    <tr>\n",
       "      <th>375157</th>\n",
       "      <td>NaN</td>\n",
       "      <td>0</td>\n",
       "      <td>NaN</td>\n",
       "    </tr>\n",
       "    <tr>\n",
       "      <th>375193</th>\n",
       "      <td>240.0</td>\n",
       "      <td>0</td>\n",
       "      <td>NaN</td>\n",
       "    </tr>\n",
       "    <tr>\n",
       "      <th>375278</th>\n",
       "      <td>NaN</td>\n",
       "      <td>0</td>\n",
       "      <td>NaN</td>\n",
       "    </tr>\n",
       "    <tr>\n",
       "      <th>375357</th>\n",
       "      <td>NaN</td>\n",
       "      <td>0</td>\n",
       "      <td>NaN</td>\n",
       "    </tr>\n",
       "    <tr>\n",
       "      <th>375397</th>\n",
       "      <td>NaN</td>\n",
       "      <td>0</td>\n",
       "      <td>NaN</td>\n",
       "    </tr>\n",
       "  </tbody>\n",
       "</table>\n",
       "</div>"
      ],
      "text/plain": [
       "        precio  producto_id sucursal_id\n",
       "375118   203.0            0         NaN\n",
       "375157     NaN            0         NaN\n",
       "375193   240.0            0         NaN\n",
       "375278     NaN            0         NaN\n",
       "375357     NaN            0         NaN\n",
       "375397     NaN            0         NaN"
      ]
     },
     "execution_count": 13,
     "metadata": {},
     "output_type": "execute_result"
    }
   ],
   "source": [
    "precios_semana_20200518[precios_semana_20200518.producto_id == 0]\n",
    "# There are NaN values in \"sucursal_id\" that I could replace for \"Sin dato\""
   ]
  },
  {
   "cell_type": "code",
   "execution_count": 14,
   "metadata": {},
   "outputs": [],
   "source": [
    "precios_semana_20200518.sucursal_id.fillna('Sin Dato', inplace=True) \n",
    "# I fill the missing values with 'Sin dato'"
   ]
  },
  {
   "cell_type": "code",
   "execution_count": 15,
   "metadata": {},
   "outputs": [
    {
     "data": {
      "text/html": [
       "<div>\n",
       "<style scoped>\n",
       "    .dataframe tbody tr th:only-of-type {\n",
       "        vertical-align: middle;\n",
       "    }\n",
       "\n",
       "    .dataframe tbody tr th {\n",
       "        vertical-align: top;\n",
       "    }\n",
       "\n",
       "    .dataframe thead th {\n",
       "        text-align: right;\n",
       "    }\n",
       "</style>\n",
       "<table border=\"1\" class=\"dataframe\">\n",
       "  <thead>\n",
       "    <tr style=\"text-align: right;\">\n",
       "      <th></th>\n",
       "      <th>precio</th>\n",
       "      <th>producto_id</th>\n",
       "      <th>sucursal_id</th>\n",
       "    </tr>\n",
       "  </thead>\n",
       "  <tbody>\n",
       "    <tr>\n",
       "      <th>375118</th>\n",
       "      <td>203.0</td>\n",
       "      <td>0</td>\n",
       "      <td>Sin Dato</td>\n",
       "    </tr>\n",
       "    <tr>\n",
       "      <th>375157</th>\n",
       "      <td>NaN</td>\n",
       "      <td>0</td>\n",
       "      <td>Sin Dato</td>\n",
       "    </tr>\n",
       "    <tr>\n",
       "      <th>375193</th>\n",
       "      <td>240.0</td>\n",
       "      <td>0</td>\n",
       "      <td>Sin Dato</td>\n",
       "    </tr>\n",
       "    <tr>\n",
       "      <th>375278</th>\n",
       "      <td>NaN</td>\n",
       "      <td>0</td>\n",
       "      <td>Sin Dato</td>\n",
       "    </tr>\n",
       "    <tr>\n",
       "      <th>375357</th>\n",
       "      <td>NaN</td>\n",
       "      <td>0</td>\n",
       "      <td>Sin Dato</td>\n",
       "    </tr>\n",
       "    <tr>\n",
       "      <th>375397</th>\n",
       "      <td>NaN</td>\n",
       "      <td>0</td>\n",
       "      <td>Sin Dato</td>\n",
       "    </tr>\n",
       "  </tbody>\n",
       "</table>\n",
       "</div>"
      ],
      "text/plain": [
       "        precio  producto_id sucursal_id\n",
       "375118   203.0            0    Sin Dato\n",
       "375157     NaN            0    Sin Dato\n",
       "375193   240.0            0    Sin Dato\n",
       "375278     NaN            0    Sin Dato\n",
       "375357     NaN            0    Sin Dato\n",
       "375397     NaN            0    Sin Dato"
      ]
     },
     "execution_count": 15,
     "metadata": {},
     "output_type": "execute_result"
    }
   ],
   "source": [
    "precios_semana_20200518[precios_semana_20200518.producto_id == 0]\n",
    "# I check that it changed"
   ]
  },
  {
   "cell_type": "code",
   "execution_count": 16,
   "metadata": {},
   "outputs": [],
   "source": [
    "precios_semana_20200518.precio.fillna(0, inplace=True) \n",
    "# I fill the missing values in price for zero"
   ]
  },
  {
   "cell_type": "code",
   "execution_count": 17,
   "metadata": {},
   "outputs": [
    {
     "data": {
      "text/html": [
       "<div>\n",
       "<style scoped>\n",
       "    .dataframe tbody tr th:only-of-type {\n",
       "        vertical-align: middle;\n",
       "    }\n",
       "\n",
       "    .dataframe tbody tr th {\n",
       "        vertical-align: top;\n",
       "    }\n",
       "\n",
       "    .dataframe thead th {\n",
       "        text-align: right;\n",
       "    }\n",
       "</style>\n",
       "<table border=\"1\" class=\"dataframe\">\n",
       "  <thead>\n",
       "    <tr style=\"text-align: right;\">\n",
       "      <th></th>\n",
       "      <th>precio</th>\n",
       "      <th>producto_id</th>\n",
       "      <th>sucursal_id</th>\n",
       "    </tr>\n",
       "  </thead>\n",
       "  <tbody>\n",
       "    <tr>\n",
       "      <th>375118</th>\n",
       "      <td>203.0</td>\n",
       "      <td>0</td>\n",
       "      <td>Sin Dato</td>\n",
       "    </tr>\n",
       "    <tr>\n",
       "      <th>375157</th>\n",
       "      <td>0.0</td>\n",
       "      <td>0</td>\n",
       "      <td>Sin Dato</td>\n",
       "    </tr>\n",
       "    <tr>\n",
       "      <th>375193</th>\n",
       "      <td>240.0</td>\n",
       "      <td>0</td>\n",
       "      <td>Sin Dato</td>\n",
       "    </tr>\n",
       "    <tr>\n",
       "      <th>375278</th>\n",
       "      <td>0.0</td>\n",
       "      <td>0</td>\n",
       "      <td>Sin Dato</td>\n",
       "    </tr>\n",
       "    <tr>\n",
       "      <th>375357</th>\n",
       "      <td>0.0</td>\n",
       "      <td>0</td>\n",
       "      <td>Sin Dato</td>\n",
       "    </tr>\n",
       "    <tr>\n",
       "      <th>375397</th>\n",
       "      <td>0.0</td>\n",
       "      <td>0</td>\n",
       "      <td>Sin Dato</td>\n",
       "    </tr>\n",
       "  </tbody>\n",
       "</table>\n",
       "</div>"
      ],
      "text/plain": [
       "        precio  producto_id sucursal_id\n",
       "375118   203.0            0    Sin Dato\n",
       "375157     0.0            0    Sin Dato\n",
       "375193   240.0            0    Sin Dato\n",
       "375278     0.0            0    Sin Dato\n",
       "375357     0.0            0    Sin Dato\n",
       "375397     0.0            0    Sin Dato"
      ]
     },
     "execution_count": 17,
     "metadata": {},
     "output_type": "execute_result"
    }
   ],
   "source": [
    "precios_semana_20200518[precios_semana_20200518.producto_id == 0]\n",
    "# I check that it changed"
   ]
  },
  {
   "cell_type": "code",
   "execution_count": 21,
   "metadata": {},
   "outputs": [
    {
     "data": {
      "text/plain": [
       "precio         0\n",
       "producto_id    0\n",
       "sucursal_id    0\n",
       "dtype: int64"
      ]
     },
     "execution_count": 21,
     "metadata": {},
     "output_type": "execute_result"
    }
   ],
   "source": [
    "precios_semana_20200518[precios_semana_20200518.producto_id == 0].count()\n",
    "# I count how many entries are missing the product_id, since there are a few I'll drop them"
   ]
  },
  {
   "cell_type": "code",
   "execution_count": 18,
   "metadata": {},
   "outputs": [],
   "source": [
    "precios_semana_sin_producto = precios_semana_20200518[precios_semana_20200518.producto_id == 0].index"
   ]
  },
  {
   "cell_type": "code",
   "execution_count": 19,
   "metadata": {},
   "outputs": [],
   "source": [
    "precios_semana_20200518.drop(precios_semana_sin_producto, inplace=True)"
   ]
  },
  {
   "cell_type": "code",
   "execution_count": 20,
   "metadata": {},
   "outputs": [
    {
     "data": {
      "text/html": [
       "<div>\n",
       "<style scoped>\n",
       "    .dataframe tbody tr th:only-of-type {\n",
       "        vertical-align: middle;\n",
       "    }\n",
       "\n",
       "    .dataframe tbody tr th {\n",
       "        vertical-align: top;\n",
       "    }\n",
       "\n",
       "    .dataframe thead th {\n",
       "        text-align: right;\n",
       "    }\n",
       "</style>\n",
       "<table border=\"1\" class=\"dataframe\">\n",
       "  <thead>\n",
       "    <tr style=\"text-align: right;\">\n",
       "      <th></th>\n",
       "      <th>precio</th>\n",
       "      <th>producto_id</th>\n",
       "      <th>sucursal_id</th>\n",
       "    </tr>\n",
       "  </thead>\n",
       "  <tbody>\n",
       "    <tr>\n",
       "      <th>0</th>\n",
       "      <td>29.90</td>\n",
       "      <td>2288</td>\n",
       "      <td>2-1-009</td>\n",
       "    </tr>\n",
       "    <tr>\n",
       "      <th>1</th>\n",
       "      <td>32.90</td>\n",
       "      <td>2288</td>\n",
       "      <td>2-1-037</td>\n",
       "    </tr>\n",
       "    <tr>\n",
       "      <th>2</th>\n",
       "      <td>36.90</td>\n",
       "      <td>2288</td>\n",
       "      <td>2-1-090</td>\n",
       "    </tr>\n",
       "    <tr>\n",
       "      <th>3</th>\n",
       "      <td>39.90</td>\n",
       "      <td>2288</td>\n",
       "      <td>2-3-247</td>\n",
       "    </tr>\n",
       "    <tr>\n",
       "      <th>4</th>\n",
       "      <td>499.99</td>\n",
       "      <td>205870</td>\n",
       "      <td>9-1-430</td>\n",
       "    </tr>\n",
       "  </tbody>\n",
       "</table>\n",
       "</div>"
      ],
      "text/plain": [
       "   precio  producto_id sucursal_id\n",
       "0   29.90         2288     2-1-009\n",
       "1   32.90         2288     2-1-037\n",
       "2   36.90         2288     2-1-090\n",
       "3   39.90         2288     2-3-247\n",
       "4  499.99       205870     9-1-430"
      ]
     },
     "execution_count": 20,
     "metadata": {},
     "output_type": "execute_result"
    }
   ],
   "source": [
    "precios_semana_20200518.head()"
   ]
  },
  {
   "cell_type": "markdown",
   "metadata": {},
   "source": [
    "## I check the \"precios_semana_20200503\" dataset"
   ]
  },
  {
   "cell_type": "code",
   "execution_count": 54,
   "metadata": {},
   "outputs": [
    {
     "name": "stdout",
     "output_type": "stream",
     "text": [
      "<class 'pandas.core.frame.DataFrame'>\n",
      "RangeIndex: 397734 entries, 0 to 397733\n",
      "Data columns (total 3 columns):\n",
      " #   Column       Non-Null Count   Dtype \n",
      "---  ------       --------------   ----- \n",
      " 0   precio       397734 non-null  object\n",
      " 1   producto_id  397734 non-null  object\n",
      " 2   sucursal_id  397734 non-null  object\n",
      "dtypes: object(3)\n",
      "memory usage: 9.1+ MB\n"
     ]
    }
   ],
   "source": [
    "precios_semana_20200503.info() # All columns are strings"
   ]
  },
  {
   "cell_type": "code",
   "execution_count": 84,
   "metadata": {},
   "outputs": [
    {
     "data": {
      "text/html": [
       "<div>\n",
       "<style scoped>\n",
       "    .dataframe tbody tr th:only-of-type {\n",
       "        vertical-align: middle;\n",
       "    }\n",
       "\n",
       "    .dataframe tbody tr th {\n",
       "        vertical-align: top;\n",
       "    }\n",
       "\n",
       "    .dataframe thead th {\n",
       "        text-align: right;\n",
       "    }\n",
       "</style>\n",
       "<table border=\"1\" class=\"dataframe\">\n",
       "  <thead>\n",
       "    <tr style=\"text-align: right;\">\n",
       "      <th></th>\n",
       "      <th>precio</th>\n",
       "      <th>producto_id</th>\n",
       "      <th>sucursal_id</th>\n",
       "    </tr>\n",
       "  </thead>\n",
       "  <tbody>\n",
       "    <tr>\n",
       "      <th>0</th>\n",
       "      <td>29.90</td>\n",
       "      <td>0000000002288</td>\n",
       "      <td>2-1-187</td>\n",
       "    </tr>\n",
       "    <tr>\n",
       "      <th>1</th>\n",
       "      <td>39.90</td>\n",
       "      <td>0000000002288</td>\n",
       "      <td>2-3-247</td>\n",
       "    </tr>\n",
       "    <tr>\n",
       "      <th>2</th>\n",
       "      <td>499.99</td>\n",
       "      <td>0000000205870</td>\n",
       "      <td>9-1-685</td>\n",
       "    </tr>\n",
       "    <tr>\n",
       "      <th>3</th>\n",
       "      <td>539.99</td>\n",
       "      <td>0000000205870</td>\n",
       "      <td>9-2-22</td>\n",
       "    </tr>\n",
       "    <tr>\n",
       "      <th>4</th>\n",
       "      <td>519.99</td>\n",
       "      <td>0000000205870</td>\n",
       "      <td>9-2-59</td>\n",
       "    </tr>\n",
       "  </tbody>\n",
       "</table>\n",
       "</div>"
      ],
      "text/plain": [
       "   precio    producto_id sucursal_id\n",
       "0   29.90  0000000002288     2-1-187\n",
       "1   39.90  0000000002288     2-3-247\n",
       "2  499.99  0000000205870     9-1-685\n",
       "3  539.99  0000000205870      9-2-22\n",
       "4  519.99  0000000205870      9-2-59"
      ]
     },
     "execution_count": 84,
     "metadata": {},
     "output_type": "execute_result"
    }
   ],
   "source": [
    "precios_semana_20200503.head()"
   ]
  },
  {
   "cell_type": "code",
   "execution_count": 83,
   "metadata": {},
   "outputs": [],
   "source": [
    "precios_semana_20200503.precio = precios_semana_20200503.precio.str.replace('','0').fillna(precios_semana_20200503.precio).astype(float)\n",
    "# I replace the empty values for zero\n",
    "# and I convert the column to float"
   ]
  },
  {
   "cell_type": "code",
   "execution_count": 80,
   "metadata": {},
   "outputs": [
    {
     "data": {
      "text/plain": [
       "precio         0\n",
       "producto_id    0\n",
       "sucursal_id    0\n",
       "dtype: int64"
      ]
     },
     "execution_count": 80,
     "metadata": {},
     "output_type": "execute_result"
    }
   ],
   "source": [
    "precios_semana_20200503[precios_semana_20200503.precio == ''].count()\n",
    "# I check how many products have no price"
   ]
  },
  {
   "cell_type": "code",
   "execution_count": 85,
   "metadata": {},
   "outputs": [
    {
     "data": {
      "text/html": [
       "<div>\n",
       "<style scoped>\n",
       "    .dataframe tbody tr th:only-of-type {\n",
       "        vertical-align: middle;\n",
       "    }\n",
       "\n",
       "    .dataframe tbody tr th {\n",
       "        vertical-align: top;\n",
       "    }\n",
       "\n",
       "    .dataframe thead th {\n",
       "        text-align: right;\n",
       "    }\n",
       "</style>\n",
       "<table border=\"1\" class=\"dataframe\">\n",
       "  <thead>\n",
       "    <tr style=\"text-align: right;\">\n",
       "      <th></th>\n",
       "      <th>precio</th>\n",
       "      <th>producto_id</th>\n",
       "      <th>sucursal_id</th>\n",
       "    </tr>\n",
       "  </thead>\n",
       "  <tbody>\n",
       "  </tbody>\n",
       "</table>\n",
       "</div>"
      ],
      "text/plain": [
       "Empty DataFrame\n",
       "Columns: [precio, producto_id, sucursal_id]\n",
       "Index: []"
      ]
     },
     "execution_count": 85,
     "metadata": {},
     "output_type": "execute_result"
    }
   ],
   "source": [
    "precios_semana_20200503[precios_semana_20200503.precio == '']\n",
    "# I make sure there are not empty values"
   ]
  },
  {
   "cell_type": "code",
   "execution_count": 86,
   "metadata": {},
   "outputs": [],
   "source": [
    "precios_semana_20200503.producto_id = precios_semana_20200503.producto_id.str.replace('-','') \n",
    "# I erase the middle dash from the id"
   ]
  },
  {
   "cell_type": "code",
   "execution_count": 88,
   "metadata": {},
   "outputs": [],
   "source": [
    "precios_semana_20200503.producto_id.fillna('0', inplace=True) # There were \"None\" values in the id\n",
    "                                                              # so it wouldn´t let me make them integers,\n",
    "                                                              # so I replace them with zeros"
   ]
  },
  {
   "cell_type": "code",
   "execution_count": 89,
   "metadata": {},
   "outputs": [],
   "source": [
    "precios_semana_20200503.producto_id = precios_semana_20200503.producto_id.astype(np.int64) \n",
    "# I convert the ids to integer"
   ]
  },
  {
   "cell_type": "code",
   "execution_count": 90,
   "metadata": {},
   "outputs": [],
   "source": [
    "precios_semana_20200503.sucursal_id.fillna('Sin Dato', inplace=True) \n",
    "# I fill the missing values with 'Sin dato'"
   ]
  },
  {
   "cell_type": "code",
   "execution_count": 92,
   "metadata": {},
   "outputs": [
    {
     "name": "stdout",
     "output_type": "stream",
     "text": [
      "<class 'pandas.core.frame.DataFrame'>\n",
      "Int64Index: 375262 entries, 13466 to 397733\n",
      "Data columns (total 3 columns):\n",
      " #   Column       Non-Null Count   Dtype  \n",
      "---  ------       --------------   -----  \n",
      " 0   precio       375262 non-null  float64\n",
      " 1   producto_id  375262 non-null  int64  \n",
      " 2   sucursal_id  375262 non-null  object \n",
      "dtypes: float64(1), int64(1), object(1)\n",
      "memory usage: 11.5+ MB\n"
     ]
    }
   ],
   "source": [
    "precios_semana_sin_producto = precios_semana_20200503[precios_semana_20200503.producto_id == 0]\n",
    "precios_semana_sin_producto.info() # There are many products with no id"
   ]
  },
  {
   "cell_type": "code",
   "execution_count": 97,
   "metadata": {},
   "outputs": [
    {
     "data": {
      "text/html": [
       "<div>\n",
       "<style scoped>\n",
       "    .dataframe tbody tr th:only-of-type {\n",
       "        vertical-align: middle;\n",
       "    }\n",
       "\n",
       "    .dataframe tbody tr th {\n",
       "        vertical-align: top;\n",
       "    }\n",
       "\n",
       "    .dataframe thead th {\n",
       "        text-align: right;\n",
       "    }\n",
       "</style>\n",
       "<table border=\"1\" class=\"dataframe\">\n",
       "  <thead>\n",
       "    <tr style=\"text-align: right;\">\n",
       "      <th></th>\n",
       "      <th>precio</th>\n",
       "      <th>producto_id</th>\n",
       "      <th>sucursal_id</th>\n",
       "    </tr>\n",
       "  </thead>\n",
       "  <tbody>\n",
       "    <tr>\n",
       "      <th>13468</th>\n",
       "      <td>80.0</td>\n",
       "      <td>0</td>\n",
       "      <td>10-1-18</td>\n",
       "    </tr>\n",
       "    <tr>\n",
       "      <th>13478</th>\n",
       "      <td>80.0</td>\n",
       "      <td>0</td>\n",
       "      <td>10-2-176</td>\n",
       "    </tr>\n",
       "    <tr>\n",
       "      <th>13485</th>\n",
       "      <td>80.0</td>\n",
       "      <td>0</td>\n",
       "      <td>16-1-1502</td>\n",
       "    </tr>\n",
       "    <tr>\n",
       "      <th>13491</th>\n",
       "      <td>80.0</td>\n",
       "      <td>0</td>\n",
       "      <td>44-1-8</td>\n",
       "    </tr>\n",
       "    <tr>\n",
       "      <th>13492</th>\n",
       "      <td>80.0</td>\n",
       "      <td>0</td>\n",
       "      <td>45-1-5</td>\n",
       "    </tr>\n",
       "    <tr>\n",
       "      <th>...</th>\n",
       "      <td>...</td>\n",
       "      <td>...</td>\n",
       "      <td>...</td>\n",
       "    </tr>\n",
       "    <tr>\n",
       "      <th>397623</th>\n",
       "      <td>80.0</td>\n",
       "      <td>0</td>\n",
       "      <td>16-1-1402</td>\n",
       "    </tr>\n",
       "    <tr>\n",
       "      <th>397639</th>\n",
       "      <td>80.0</td>\n",
       "      <td>0</td>\n",
       "      <td>7-1-35</td>\n",
       "    </tr>\n",
       "    <tr>\n",
       "      <th>397641</th>\n",
       "      <td>80.0</td>\n",
       "      <td>0</td>\n",
       "      <td>9-1-860</td>\n",
       "    </tr>\n",
       "    <tr>\n",
       "      <th>397644</th>\n",
       "      <td>80.0</td>\n",
       "      <td>0</td>\n",
       "      <td>9-2-233</td>\n",
       "    </tr>\n",
       "    <tr>\n",
       "      <th>397646</th>\n",
       "      <td>80.0</td>\n",
       "      <td>0</td>\n",
       "      <td>9-3-5222</td>\n",
       "    </tr>\n",
       "  </tbody>\n",
       "</table>\n",
       "<p>1203 rows × 3 columns</p>\n",
       "</div>"
      ],
      "text/plain": [
       "        precio  producto_id sucursal_id\n",
       "13468     80.0            0     10-1-18\n",
       "13478     80.0            0    10-2-176\n",
       "13485     80.0            0   16-1-1502\n",
       "13491     80.0            0      44-1-8\n",
       "13492     80.0            0      45-1-5\n",
       "...        ...          ...         ...\n",
       "397623    80.0            0   16-1-1402\n",
       "397639    80.0            0      7-1-35\n",
       "397641    80.0            0     9-1-860\n",
       "397644    80.0            0     9-2-233\n",
       "397646    80.0            0    9-3-5222\n",
       "\n",
       "[1203 rows x 3 columns]"
      ]
     },
     "execution_count": 97,
     "metadata": {},
     "output_type": "execute_result"
    }
   ],
   "source": [
    "precios_semana_sin_producto[precios_semana_sin_producto.precio == 80]"
   ]
  },
  {
   "cell_type": "code",
   "execution_count": 99,
   "metadata": {},
   "outputs": [],
   "source": [
    "precios_semana_sin_producto = precios_semana_20200503[precios_semana_20200503.producto_id == 0].index"
   ]
  },
  {
   "cell_type": "code",
   "execution_count": 100,
   "metadata": {},
   "outputs": [],
   "source": [
    "precios_semana_20200503.drop(precios_semana_sin_producto, inplace=True)\n",
    "# I drop them since I see no way of correlationate them to any price"
   ]
  },
  {
   "cell_type": "code",
   "execution_count": 101,
   "metadata": {},
   "outputs": [
    {
     "name": "stdout",
     "output_type": "stream",
     "text": [
      "<class 'pandas.core.frame.DataFrame'>\n",
      "Int64Index: 22472 entries, 0 to 397604\n",
      "Data columns (total 3 columns):\n",
      " #   Column       Non-Null Count  Dtype  \n",
      "---  ------       --------------  -----  \n",
      " 0   precio       22472 non-null  float64\n",
      " 1   producto_id  22472 non-null  int64  \n",
      " 2   sucursal_id  22472 non-null  object \n",
      "dtypes: float64(1), int64(1), object(1)\n",
      "memory usage: 702.2+ KB\n"
     ]
    }
   ],
   "source": [
    "precios_semana_20200503.info()"
   ]
  },
  {
   "cell_type": "code",
   "execution_count": 102,
   "metadata": {},
   "outputs": [
    {
     "data": {
      "text/html": [
       "<div>\n",
       "<style scoped>\n",
       "    .dataframe tbody tr th:only-of-type {\n",
       "        vertical-align: middle;\n",
       "    }\n",
       "\n",
       "    .dataframe tbody tr th {\n",
       "        vertical-align: top;\n",
       "    }\n",
       "\n",
       "    .dataframe thead th {\n",
       "        text-align: right;\n",
       "    }\n",
       "</style>\n",
       "<table border=\"1\" class=\"dataframe\">\n",
       "  <thead>\n",
       "    <tr style=\"text-align: right;\">\n",
       "      <th></th>\n",
       "      <th>precio</th>\n",
       "      <th>producto_id</th>\n",
       "      <th>sucursal_id</th>\n",
       "    </tr>\n",
       "  </thead>\n",
       "  <tbody>\n",
       "    <tr>\n",
       "      <th>0</th>\n",
       "      <td>29.90</td>\n",
       "      <td>2288</td>\n",
       "      <td>2-1-187</td>\n",
       "    </tr>\n",
       "    <tr>\n",
       "      <th>1</th>\n",
       "      <td>39.90</td>\n",
       "      <td>2288</td>\n",
       "      <td>2-3-247</td>\n",
       "    </tr>\n",
       "    <tr>\n",
       "      <th>2</th>\n",
       "      <td>499.99</td>\n",
       "      <td>205870</td>\n",
       "      <td>9-1-685</td>\n",
       "    </tr>\n",
       "    <tr>\n",
       "      <th>3</th>\n",
       "      <td>539.99</td>\n",
       "      <td>205870</td>\n",
       "      <td>9-2-22</td>\n",
       "    </tr>\n",
       "    <tr>\n",
       "      <th>4</th>\n",
       "      <td>519.99</td>\n",
       "      <td>205870</td>\n",
       "      <td>9-2-59</td>\n",
       "    </tr>\n",
       "  </tbody>\n",
       "</table>\n",
       "</div>"
      ],
      "text/plain": [
       "   precio  producto_id sucursal_id\n",
       "0   29.90         2288     2-1-187\n",
       "1   39.90         2288     2-3-247\n",
       "2  499.99       205870     9-1-685\n",
       "3  539.99       205870      9-2-22\n",
       "4  519.99       205870      9-2-59"
      ]
     },
     "execution_count": 102,
     "metadata": {},
     "output_type": "execute_result"
    }
   ],
   "source": [
    "precios_semana_20200503.head(5) # It seems everything is in order"
   ]
  },
  {
   "cell_type": "markdown",
   "metadata": {},
   "source": [
    "## I work the \"precios_semana_20200426\" dataset"
   ]
  },
  {
   "cell_type": "code",
   "execution_count": 5,
   "metadata": {},
   "outputs": [
    {
     "name": "stdout",
     "output_type": "stream",
     "text": [
      "<class 'pandas.core.frame.DataFrame'>\n",
      "RangeIndex: 478909 entries, 0 to 478908\n",
      "Data columns (total 3 columns):\n",
      " #   Column       Non-Null Count   Dtype  \n",
      "---  ------       --------------   -----  \n",
      " 0   precio       477173 non-null  float64\n",
      " 1   sucursal_id  478909 non-null  object \n",
      " 2   producto_id  465390 non-null  float64\n",
      "dtypes: float64(2), object(1)\n",
      "memory usage: 11.0+ MB\n"
     ]
    }
   ],
   "source": [
    "precios_semana_20200426.info() # I have to modify the \"sucursal\" and \"producto id\" columns"
   ]
  },
  {
   "cell_type": "code",
   "execution_count": 21,
   "metadata": {},
   "outputs": [
    {
     "data": {
      "text/html": [
       "<div>\n",
       "<style scoped>\n",
       "    .dataframe tbody tr th:only-of-type {\n",
       "        vertical-align: middle;\n",
       "    }\n",
       "\n",
       "    .dataframe tbody tr th {\n",
       "        vertical-align: top;\n",
       "    }\n",
       "\n",
       "    .dataframe thead th {\n",
       "        text-align: right;\n",
       "    }\n",
       "</style>\n",
       "<table border=\"1\" class=\"dataframe\">\n",
       "  <thead>\n",
       "    <tr style=\"text-align: right;\">\n",
       "      <th></th>\n",
       "      <th>precio</th>\n",
       "      <th>sucursal_id</th>\n",
       "      <th>producto_id</th>\n",
       "    </tr>\n",
       "  </thead>\n",
       "  <tbody>\n",
       "    <tr>\n",
       "      <th>0</th>\n",
       "      <td>399.0</td>\n",
       "      <td>2-1-092</td>\n",
       "      <td>2288.0</td>\n",
       "    </tr>\n",
       "    <tr>\n",
       "      <th>1</th>\n",
       "      <td>299.0</td>\n",
       "      <td>2-1-206</td>\n",
       "      <td>2288.0</td>\n",
       "    </tr>\n",
       "    <tr>\n",
       "      <th>2</th>\n",
       "      <td>399.0</td>\n",
       "      <td>2-2-241</td>\n",
       "      <td>2288.0</td>\n",
       "    </tr>\n",
       "    <tr>\n",
       "      <th>3</th>\n",
       "      <td>49999.0</td>\n",
       "      <td>9-1-430</td>\n",
       "      <td>205870.0</td>\n",
       "    </tr>\n",
       "    <tr>\n",
       "      <th>4</th>\n",
       "      <td>53999.0</td>\n",
       "      <td>9-2-4</td>\n",
       "      <td>205870.0</td>\n",
       "    </tr>\n",
       "  </tbody>\n",
       "</table>\n",
       "</div>"
      ],
      "text/plain": [
       "    precio sucursal_id  producto_id\n",
       "0    399.0     2-1-092       2288.0\n",
       "1    299.0     2-1-206       2288.0\n",
       "2    399.0     2-2-241       2288.0\n",
       "3  49999.0     9-1-430     205870.0\n",
       "4  53999.0       9-2-4     205870.0"
      ]
     },
     "execution_count": 21,
     "metadata": {},
     "output_type": "execute_result"
    }
   ],
   "source": [
    "precios_semana_20200426.head(5)"
   ]
  },
  {
   "cell_type": "markdown",
   "metadata": {},
   "source": [
    "I work on the price column first"
   ]
  },
  {
   "cell_type": "code",
   "execution_count": 22,
   "metadata": {},
   "outputs": [
    {
     "data": {
      "text/plain": [
       "0"
      ]
     },
     "execution_count": 22,
     "metadata": {},
     "output_type": "execute_result"
    }
   ],
   "source": [
    "precios_semana_20200426.precio.isna().sum() # There are missing values"
   ]
  },
  {
   "cell_type": "code",
   "execution_count": 15,
   "metadata": {},
   "outputs": [],
   "source": [
    "precios_semana_20200426.precio.fillna(0, inplace=True) \n",
    "# I fill the missing values with zero"
   ]
  },
  {
   "cell_type": "markdown",
   "metadata": {},
   "source": [
    "I work on the \"producto_id\" column"
   ]
  },
  {
   "cell_type": "code",
   "execution_count": 29,
   "metadata": {},
   "outputs": [
    {
     "data": {
      "text/plain": [
       "13519"
      ]
     },
     "execution_count": 29,
     "metadata": {},
     "output_type": "execute_result"
    }
   ],
   "source": [
    "precios_semana_20200426.producto_id.isna().sum() # There are missing values"
   ]
  },
  {
   "cell_type": "code",
   "execution_count": 28,
   "metadata": {},
   "outputs": [],
   "source": [
    "precios_semana_20200426.producto_id.dropna(inplace=True) # I drop the missing values"
   ]
  },
  {
   "cell_type": "code",
   "execution_count": 33,
   "metadata": {},
   "outputs": [
    {
     "data": {
      "text/html": [
       "<div>\n",
       "<style scoped>\n",
       "    .dataframe tbody tr th:only-of-type {\n",
       "        vertical-align: middle;\n",
       "    }\n",
       "\n",
       "    .dataframe tbody tr th {\n",
       "        vertical-align: top;\n",
       "    }\n",
       "\n",
       "    .dataframe thead th {\n",
       "        text-align: right;\n",
       "    }\n",
       "</style>\n",
       "<table border=\"1\" class=\"dataframe\">\n",
       "  <thead>\n",
       "    <tr style=\"text-align: right;\">\n",
       "      <th></th>\n",
       "      <th>precio</th>\n",
       "      <th>sucursal_id</th>\n",
       "      <th>producto_id</th>\n",
       "    </tr>\n",
       "  </thead>\n",
       "  <tbody>\n",
       "  </tbody>\n",
       "</table>\n",
       "</div>"
      ],
      "text/plain": [
       "Empty DataFrame\n",
       "Columns: [precio, sucursal_id, producto_id]\n",
       "Index: []"
      ]
     },
     "execution_count": 33,
     "metadata": {},
     "output_type": "execute_result"
    }
   ],
   "source": [
    "precios_semana_20200426[precios_semana_20200426.producto_id == precios_semana_20200426.producto_id.isna()]"
   ]
  },
  {
   "cell_type": "code",
   "execution_count": 36,
   "metadata": {},
   "outputs": [],
   "source": [
    "precios_semana_sin_productoid = precios_semana_20200426[precios_semana_20200426.producto_id.isna()].index \n",
    "# I create an product_id None index"
   ]
  },
  {
   "cell_type": "code",
   "execution_count": 37,
   "metadata": {},
   "outputs": [],
   "source": [
    "precios_semana_20200426.drop(precios_semana_sin_productoid, inplace=True) \n",
    "# I use the index to drop the columns with missing ids"
   ]
  },
  {
   "cell_type": "code",
   "execution_count": 38,
   "metadata": {},
   "outputs": [
    {
     "data": {
      "text/html": [
       "<div>\n",
       "<style scoped>\n",
       "    .dataframe tbody tr th:only-of-type {\n",
       "        vertical-align: middle;\n",
       "    }\n",
       "\n",
       "    .dataframe tbody tr th {\n",
       "        vertical-align: top;\n",
       "    }\n",
       "\n",
       "    .dataframe thead th {\n",
       "        text-align: right;\n",
       "    }\n",
       "</style>\n",
       "<table border=\"1\" class=\"dataframe\">\n",
       "  <thead>\n",
       "    <tr style=\"text-align: right;\">\n",
       "      <th></th>\n",
       "      <th>precio</th>\n",
       "      <th>sucursal_id</th>\n",
       "      <th>producto_id</th>\n",
       "    </tr>\n",
       "  </thead>\n",
       "  <tbody>\n",
       "  </tbody>\n",
       "</table>\n",
       "</div>"
      ],
      "text/plain": [
       "Empty DataFrame\n",
       "Columns: [precio, sucursal_id, producto_id]\n",
       "Index: []"
      ]
     },
     "execution_count": 38,
     "metadata": {},
     "output_type": "execute_result"
    }
   ],
   "source": [
    "precios_semana_20200426[precios_semana_20200426.producto_id.isna()] # I check that are not missing values left"
   ]
  },
  {
   "cell_type": "code",
   "execution_count": 16,
   "metadata": {},
   "outputs": [],
   "source": [
    "precios_semana_20200426.producto_id = precios_semana_20200426.producto_id.astype(str)\n",
    "# I convert the column to string"
   ]
  },
  {
   "cell_type": "code",
   "execution_count": 17,
   "metadata": {},
   "outputs": [],
   "source": [
    "precios_semana_20200426.producto_id = precios_semana_20200426.producto_id.str.replace('-','') \n",
    "# I erase the middle dash"
   ]
  },
  {
   "cell_type": "code",
   "execution_count": 18,
   "metadata": {},
   "outputs": [],
   "source": [
    "precios_semana_20200426.producto_id.fillna('0', inplace=True) # There were \"None\" values in the id\n",
    "                                                              # so it wouldn´t let me make them integers,\n",
    "                                                              # so I replace them with zeros"
   ]
  },
  {
   "cell_type": "code",
   "execution_count": 19,
   "metadata": {},
   "outputs": [],
   "source": [
    "precios_semana_20200426.producto_id = precios_semana_20200426.producto_id.astype(float) \n",
    "# I convert the ids to float"
   ]
  },
  {
   "cell_type": "code",
   "execution_count": 39,
   "metadata": {},
   "outputs": [],
   "source": [
    "precios_semana_20200426.producto_id = precios_semana_20200426.producto_id.astype(np.int64) \n",
    "# I convert the ids to integer"
   ]
  },
  {
   "cell_type": "code",
   "execution_count": 40,
   "metadata": {},
   "outputs": [
    {
     "data": {
      "text/html": [
       "<div>\n",
       "<style scoped>\n",
       "    .dataframe tbody tr th:only-of-type {\n",
       "        vertical-align: middle;\n",
       "    }\n",
       "\n",
       "    .dataframe tbody tr th {\n",
       "        vertical-align: top;\n",
       "    }\n",
       "\n",
       "    .dataframe thead th {\n",
       "        text-align: right;\n",
       "    }\n",
       "</style>\n",
       "<table border=\"1\" class=\"dataframe\">\n",
       "  <thead>\n",
       "    <tr style=\"text-align: right;\">\n",
       "      <th></th>\n",
       "      <th>precio</th>\n",
       "      <th>sucursal_id</th>\n",
       "      <th>producto_id</th>\n",
       "    </tr>\n",
       "  </thead>\n",
       "  <tbody>\n",
       "    <tr>\n",
       "      <th>0</th>\n",
       "      <td>399.0</td>\n",
       "      <td>2-1-092</td>\n",
       "      <td>2288</td>\n",
       "    </tr>\n",
       "    <tr>\n",
       "      <th>1</th>\n",
       "      <td>299.0</td>\n",
       "      <td>2-1-206</td>\n",
       "      <td>2288</td>\n",
       "    </tr>\n",
       "    <tr>\n",
       "      <th>2</th>\n",
       "      <td>399.0</td>\n",
       "      <td>2-2-241</td>\n",
       "      <td>2288</td>\n",
       "    </tr>\n",
       "    <tr>\n",
       "      <th>3</th>\n",
       "      <td>49999.0</td>\n",
       "      <td>9-1-430</td>\n",
       "      <td>205870</td>\n",
       "    </tr>\n",
       "    <tr>\n",
       "      <th>4</th>\n",
       "      <td>53999.0</td>\n",
       "      <td>9-2-4</td>\n",
       "      <td>205870</td>\n",
       "    </tr>\n",
       "  </tbody>\n",
       "</table>\n",
       "</div>"
      ],
      "text/plain": [
       "    precio sucursal_id  producto_id\n",
       "0    399.0     2-1-092         2288\n",
       "1    299.0     2-1-206         2288\n",
       "2    399.0     2-2-241         2288\n",
       "3  49999.0     9-1-430       205870\n",
       "4  53999.0       9-2-4       205870"
      ]
     },
     "execution_count": 40,
     "metadata": {},
     "output_type": "execute_result"
    }
   ],
   "source": [
    "precios_semana_20200426.head(5)"
   ]
  },
  {
   "cell_type": "code",
   "execution_count": 41,
   "metadata": {},
   "outputs": [
    {
     "name": "stdout",
     "output_type": "stream",
     "text": [
      "<class 'pandas.core.frame.DataFrame'>\n",
      "Int64Index: 465390 entries, 0 to 478908\n",
      "Data columns (total 3 columns):\n",
      " #   Column       Non-Null Count   Dtype  \n",
      "---  ------       --------------   -----  \n",
      " 0   precio       465390 non-null  float64\n",
      " 1   sucursal_id  465390 non-null  object \n",
      " 2   producto_id  465390 non-null  int64  \n",
      "dtypes: float64(1), int64(1), object(1)\n",
      "memory usage: 14.2+ MB\n"
     ]
    }
   ],
   "source": [
    "precios_semana_20200426.info() # Everything in order"
   ]
  },
  {
   "cell_type": "markdown",
   "metadata": {},
   "source": [
    "## \"precios_semana_20200419\" dataset"
   ]
  },
  {
   "cell_type": "code",
   "execution_count": 13,
   "metadata": {},
   "outputs": [
    {
     "name": "stdout",
     "output_type": "stream",
     "text": [
      "<class 'pandas.core.frame.DataFrame'>\n",
      "RangeIndex: 458543 entries, 0 to 458542\n",
      "Data columns (total 3 columns):\n",
      " #   Column       Non-Null Count   Dtype  \n",
      "---  ------       --------------   -----  \n",
      " 0   precio       456736 non-null  float64\n",
      " 1   sucursal_id  458543 non-null  object \n",
      " 2   producto_id  458543 non-null  object \n",
      "dtypes: float64(1), object(2)\n",
      "memory usage: 10.5+ MB\n"
     ]
    }
   ],
   "source": [
    "precios_semana_20200419.info()"
   ]
  },
  {
   "cell_type": "code",
   "execution_count": 14,
   "metadata": {},
   "outputs": [
    {
     "data": {
      "text/html": [
       "<div>\n",
       "<style scoped>\n",
       "    .dataframe tbody tr th:only-of-type {\n",
       "        vertical-align: middle;\n",
       "    }\n",
       "\n",
       "    .dataframe tbody tr th {\n",
       "        vertical-align: top;\n",
       "    }\n",
       "\n",
       "    .dataframe thead th {\n",
       "        text-align: right;\n",
       "    }\n",
       "</style>\n",
       "<table border=\"1\" class=\"dataframe\">\n",
       "  <thead>\n",
       "    <tr style=\"text-align: right;\">\n",
       "      <th></th>\n",
       "      <th>precio</th>\n",
       "      <th>sucursal_id</th>\n",
       "      <th>producto_id</th>\n",
       "    </tr>\n",
       "  </thead>\n",
       "  <tbody>\n",
       "    <tr>\n",
       "      <th>0</th>\n",
       "      <td>29.90</td>\n",
       "      <td>2-1-184</td>\n",
       "      <td>2288</td>\n",
       "    </tr>\n",
       "    <tr>\n",
       "      <th>1</th>\n",
       "      <td>39.90</td>\n",
       "      <td>2-1-206</td>\n",
       "      <td>2288</td>\n",
       "    </tr>\n",
       "    <tr>\n",
       "      <th>2</th>\n",
       "      <td>499.99</td>\n",
       "      <td>9-1-430</td>\n",
       "      <td>205870</td>\n",
       "    </tr>\n",
       "    <tr>\n",
       "      <th>3</th>\n",
       "      <td>539.99</td>\n",
       "      <td>9-2-107</td>\n",
       "      <td>205870</td>\n",
       "    </tr>\n",
       "    <tr>\n",
       "      <th>4</th>\n",
       "      <td>539.99</td>\n",
       "      <td>5218-03-09 00:00:00</td>\n",
       "      <td>205870</td>\n",
       "    </tr>\n",
       "  </tbody>\n",
       "</table>\n",
       "</div>"
      ],
      "text/plain": [
       "   precio          sucursal_id producto_id\n",
       "0   29.90              2-1-184        2288\n",
       "1   39.90              2-1-206        2288\n",
       "2  499.99              9-1-430      205870\n",
       "3  539.99              9-2-107      205870\n",
       "4  539.99  5218-03-09 00:00:00      205870"
      ]
     },
     "execution_count": 14,
     "metadata": {},
     "output_type": "execute_result"
    }
   ],
   "source": [
    "precios_semana_20200419.head(5)"
   ]
  },
  {
   "cell_type": "markdown",
   "metadata": {},
   "source": [
    "I work on the product_id column"
   ]
  },
  {
   "cell_type": "code",
   "execution_count": 15,
   "metadata": {},
   "outputs": [],
   "source": [
    "precios_semana_20200419.producto_id = precios_semana_20200419.producto_id.str.replace('-','') # I erase the middle dash"
   ]
  },
  {
   "cell_type": "code",
   "execution_count": 16,
   "metadata": {},
   "outputs": [
    {
     "data": {
      "text/plain": [
       "445975"
      ]
     },
     "execution_count": 16,
     "metadata": {},
     "output_type": "execute_result"
    }
   ],
   "source": [
    "precios_semana_20200419.producto_id.isna().sum() # there are missing values"
   ]
  },
  {
   "cell_type": "code",
   "execution_count": 17,
   "metadata": {},
   "outputs": [
    {
     "data": {
      "text/html": [
       "<div>\n",
       "<style scoped>\n",
       "    .dataframe tbody tr th:only-of-type {\n",
       "        vertical-align: middle;\n",
       "    }\n",
       "\n",
       "    .dataframe tbody tr th {\n",
       "        vertical-align: top;\n",
       "    }\n",
       "\n",
       "    .dataframe thead th {\n",
       "        text-align: right;\n",
       "    }\n",
       "</style>\n",
       "<table border=\"1\" class=\"dataframe\">\n",
       "  <thead>\n",
       "    <tr style=\"text-align: right;\">\n",
       "      <th></th>\n",
       "      <th>precio</th>\n",
       "      <th>sucursal_id</th>\n",
       "      <th>producto_id</th>\n",
       "    </tr>\n",
       "  </thead>\n",
       "  <tbody>\n",
       "    <tr>\n",
       "      <th>0</th>\n",
       "      <td>29.90</td>\n",
       "      <td>2-1-184</td>\n",
       "      <td>NaN</td>\n",
       "    </tr>\n",
       "    <tr>\n",
       "      <th>1</th>\n",
       "      <td>39.90</td>\n",
       "      <td>2-1-206</td>\n",
       "      <td>NaN</td>\n",
       "    </tr>\n",
       "    <tr>\n",
       "      <th>2</th>\n",
       "      <td>499.99</td>\n",
       "      <td>9-1-430</td>\n",
       "      <td>NaN</td>\n",
       "    </tr>\n",
       "    <tr>\n",
       "      <th>3</th>\n",
       "      <td>539.99</td>\n",
       "      <td>9-2-107</td>\n",
       "      <td>NaN</td>\n",
       "    </tr>\n",
       "    <tr>\n",
       "      <th>4</th>\n",
       "      <td>539.99</td>\n",
       "      <td>5218-03-09 00:00:00</td>\n",
       "      <td>NaN</td>\n",
       "    </tr>\n",
       "    <tr>\n",
       "      <th>...</th>\n",
       "      <td>...</td>\n",
       "      <td>...</td>\n",
       "      <td>...</td>\n",
       "    </tr>\n",
       "    <tr>\n",
       "      <th>458538</th>\n",
       "      <td>139.99</td>\n",
       "      <td>2001-01-25 00:00:00</td>\n",
       "      <td>NaN</td>\n",
       "    </tr>\n",
       "    <tr>\n",
       "      <th>458539</th>\n",
       "      <td>34.99</td>\n",
       "      <td>2001-01-25 00:00:00</td>\n",
       "      <td>NaN</td>\n",
       "    </tr>\n",
       "    <tr>\n",
       "      <th>458540</th>\n",
       "      <td>312.50</td>\n",
       "      <td>2003-01-05 00:00:00</td>\n",
       "      <td>NaN</td>\n",
       "    </tr>\n",
       "    <tr>\n",
       "      <th>458541</th>\n",
       "      <td>312.50</td>\n",
       "      <td>2003-01-05 00:00:00</td>\n",
       "      <td>NaN</td>\n",
       "    </tr>\n",
       "    <tr>\n",
       "      <th>458542</th>\n",
       "      <td>198.90</td>\n",
       "      <td>2003-01-05 00:00:00</td>\n",
       "      <td>NaN</td>\n",
       "    </tr>\n",
       "  </tbody>\n",
       "</table>\n",
       "<p>445975 rows × 3 columns</p>\n",
       "</div>"
      ],
      "text/plain": [
       "        precio          sucursal_id producto_id\n",
       "0        29.90              2-1-184         NaN\n",
       "1        39.90              2-1-206         NaN\n",
       "2       499.99              9-1-430         NaN\n",
       "3       539.99              9-2-107         NaN\n",
       "4       539.99  5218-03-09 00:00:00         NaN\n",
       "...        ...                  ...         ...\n",
       "458538  139.99  2001-01-25 00:00:00         NaN\n",
       "458539   34.99  2001-01-25 00:00:00         NaN\n",
       "458540  312.50  2003-01-05 00:00:00         NaN\n",
       "458541  312.50  2003-01-05 00:00:00         NaN\n",
       "458542  198.90  2003-01-05 00:00:00         NaN\n",
       "\n",
       "[445975 rows x 3 columns]"
      ]
     },
     "execution_count": 17,
     "metadata": {},
     "output_type": "execute_result"
    }
   ],
   "source": [
    "precios_semana_20200419[precios_semana_20200419.producto_id.isna()]"
   ]
  },
  {
   "cell_type": "code",
   "execution_count": 18,
   "metadata": {},
   "outputs": [],
   "source": [
    "precios_semana_sin_productoid = precios_semana_20200419[precios_semana_20200419.producto_id.isna()].index \n",
    "# I create the index to the product_id missing values"
   ]
  },
  {
   "cell_type": "code",
   "execution_count": 19,
   "metadata": {},
   "outputs": [],
   "source": [
    "precios_semana_20200419.drop(precios_semana_sin_productoid, inplace=True) # I drop the entries with missing id"
   ]
  },
  {
   "cell_type": "code",
   "execution_count": 20,
   "metadata": {},
   "outputs": [],
   "source": [
    "precios_semana_20200419.producto_id = precios_semana_20200419.producto_id.astype(np.int64) \n",
    "# I convert the id column to integer"
   ]
  },
  {
   "cell_type": "code",
   "execution_count": 21,
   "metadata": {},
   "outputs": [
    {
     "data": {
      "text/html": [
       "<div>\n",
       "<style scoped>\n",
       "    .dataframe tbody tr th:only-of-type {\n",
       "        vertical-align: middle;\n",
       "    }\n",
       "\n",
       "    .dataframe tbody tr th {\n",
       "        vertical-align: top;\n",
       "    }\n",
       "\n",
       "    .dataframe thead th {\n",
       "        text-align: right;\n",
       "    }\n",
       "</style>\n",
       "<table border=\"1\" class=\"dataframe\">\n",
       "  <thead>\n",
       "    <tr style=\"text-align: right;\">\n",
       "      <th></th>\n",
       "      <th>precio</th>\n",
       "      <th>sucursal_id</th>\n",
       "      <th>producto_id</th>\n",
       "    </tr>\n",
       "  </thead>\n",
       "  <tbody>\n",
       "    <tr>\n",
       "      <th>11125</th>\n",
       "      <td>829.00</td>\n",
       "      <td>2006-01-10 00:00:00</td>\n",
       "      <td>1012300006000003</td>\n",
       "    </tr>\n",
       "    <tr>\n",
       "      <th>11126</th>\n",
       "      <td>59.00</td>\n",
       "      <td>2026-01-10 00:00:00</td>\n",
       "      <td>1012300049000008</td>\n",
       "    </tr>\n",
       "    <tr>\n",
       "      <th>11127</th>\n",
       "      <td>59.00</td>\n",
       "      <td>1933-01-10 00:00:00</td>\n",
       "      <td>1012300073000005</td>\n",
       "    </tr>\n",
       "    <tr>\n",
       "      <th>11128</th>\n",
       "      <td>7.49</td>\n",
       "      <td>1948-01-10 00:00:00</td>\n",
       "      <td>1012300073000005</td>\n",
       "    </tr>\n",
       "    <tr>\n",
       "      <th>11129</th>\n",
       "      <td>59.00</td>\n",
       "      <td>1933-01-10 00:00:00</td>\n",
       "      <td>1012300075000003</td>\n",
       "    </tr>\n",
       "  </tbody>\n",
       "</table>\n",
       "</div>"
      ],
      "text/plain": [
       "       precio          sucursal_id       producto_id\n",
       "11125  829.00  2006-01-10 00:00:00  1012300006000003\n",
       "11126   59.00  2026-01-10 00:00:00  1012300049000008\n",
       "11127   59.00  1933-01-10 00:00:00  1012300073000005\n",
       "11128    7.49  1948-01-10 00:00:00  1012300073000005\n",
       "11129   59.00  1933-01-10 00:00:00  1012300075000003"
      ]
     },
     "execution_count": 21,
     "metadata": {},
     "output_type": "execute_result"
    }
   ],
   "source": [
    "precios_semana_20200419.head(5)"
   ]
  },
  {
   "cell_type": "markdown",
   "metadata": {},
   "source": [
    "I work on the \"sucursal_id\" column"
   ]
  },
  {
   "cell_type": "code",
   "execution_count": 57,
   "metadata": {},
   "outputs": [],
   "source": [
    "precios_semana_20200419.sucursal_id = precios_semana_20200419.sucursal_id.str.replace('00:00:00', '') # I erase the timestamp"
   ]
  },
  {
   "cell_type": "code",
   "execution_count": 22,
   "metadata": {},
   "outputs": [
    {
     "name": "stderr",
     "output_type": "stream",
     "text": [
      "C:\\Users\\Auli\\AppData\\Local\\Temp\\ipykernel_14064\\537415135.py:1: FutureWarning: The default value of regex will change from True to False in a future version.\n",
      "  precios_semana_20200419.sucursal_id = precios_semana_20200419.sucursal_id.str.replace('\\s*\\b\\d{4}-\\d{2}-\\d{2}[TRS]\\d{2}:\\d{2}:\\d{2}Z\\b', '')  # reemplazo los valores de tiempo en el campo por nada\n"
     ]
    }
   ],
   "source": [
    "precios_semana_20200419.sucursal_id = precios_semana_20200419.sucursal_id.str.replace('\\s*\\b\\d{4}-\\d{2}-\\d{2}[TRS]\\d{2}:\\d{2}:\\d{2}Z\\b', '')  # I replace the timestamp values"
   ]
  },
  {
   "cell_type": "code",
   "execution_count": 23,
   "metadata": {},
   "outputs": [
    {
     "data": {
      "text/html": [
       "<div>\n",
       "<style scoped>\n",
       "    .dataframe tbody tr th:only-of-type {\n",
       "        vertical-align: middle;\n",
       "    }\n",
       "\n",
       "    .dataframe tbody tr th {\n",
       "        vertical-align: top;\n",
       "    }\n",
       "\n",
       "    .dataframe thead th {\n",
       "        text-align: right;\n",
       "    }\n",
       "</style>\n",
       "<table border=\"1\" class=\"dataframe\">\n",
       "  <thead>\n",
       "    <tr style=\"text-align: right;\">\n",
       "      <th></th>\n",
       "      <th>precio</th>\n",
       "      <th>sucursal_id</th>\n",
       "      <th>producto_id</th>\n",
       "    </tr>\n",
       "  </thead>\n",
       "  <tbody>\n",
       "    <tr>\n",
       "      <th>11125</th>\n",
       "      <td>829.00</td>\n",
       "      <td>NaN</td>\n",
       "      <td>1012300006000003</td>\n",
       "    </tr>\n",
       "    <tr>\n",
       "      <th>11126</th>\n",
       "      <td>59.00</td>\n",
       "      <td>NaN</td>\n",
       "      <td>1012300049000008</td>\n",
       "    </tr>\n",
       "    <tr>\n",
       "      <th>11127</th>\n",
       "      <td>59.00</td>\n",
       "      <td>NaN</td>\n",
       "      <td>1012300073000005</td>\n",
       "    </tr>\n",
       "    <tr>\n",
       "      <th>11128</th>\n",
       "      <td>7.49</td>\n",
       "      <td>NaN</td>\n",
       "      <td>1012300073000005</td>\n",
       "    </tr>\n",
       "    <tr>\n",
       "      <th>11129</th>\n",
       "      <td>59.00</td>\n",
       "      <td>NaN</td>\n",
       "      <td>1012300075000003</td>\n",
       "    </tr>\n",
       "  </tbody>\n",
       "</table>\n",
       "</div>"
      ],
      "text/plain": [
       "       precio sucursal_id       producto_id\n",
       "11125  829.00         NaN  1012300006000003\n",
       "11126   59.00         NaN  1012300049000008\n",
       "11127   59.00         NaN  1012300073000005\n",
       "11128    7.49         NaN  1012300073000005\n",
       "11129   59.00         NaN  1012300075000003"
      ]
     },
     "execution_count": 23,
     "metadata": {},
     "output_type": "execute_result"
    }
   ],
   "source": [
    "precios_semana_20200419.head(5)"
   ]
  },
  {
   "cell_type": "code",
   "execution_count": 24,
   "metadata": {},
   "outputs": [
    {
     "data": {
      "text/html": [
       "<div>\n",
       "<style scoped>\n",
       "    .dataframe tbody tr th:only-of-type {\n",
       "        vertical-align: middle;\n",
       "    }\n",
       "\n",
       "    .dataframe tbody tr th {\n",
       "        vertical-align: top;\n",
       "    }\n",
       "\n",
       "    .dataframe thead th {\n",
       "        text-align: right;\n",
       "    }\n",
       "</style>\n",
       "<table border=\"1\" class=\"dataframe\">\n",
       "  <thead>\n",
       "    <tr style=\"text-align: right;\">\n",
       "      <th></th>\n",
       "      <th>precio</th>\n",
       "      <th>sucursal_id</th>\n",
       "      <th>producto_id</th>\n",
       "    </tr>\n",
       "  </thead>\n",
       "  <tbody>\n",
       "    <tr>\n",
       "      <th>11132</th>\n",
       "      <td>89.90</td>\n",
       "      <td>10-1-112</td>\n",
       "      <td>1012300377000008</td>\n",
       "    </tr>\n",
       "    <tr>\n",
       "      <th>11133</th>\n",
       "      <td>59.90</td>\n",
       "      <td>10-1-139</td>\n",
       "      <td>1012300377000008</td>\n",
       "    </tr>\n",
       "    <tr>\n",
       "      <th>11134</th>\n",
       "      <td>64.90</td>\n",
       "      <td>10-1-159</td>\n",
       "      <td>1012300377000008</td>\n",
       "    </tr>\n",
       "    <tr>\n",
       "      <th>11135</th>\n",
       "      <td>39.90</td>\n",
       "      <td>10-1-179</td>\n",
       "      <td>1012300377000008</td>\n",
       "    </tr>\n",
       "    <tr>\n",
       "      <th>11141</th>\n",
       "      <td>69.90</td>\n",
       "      <td>10-1-139</td>\n",
       "      <td>1012300397000002</td>\n",
       "    </tr>\n",
       "    <tr>\n",
       "      <th>...</th>\n",
       "      <td>...</td>\n",
       "      <td>...</td>\n",
       "      <td>...</td>\n",
       "    </tr>\n",
       "    <tr>\n",
       "      <th>457720</th>\n",
       "      <td>500.00</td>\n",
       "      <td>9-2-583</td>\n",
       "      <td>920000000995771</td>\n",
       "    </tr>\n",
       "    <tr>\n",
       "      <th>457721</th>\n",
       "      <td>404.00</td>\n",
       "      <td>9-2-953</td>\n",
       "      <td>920000000995771</td>\n",
       "    </tr>\n",
       "    <tr>\n",
       "      <th>457722</th>\n",
       "      <td>349.99</td>\n",
       "      <td>9-2-107</td>\n",
       "      <td>920000000999137</td>\n",
       "    </tr>\n",
       "    <tr>\n",
       "      <th>457723</th>\n",
       "      <td>145.00</td>\n",
       "      <td>9-2-583</td>\n",
       "      <td>920000000999755</td>\n",
       "    </tr>\n",
       "    <tr>\n",
       "      <th>457724</th>\n",
       "      <td>305.00</td>\n",
       "      <td>9-2-953</td>\n",
       "      <td>920000000999755</td>\n",
       "    </tr>\n",
       "  </tbody>\n",
       "</table>\n",
       "<p>8539 rows × 3 columns</p>\n",
       "</div>"
      ],
      "text/plain": [
       "        precio sucursal_id       producto_id\n",
       "11132    89.90    10-1-112  1012300377000008\n",
       "11133    59.90    10-1-139  1012300377000008\n",
       "11134    64.90    10-1-159  1012300377000008\n",
       "11135    39.90    10-1-179  1012300377000008\n",
       "11141    69.90    10-1-139  1012300397000002\n",
       "...        ...         ...               ...\n",
       "457720  500.00     9-2-583   920000000995771\n",
       "457721  404.00     9-2-953   920000000995771\n",
       "457722  349.99     9-2-107   920000000999137\n",
       "457723  145.00     9-2-583   920000000999755\n",
       "457724  305.00     9-2-953   920000000999755\n",
       "\n",
       "[8539 rows x 3 columns]"
      ]
     },
     "execution_count": 24,
     "metadata": {},
     "output_type": "execute_result"
    }
   ],
   "source": [
    "precios_semana_20200419[precios_semana_20200419.sucursal_id.notna()] # there are \"sucursal_id\" missing values"
   ]
  },
  {
   "cell_type": "code",
   "execution_count": 25,
   "metadata": {},
   "outputs": [],
   "source": [
    "precios_semana_sin_sucursalid = precios_semana_20200419[precios_semana_20200419.sucursal_id.isna()].index # I create the index of \"sucursal_id\" missing values"
   ]
  },
  {
   "cell_type": "code",
   "execution_count": 26,
   "metadata": {},
   "outputs": [],
   "source": [
    "precios_semana_20200419.drop(precios_semana_sin_sucursalid, inplace=True) # I use the index to drop some entries"
   ]
  },
  {
   "cell_type": "code",
   "execution_count": 27,
   "metadata": {},
   "outputs": [
    {
     "data": {
      "text/html": [
       "<div>\n",
       "<style scoped>\n",
       "    .dataframe tbody tr th:only-of-type {\n",
       "        vertical-align: middle;\n",
       "    }\n",
       "\n",
       "    .dataframe tbody tr th {\n",
       "        vertical-align: top;\n",
       "    }\n",
       "\n",
       "    .dataframe thead th {\n",
       "        text-align: right;\n",
       "    }\n",
       "</style>\n",
       "<table border=\"1\" class=\"dataframe\">\n",
       "  <thead>\n",
       "    <tr style=\"text-align: right;\">\n",
       "      <th></th>\n",
       "      <th>precio</th>\n",
       "      <th>sucursal_id</th>\n",
       "      <th>producto_id</th>\n",
       "    </tr>\n",
       "  </thead>\n",
       "  <tbody>\n",
       "    <tr>\n",
       "      <th>11132</th>\n",
       "      <td>89.9</td>\n",
       "      <td>10-1-112</td>\n",
       "      <td>1012300377000008</td>\n",
       "    </tr>\n",
       "    <tr>\n",
       "      <th>11133</th>\n",
       "      <td>59.9</td>\n",
       "      <td>10-1-139</td>\n",
       "      <td>1012300377000008</td>\n",
       "    </tr>\n",
       "    <tr>\n",
       "      <th>11134</th>\n",
       "      <td>64.9</td>\n",
       "      <td>10-1-159</td>\n",
       "      <td>1012300377000008</td>\n",
       "    </tr>\n",
       "    <tr>\n",
       "      <th>11135</th>\n",
       "      <td>39.9</td>\n",
       "      <td>10-1-179</td>\n",
       "      <td>1012300377000008</td>\n",
       "    </tr>\n",
       "    <tr>\n",
       "      <th>11141</th>\n",
       "      <td>69.9</td>\n",
       "      <td>10-1-139</td>\n",
       "      <td>1012300397000002</td>\n",
       "    </tr>\n",
       "  </tbody>\n",
       "</table>\n",
       "</div>"
      ],
      "text/plain": [
       "       precio sucursal_id       producto_id\n",
       "11132    89.9    10-1-112  1012300377000008\n",
       "11133    59.9    10-1-139  1012300377000008\n",
       "11134    64.9    10-1-159  1012300377000008\n",
       "11135    39.9    10-1-179  1012300377000008\n",
       "11141    69.9    10-1-139  1012300397000002"
      ]
     },
     "execution_count": 27,
     "metadata": {},
     "output_type": "execute_result"
    }
   ],
   "source": [
    "precios_semana_20200419.head(5) # Everything seems in order"
   ]
  },
  {
   "cell_type": "markdown",
   "metadata": {},
   "source": [
    "## \"precios_seamana_202004013\" dataset"
   ]
  },
  {
   "cell_type": "code",
   "execution_count": 76,
   "metadata": {},
   "outputs": [
    {
     "name": "stdout",
     "output_type": "stream",
     "text": [
      "<class 'pandas.core.frame.DataFrame'>\n",
      "RangeIndex: 472166 entries, 0 to 472165\n",
      "Data columns (total 3 columns):\n",
      " #   Column       Non-Null Count   Dtype  \n",
      "---  ------       --------------   -----  \n",
      " 0   precio       472153 non-null  float64\n",
      " 1   producto_id  472151 non-null  object \n",
      " 2   sucursal_id  472151 non-null  object \n",
      "dtypes: float64(1), object(2)\n",
      "memory usage: 10.8+ MB\n"
     ]
    }
   ],
   "source": [
    "precios_semana_20200413.info()"
   ]
  },
  {
   "cell_type": "code",
   "execution_count": 77,
   "metadata": {},
   "outputs": [
    {
     "data": {
      "text/html": [
       "<div>\n",
       "<style scoped>\n",
       "    .dataframe tbody tr th:only-of-type {\n",
       "        vertical-align: middle;\n",
       "    }\n",
       "\n",
       "    .dataframe tbody tr th {\n",
       "        vertical-align: top;\n",
       "    }\n",
       "\n",
       "    .dataframe thead th {\n",
       "        text-align: right;\n",
       "    }\n",
       "</style>\n",
       "<table border=\"1\" class=\"dataframe\">\n",
       "  <thead>\n",
       "    <tr style=\"text-align: right;\">\n",
       "      <th></th>\n",
       "      <th>precio</th>\n",
       "      <th>producto_id</th>\n",
       "      <th>sucursal_id</th>\n",
       "    </tr>\n",
       "  </thead>\n",
       "  <tbody>\n",
       "    <tr>\n",
       "      <th>0</th>\n",
       "      <td>29.90</td>\n",
       "      <td>0000000001663</td>\n",
       "      <td>2-1-014</td>\n",
       "    </tr>\n",
       "    <tr>\n",
       "      <th>1</th>\n",
       "      <td>29.90</td>\n",
       "      <td>0000000002288</td>\n",
       "      <td>2-1-032</td>\n",
       "    </tr>\n",
       "    <tr>\n",
       "      <th>2</th>\n",
       "      <td>39.90</td>\n",
       "      <td>0000000002288</td>\n",
       "      <td>2-1-096</td>\n",
       "    </tr>\n",
       "    <tr>\n",
       "      <th>3</th>\n",
       "      <td>499.99</td>\n",
       "      <td>0000000205870</td>\n",
       "      <td>9-1-686</td>\n",
       "    </tr>\n",
       "    <tr>\n",
       "      <th>4</th>\n",
       "      <td>519.99</td>\n",
       "      <td>0000000205870</td>\n",
       "      <td>9-2-248</td>\n",
       "    </tr>\n",
       "  </tbody>\n",
       "</table>\n",
       "</div>"
      ],
      "text/plain": [
       "   precio    producto_id sucursal_id\n",
       "0   29.90  0000000001663     2-1-014\n",
       "1   29.90  0000000002288     2-1-032\n",
       "2   39.90  0000000002288     2-1-096\n",
       "3  499.99  0000000205870     9-1-686\n",
       "4  519.99  0000000205870     9-2-248"
      ]
     },
     "execution_count": 77,
     "metadata": {},
     "output_type": "execute_result"
    }
   ],
   "source": [
    "precios_semana_20200413.head(5) # The \"producto_id\" and \"sucursal_id\" columns are inverted"
   ]
  },
  {
   "cell_type": "code",
   "execution_count": 4,
   "metadata": {},
   "outputs": [],
   "source": [
    "precios_semana_20200413 = precios_semana_20200413[['precio', 'sucursal_id', 'producto_id']] # I change the columns order"
   ]
  },
  {
   "cell_type": "code",
   "execution_count": 5,
   "metadata": {},
   "outputs": [
    {
     "data": {
      "text/html": [
       "<div>\n",
       "<style scoped>\n",
       "    .dataframe tbody tr th:only-of-type {\n",
       "        vertical-align: middle;\n",
       "    }\n",
       "\n",
       "    .dataframe tbody tr th {\n",
       "        vertical-align: top;\n",
       "    }\n",
       "\n",
       "    .dataframe thead th {\n",
       "        text-align: right;\n",
       "    }\n",
       "</style>\n",
       "<table border=\"1\" class=\"dataframe\">\n",
       "  <thead>\n",
       "    <tr style=\"text-align: right;\">\n",
       "      <th></th>\n",
       "      <th>precio</th>\n",
       "      <th>sucursal_id</th>\n",
       "      <th>producto_id</th>\n",
       "    </tr>\n",
       "  </thead>\n",
       "  <tbody>\n",
       "    <tr>\n",
       "      <th>0</th>\n",
       "      <td>29.90</td>\n",
       "      <td>2-1-014</td>\n",
       "      <td>0000000001663</td>\n",
       "    </tr>\n",
       "    <tr>\n",
       "      <th>1</th>\n",
       "      <td>29.90</td>\n",
       "      <td>2-1-032</td>\n",
       "      <td>0000000002288</td>\n",
       "    </tr>\n",
       "    <tr>\n",
       "      <th>2</th>\n",
       "      <td>39.90</td>\n",
       "      <td>2-1-096</td>\n",
       "      <td>0000000002288</td>\n",
       "    </tr>\n",
       "    <tr>\n",
       "      <th>3</th>\n",
       "      <td>499.99</td>\n",
       "      <td>9-1-686</td>\n",
       "      <td>0000000205870</td>\n",
       "    </tr>\n",
       "    <tr>\n",
       "      <th>4</th>\n",
       "      <td>519.99</td>\n",
       "      <td>9-2-248</td>\n",
       "      <td>0000000205870</td>\n",
       "    </tr>\n",
       "  </tbody>\n",
       "</table>\n",
       "</div>"
      ],
      "text/plain": [
       "   precio sucursal_id    producto_id\n",
       "0   29.90     2-1-014  0000000001663\n",
       "1   29.90     2-1-032  0000000002288\n",
       "2   39.90     2-1-096  0000000002288\n",
       "3  499.99     9-1-686  0000000205870\n",
       "4  519.99     9-2-248  0000000205870"
      ]
     },
     "execution_count": 5,
     "metadata": {},
     "output_type": "execute_result"
    }
   ],
   "source": [
    "precios_semana_20200413.head(5)"
   ]
  },
  {
   "cell_type": "markdown",
   "metadata": {},
   "source": [
    "I work on the \"producto_id\" column"
   ]
  },
  {
   "cell_type": "code",
   "execution_count": 6,
   "metadata": {},
   "outputs": [
    {
     "data": {
      "text/plain": [
       "15"
      ]
     },
     "execution_count": 6,
     "metadata": {},
     "output_type": "execute_result"
    }
   ],
   "source": [
    "precios_semana_20200413.producto_id.isna().sum() # There are missing values"
   ]
  },
  {
   "cell_type": "code",
   "execution_count": 7,
   "metadata": {},
   "outputs": [],
   "source": [
    "precios_semana_sin_productoid = precios_semana_20200413[precios_semana_20200413.producto_id.isna()].index \n",
    "# I create the index of entries with \"producto_id\" missing values"
   ]
  },
  {
   "cell_type": "code",
   "execution_count": 8,
   "metadata": {},
   "outputs": [],
   "source": [
    "precios_semana_20200413.drop(precios_semana_sin_productoid, inplace=True) # I use the index to drop some entries"
   ]
  },
  {
   "cell_type": "code",
   "execution_count": 9,
   "metadata": {},
   "outputs": [],
   "source": [
    "precios_semana_20200413.producto_id = precios_semana_20200413.producto_id.str.replace('-', '') \n",
    "# I erase the middle dash"
   ]
  },
  {
   "cell_type": "code",
   "execution_count": 10,
   "metadata": {},
   "outputs": [],
   "source": [
    "precios_semana_20200413.producto_id = precios_semana_20200413.producto_id.astype(np.int64) \n",
    "# I convert the \"producto_id\" to integer"
   ]
  },
  {
   "cell_type": "code",
   "execution_count": 11,
   "metadata": {},
   "outputs": [
    {
     "data": {
      "text/html": [
       "<div>\n",
       "<style scoped>\n",
       "    .dataframe tbody tr th:only-of-type {\n",
       "        vertical-align: middle;\n",
       "    }\n",
       "\n",
       "    .dataframe tbody tr th {\n",
       "        vertical-align: top;\n",
       "    }\n",
       "\n",
       "    .dataframe thead th {\n",
       "        text-align: right;\n",
       "    }\n",
       "</style>\n",
       "<table border=\"1\" class=\"dataframe\">\n",
       "  <thead>\n",
       "    <tr style=\"text-align: right;\">\n",
       "      <th></th>\n",
       "      <th>precio</th>\n",
       "      <th>sucursal_id</th>\n",
       "      <th>producto_id</th>\n",
       "    </tr>\n",
       "  </thead>\n",
       "  <tbody>\n",
       "    <tr>\n",
       "      <th>0</th>\n",
       "      <td>29.90</td>\n",
       "      <td>2-1-014</td>\n",
       "      <td>1663</td>\n",
       "    </tr>\n",
       "    <tr>\n",
       "      <th>1</th>\n",
       "      <td>29.90</td>\n",
       "      <td>2-1-032</td>\n",
       "      <td>2288</td>\n",
       "    </tr>\n",
       "    <tr>\n",
       "      <th>2</th>\n",
       "      <td>39.90</td>\n",
       "      <td>2-1-096</td>\n",
       "      <td>2288</td>\n",
       "    </tr>\n",
       "    <tr>\n",
       "      <th>3</th>\n",
       "      <td>499.99</td>\n",
       "      <td>9-1-686</td>\n",
       "      <td>205870</td>\n",
       "    </tr>\n",
       "    <tr>\n",
       "      <th>4</th>\n",
       "      <td>519.99</td>\n",
       "      <td>9-2-248</td>\n",
       "      <td>205870</td>\n",
       "    </tr>\n",
       "  </tbody>\n",
       "</table>\n",
       "</div>"
      ],
      "text/plain": [
       "   precio sucursal_id  producto_id\n",
       "0   29.90     2-1-014         1663\n",
       "1   29.90     2-1-032         2288\n",
       "2   39.90     2-1-096         2288\n",
       "3  499.99     9-1-686       205870\n",
       "4  519.99     9-2-248       205870"
      ]
     },
     "execution_count": 11,
     "metadata": {},
     "output_type": "execute_result"
    }
   ],
   "source": [
    "precios_semana_20200413.head(5)"
   ]
  },
  {
   "cell_type": "markdown",
   "metadata": {},
   "source": [
    "I work on the \"sucursal_id\" column"
   ]
  },
  {
   "cell_type": "code",
   "execution_count": 89,
   "metadata": {},
   "outputs": [
    {
     "data": {
      "text/plain": [
       "0"
      ]
     },
     "execution_count": 89,
     "metadata": {},
     "output_type": "execute_result"
    }
   ],
   "source": [
    "precios_semana_20200413.sucursal_id.isna().sum() # There are no missing values"
   ]
  },
  {
   "cell_type": "code",
   "execution_count": 28,
   "metadata": {},
   "outputs": [
    {
     "name": "stdout",
     "output_type": "stream",
     "text": [
      "precio         472151\n",
      "sucursal_id    472151\n",
      "producto_id    472151\n",
      "dtype: int64\n",
      "precio         8435\n",
      "sucursal_id    8539\n",
      "producto_id    8539\n",
      "dtype: int64\n"
     ]
    }
   ],
   "source": [
    "print(precios_semana_20200413.count())\n",
    "print(precios_semana_20200419.count())"
   ]
  },
  {
   "cell_type": "code",
   "execution_count": 32,
   "metadata": {},
   "outputs": [],
   "source": [
    "precios = pd.concat([precios_semana_20200413, precios_semana_20200419])"
   ]
  },
  {
   "cell_type": "code",
   "execution_count": 34,
   "metadata": {},
   "outputs": [
    {
     "data": {
      "text/html": [
       "<div>\n",
       "<style scoped>\n",
       "    .dataframe tbody tr th:only-of-type {\n",
       "        vertical-align: middle;\n",
       "    }\n",
       "\n",
       "    .dataframe tbody tr th {\n",
       "        vertical-align: top;\n",
       "    }\n",
       "\n",
       "    .dataframe thead th {\n",
       "        text-align: right;\n",
       "    }\n",
       "</style>\n",
       "<table border=\"1\" class=\"dataframe\">\n",
       "  <thead>\n",
       "    <tr style=\"text-align: right;\">\n",
       "      <th></th>\n",
       "      <th>precio</th>\n",
       "      <th>sucursal_id</th>\n",
       "      <th>producto_id</th>\n",
       "    </tr>\n",
       "  </thead>\n",
       "  <tbody>\n",
       "    <tr>\n",
       "      <th>0</th>\n",
       "      <td>29.90</td>\n",
       "      <td>2-1-014</td>\n",
       "      <td>1663</td>\n",
       "    </tr>\n",
       "    <tr>\n",
       "      <th>1</th>\n",
       "      <td>29.90</td>\n",
       "      <td>2-1-032</td>\n",
       "      <td>2288</td>\n",
       "    </tr>\n",
       "    <tr>\n",
       "      <th>2</th>\n",
       "      <td>39.90</td>\n",
       "      <td>2-1-096</td>\n",
       "      <td>2288</td>\n",
       "    </tr>\n",
       "    <tr>\n",
       "      <th>3</th>\n",
       "      <td>499.99</td>\n",
       "      <td>9-1-686</td>\n",
       "      <td>205870</td>\n",
       "    </tr>\n",
       "    <tr>\n",
       "      <th>4</th>\n",
       "      <td>519.99</td>\n",
       "      <td>9-2-248</td>\n",
       "      <td>205870</td>\n",
       "    </tr>\n",
       "    <tr>\n",
       "      <th>...</th>\n",
       "      <td>...</td>\n",
       "      <td>...</td>\n",
       "      <td>...</td>\n",
       "    </tr>\n",
       "    <tr>\n",
       "      <th>457709</th>\n",
       "      <td>89.00</td>\n",
       "      <td>9-2-583</td>\n",
       "      <td>920000000992794</td>\n",
       "    </tr>\n",
       "    <tr>\n",
       "      <th>457710</th>\n",
       "      <td>129.00</td>\n",
       "      <td>9-2-953</td>\n",
       "      <td>920000000992794</td>\n",
       "    </tr>\n",
       "    <tr>\n",
       "      <th>457712</th>\n",
       "      <td>145.00</td>\n",
       "      <td>9-2-953</td>\n",
       "      <td>920000000992855</td>\n",
       "    </tr>\n",
       "    <tr>\n",
       "      <th>457715</th>\n",
       "      <td>509.00</td>\n",
       "      <td>9-2-107</td>\n",
       "      <td>920000000995696</td>\n",
       "    </tr>\n",
       "    <tr>\n",
       "      <th>457722</th>\n",
       "      <td>349.99</td>\n",
       "      <td>9-2-107</td>\n",
       "      <td>920000000999137</td>\n",
       "    </tr>\n",
       "  </tbody>\n",
       "</table>\n",
       "<p>477160 rows × 3 columns</p>\n",
       "</div>"
      ],
      "text/plain": [
       "        precio sucursal_id      producto_id\n",
       "0        29.90     2-1-014             1663\n",
       "1        29.90     2-1-032             2288\n",
       "2        39.90     2-1-096             2288\n",
       "3       499.99     9-1-686           205870\n",
       "4       519.99     9-2-248           205870\n",
       "...        ...         ...              ...\n",
       "457709   89.00     9-2-583  920000000992794\n",
       "457710  129.00     9-2-953  920000000992794\n",
       "457712  145.00     9-2-953  920000000992855\n",
       "457715  509.00     9-2-107  920000000995696\n",
       "457722  349.99     9-2-107  920000000999137\n",
       "\n",
       "[477160 rows x 3 columns]"
      ]
     },
     "execution_count": 34,
     "metadata": {},
     "output_type": "execute_result"
    }
   ],
   "source": [
    "precios.drop_duplicates()"
   ]
  },
  {
   "cell_type": "code",
   "execution_count": 31,
   "metadata": {},
   "outputs": [
    {
     "ename": "ValueError",
     "evalue": "Indexes have overlapping values: Int64Index([ 11132,  11133,  11134,  11135,  11141,  11145,  11146,  11149,\n             11150,  11151,\n            ...\n            457715, 457716, 457717, 457718, 457719, 457720, 457721, 457722,\n            457723, 457724],\n           dtype='int64', length=8539)",
     "output_type": "error",
     "traceback": [
      "\u001b[1;31m---------------------------------------------------------------------------\u001b[0m",
      "\u001b[1;31mValueError\u001b[0m                                Traceback (most recent call last)",
      "Cell \u001b[1;32mIn [31], line 1\u001b[0m\n\u001b[1;32m----> 1\u001b[0m pd\u001b[39m.\u001b[39;49mconcat([precios_semana_20200413, precios_semana_20200419], verify_integrity\u001b[39m=\u001b[39;49m\u001b[39mTrue\u001b[39;49;00m)\n",
      "File \u001b[1;32mc:\\Users\\Auli\\AppData\\Local\\Programs\\Python\\Python310\\lib\\site-packages\\pandas\\util\\_decorators.py:317\u001b[0m, in \u001b[0;36mdeprecate_nonkeyword_arguments.<locals>.decorate.<locals>.wrapper\u001b[1;34m(*args, **kwargs)\u001b[0m\n\u001b[0;32m    311\u001b[0m \u001b[39mif\u001b[39;00m \u001b[39mlen\u001b[39m(args) \u001b[39m>\u001b[39m num_allow_args:\n\u001b[0;32m    312\u001b[0m     warnings\u001b[39m.\u001b[39mwarn(\n\u001b[0;32m    313\u001b[0m         msg\u001b[39m.\u001b[39mformat(arguments\u001b[39m=\u001b[39marguments),\n\u001b[0;32m    314\u001b[0m         \u001b[39mFutureWarning\u001b[39;00m,\n\u001b[0;32m    315\u001b[0m         stacklevel\u001b[39m=\u001b[39mfind_stack_level(inspect\u001b[39m.\u001b[39mcurrentframe()),\n\u001b[0;32m    316\u001b[0m     )\n\u001b[1;32m--> 317\u001b[0m \u001b[39mreturn\u001b[39;00m func(\u001b[39m*\u001b[39margs, \u001b[39m*\u001b[39m\u001b[39m*\u001b[39mkwargs)\n",
      "File \u001b[1;32mc:\\Users\\Auli\\AppData\\Local\\Programs\\Python\\Python310\\lib\\site-packages\\pandas\\core\\reshape\\concat.py:369\u001b[0m, in \u001b[0;36mconcat\u001b[1;34m(objs, axis, join, ignore_index, keys, levels, names, verify_integrity, sort, copy)\u001b[0m\n\u001b[0;32m    147\u001b[0m \u001b[39m@deprecate_nonkeyword_arguments\u001b[39m(version\u001b[39m=\u001b[39m\u001b[39mNone\u001b[39;00m, allowed_args\u001b[39m=\u001b[39m[\u001b[39m\"\u001b[39m\u001b[39mobjs\u001b[39m\u001b[39m\"\u001b[39m])\n\u001b[0;32m    148\u001b[0m \u001b[39mdef\u001b[39;00m \u001b[39mconcat\u001b[39m(\n\u001b[0;32m    149\u001b[0m     objs: Iterable[NDFrame] \u001b[39m|\u001b[39m Mapping[HashableT, NDFrame],\n\u001b[1;32m   (...)\u001b[0m\n\u001b[0;32m    158\u001b[0m     copy: \u001b[39mbool\u001b[39m \u001b[39m=\u001b[39m \u001b[39mTrue\u001b[39;00m,\n\u001b[0;32m    159\u001b[0m ) \u001b[39m-\u001b[39m\u001b[39m>\u001b[39m DataFrame \u001b[39m|\u001b[39m Series:\n\u001b[0;32m    160\u001b[0m     \u001b[39m\"\"\"\u001b[39;00m\n\u001b[0;32m    161\u001b[0m \u001b[39m    Concatenate pandas objects along a particular axis.\u001b[39;00m\n\u001b[0;32m    162\u001b[0m \n\u001b[1;32m   (...)\u001b[0m\n\u001b[0;32m    367\u001b[0m \u001b[39m    1   3   4\u001b[39;00m\n\u001b[0;32m    368\u001b[0m \u001b[39m    \"\"\"\u001b[39;00m\n\u001b[1;32m--> 369\u001b[0m     op \u001b[39m=\u001b[39m _Concatenator(\n\u001b[0;32m    370\u001b[0m         objs,\n\u001b[0;32m    371\u001b[0m         axis\u001b[39m=\u001b[39;49maxis,\n\u001b[0;32m    372\u001b[0m         ignore_index\u001b[39m=\u001b[39;49mignore_index,\n\u001b[0;32m    373\u001b[0m         join\u001b[39m=\u001b[39;49mjoin,\n\u001b[0;32m    374\u001b[0m         keys\u001b[39m=\u001b[39;49mkeys,\n\u001b[0;32m    375\u001b[0m         levels\u001b[39m=\u001b[39;49mlevels,\n\u001b[0;32m    376\u001b[0m         names\u001b[39m=\u001b[39;49mnames,\n\u001b[0;32m    377\u001b[0m         verify_integrity\u001b[39m=\u001b[39;49mverify_integrity,\n\u001b[0;32m    378\u001b[0m         copy\u001b[39m=\u001b[39;49mcopy,\n\u001b[0;32m    379\u001b[0m         sort\u001b[39m=\u001b[39;49msort,\n\u001b[0;32m    380\u001b[0m     )\n\u001b[0;32m    382\u001b[0m     \u001b[39mreturn\u001b[39;00m op\u001b[39m.\u001b[39mget_result()\n",
      "File \u001b[1;32mc:\\Users\\Auli\\AppData\\Local\\Programs\\Python\\Python310\\lib\\site-packages\\pandas\\core\\reshape\\concat.py:564\u001b[0m, in \u001b[0;36m_Concatenator.__init__\u001b[1;34m(self, objs, axis, join, keys, levels, names, ignore_index, verify_integrity, copy, sort)\u001b[0m\n\u001b[0;32m    561\u001b[0m \u001b[39mself\u001b[39m\u001b[39m.\u001b[39mverify_integrity \u001b[39m=\u001b[39m verify_integrity\n\u001b[0;32m    562\u001b[0m \u001b[39mself\u001b[39m\u001b[39m.\u001b[39mcopy \u001b[39m=\u001b[39m copy\n\u001b[1;32m--> 564\u001b[0m \u001b[39mself\u001b[39m\u001b[39m.\u001b[39mnew_axes \u001b[39m=\u001b[39m \u001b[39mself\u001b[39;49m\u001b[39m.\u001b[39;49m_get_new_axes()\n",
      "File \u001b[1;32mc:\\Users\\Auli\\AppData\\Local\\Programs\\Python\\Python310\\lib\\site-packages\\pandas\\core\\reshape\\concat.py:634\u001b[0m, in \u001b[0;36m_Concatenator._get_new_axes\u001b[1;34m(self)\u001b[0m\n\u001b[0;32m    632\u001b[0m \u001b[39mdef\u001b[39;00m \u001b[39m_get_new_axes\u001b[39m(\u001b[39mself\u001b[39m) \u001b[39m-\u001b[39m\u001b[39m>\u001b[39m \u001b[39mlist\u001b[39m[Index]:\n\u001b[0;32m    633\u001b[0m     ndim \u001b[39m=\u001b[39m \u001b[39mself\u001b[39m\u001b[39m.\u001b[39m_get_result_dim()\n\u001b[1;32m--> 634\u001b[0m     \u001b[39mreturn\u001b[39;00m [\n\u001b[0;32m    635\u001b[0m         \u001b[39mself\u001b[39m\u001b[39m.\u001b[39m_get_concat_axis \u001b[39mif\u001b[39;00m i \u001b[39m==\u001b[39m \u001b[39mself\u001b[39m\u001b[39m.\u001b[39mbm_axis \u001b[39melse\u001b[39;00m \u001b[39mself\u001b[39m\u001b[39m.\u001b[39m_get_comb_axis(i)\n\u001b[0;32m    636\u001b[0m         \u001b[39mfor\u001b[39;00m i \u001b[39min\u001b[39;00m \u001b[39mrange\u001b[39m(ndim)\n\u001b[0;32m    637\u001b[0m     ]\n",
      "File \u001b[1;32mc:\\Users\\Auli\\AppData\\Local\\Programs\\Python\\Python310\\lib\\site-packages\\pandas\\core\\reshape\\concat.py:635\u001b[0m, in \u001b[0;36m<listcomp>\u001b[1;34m(.0)\u001b[0m\n\u001b[0;32m    632\u001b[0m \u001b[39mdef\u001b[39;00m \u001b[39m_get_new_axes\u001b[39m(\u001b[39mself\u001b[39m) \u001b[39m-\u001b[39m\u001b[39m>\u001b[39m \u001b[39mlist\u001b[39m[Index]:\n\u001b[0;32m    633\u001b[0m     ndim \u001b[39m=\u001b[39m \u001b[39mself\u001b[39m\u001b[39m.\u001b[39m_get_result_dim()\n\u001b[0;32m    634\u001b[0m     \u001b[39mreturn\u001b[39;00m [\n\u001b[1;32m--> 635\u001b[0m         \u001b[39mself\u001b[39;49m\u001b[39m.\u001b[39;49m_get_concat_axis \u001b[39mif\u001b[39;00m i \u001b[39m==\u001b[39m \u001b[39mself\u001b[39m\u001b[39m.\u001b[39mbm_axis \u001b[39melse\u001b[39;00m \u001b[39mself\u001b[39m\u001b[39m.\u001b[39m_get_comb_axis(i)\n\u001b[0;32m    636\u001b[0m         \u001b[39mfor\u001b[39;00m i \u001b[39min\u001b[39;00m \u001b[39mrange\u001b[39m(ndim)\n\u001b[0;32m    637\u001b[0m     ]\n",
      "File \u001b[1;32mc:\\Users\\Auli\\AppData\\Local\\Programs\\Python\\Python310\\lib\\site-packages\\pandas\\_libs\\properties.pyx:36\u001b[0m, in \u001b[0;36mpandas._libs.properties.CachedProperty.__get__\u001b[1;34m()\u001b[0m\n",
      "File \u001b[1;32mc:\\Users\\Auli\\AppData\\Local\\Programs\\Python\\Python310\\lib\\site-packages\\pandas\\core\\reshape\\concat.py:698\u001b[0m, in \u001b[0;36m_Concatenator._get_concat_axis\u001b[1;34m(self)\u001b[0m\n\u001b[0;32m    693\u001b[0m \u001b[39melse\u001b[39;00m:\n\u001b[0;32m    694\u001b[0m     concat_axis \u001b[39m=\u001b[39m _make_concat_multiindex(\n\u001b[0;32m    695\u001b[0m         indexes, \u001b[39mself\u001b[39m\u001b[39m.\u001b[39mkeys, \u001b[39mself\u001b[39m\u001b[39m.\u001b[39mlevels, \u001b[39mself\u001b[39m\u001b[39m.\u001b[39mnames\n\u001b[0;32m    696\u001b[0m     )\n\u001b[1;32m--> 698\u001b[0m \u001b[39mself\u001b[39;49m\u001b[39m.\u001b[39;49m_maybe_check_integrity(concat_axis)\n\u001b[0;32m    700\u001b[0m \u001b[39mreturn\u001b[39;00m concat_axis\n",
      "File \u001b[1;32mc:\\Users\\Auli\\AppData\\Local\\Programs\\Python\\Python310\\lib\\site-packages\\pandas\\core\\reshape\\concat.py:706\u001b[0m, in \u001b[0;36m_Concatenator._maybe_check_integrity\u001b[1;34m(self, concat_index)\u001b[0m\n\u001b[0;32m    704\u001b[0m \u001b[39mif\u001b[39;00m \u001b[39mnot\u001b[39;00m concat_index\u001b[39m.\u001b[39mis_unique:\n\u001b[0;32m    705\u001b[0m     overlap \u001b[39m=\u001b[39m concat_index[concat_index\u001b[39m.\u001b[39mduplicated()]\u001b[39m.\u001b[39munique()\n\u001b[1;32m--> 706\u001b[0m     \u001b[39mraise\u001b[39;00m \u001b[39mValueError\u001b[39;00m(\u001b[39mf\u001b[39m\u001b[39m\"\u001b[39m\u001b[39mIndexes have overlapping values: \u001b[39m\u001b[39m{\u001b[39;00moverlap\u001b[39m}\u001b[39;00m\u001b[39m\"\u001b[39m)\n",
      "\u001b[1;31mValueError\u001b[0m: Indexes have overlapping values: Int64Index([ 11132,  11133,  11134,  11135,  11141,  11145,  11146,  11149,\n             11150,  11151,\n            ...\n            457715, 457716, 457717, 457718, 457719, 457720, 457721, 457722,\n            457723, 457724],\n           dtype='int64', length=8539)"
     ]
    }
   ],
   "source": [
    "pd.concat([precios_semana_20200413, precios_semana_20200419], verify_integrity=True)"
   ]
  },
  {
   "cell_type": "markdown",
   "metadata": {},
   "source": [
    "## I'm going to concat all weekly sales dataframes and work on them"
   ]
  },
  {
   "cell_type": "code",
   "execution_count": 120,
   "metadata": {},
   "outputs": [],
   "source": [
    "precio = pd.concat([precios_semana_20200413, precios_semana_20200419, precios_semana_20200426, precios_semana_20200503, precios_semana_20200518])"
   ]
  },
  {
   "cell_type": "code",
   "execution_count": 121,
   "metadata": {},
   "outputs": [
    {
     "name": "stdout",
     "output_type": "stream",
     "text": [
      "<class 'pandas.core.frame.DataFrame'>\n",
      "Int64Index: 2222645 entries, 0 to 415292\n",
      "Data columns (total 3 columns):\n",
      " #   Column       Dtype \n",
      "---  ------       ----- \n",
      " 0   precio       object\n",
      " 1   producto_id  object\n",
      " 2   sucursal_id  object\n",
      "dtypes: object(3)\n",
      "memory usage: 67.8+ MB\n"
     ]
    }
   ],
   "source": [
    "precio.info()"
   ]
  },
  {
   "cell_type": "code",
   "execution_count": 92,
   "metadata": {},
   "outputs": [],
   "source": [
    "precio.drop_duplicates(inplace=True)"
   ]
  },
  {
   "cell_type": "code",
   "execution_count": 72,
   "metadata": {},
   "outputs": [
    {
     "data": {
      "text/plain": [
       "Index(['precio', 'producto_id', 'sucursal_id'], dtype='object')"
      ]
     },
     "execution_count": 72,
     "metadata": {},
     "output_type": "execute_result"
    }
   ],
   "source": [
    "precio.columns"
   ]
  },
  {
   "cell_type": "code",
   "execution_count": 122,
   "metadata": {},
   "outputs": [],
   "source": [
    "index = ['precio', 'sucursal_id', 'producto_id']"
   ]
  },
  {
   "cell_type": "code",
   "execution_count": 125,
   "metadata": {},
   "outputs": [
    {
     "data": {
      "text/plain": [
       "True"
      ]
     },
     "execution_count": 125,
     "metadata": {},
     "output_type": "execute_result"
    }
   ],
   "source": [
    "precio.columns.all != index"
   ]
  },
  {
   "cell_type": "code",
   "execution_count": 126,
   "metadata": {},
   "outputs": [],
   "source": [
    "precio = precio[index]"
   ]
  },
  {
   "cell_type": "code",
   "execution_count": 127,
   "metadata": {},
   "outputs": [
    {
     "data": {
      "text/html": [
       "<div>\n",
       "<style scoped>\n",
       "    .dataframe tbody tr th:only-of-type {\n",
       "        vertical-align: middle;\n",
       "    }\n",
       "\n",
       "    .dataframe tbody tr th {\n",
       "        vertical-align: top;\n",
       "    }\n",
       "\n",
       "    .dataframe thead th {\n",
       "        text-align: right;\n",
       "    }\n",
       "</style>\n",
       "<table border=\"1\" class=\"dataframe\">\n",
       "  <thead>\n",
       "    <tr style=\"text-align: right;\">\n",
       "      <th></th>\n",
       "      <th>precio</th>\n",
       "      <th>sucursal_id</th>\n",
       "      <th>producto_id</th>\n",
       "    </tr>\n",
       "  </thead>\n",
       "  <tbody>\n",
       "    <tr>\n",
       "      <th>0</th>\n",
       "      <td>29.9</td>\n",
       "      <td>2-1-014</td>\n",
       "      <td>0000000001663</td>\n",
       "    </tr>\n",
       "    <tr>\n",
       "      <th>1</th>\n",
       "      <td>29.9</td>\n",
       "      <td>2-1-032</td>\n",
       "      <td>0000000002288</td>\n",
       "    </tr>\n",
       "    <tr>\n",
       "      <th>2</th>\n",
       "      <td>39.9</td>\n",
       "      <td>2-1-096</td>\n",
       "      <td>0000000002288</td>\n",
       "    </tr>\n",
       "    <tr>\n",
       "      <th>3</th>\n",
       "      <td>499.99</td>\n",
       "      <td>9-1-686</td>\n",
       "      <td>0000000205870</td>\n",
       "    </tr>\n",
       "    <tr>\n",
       "      <th>4</th>\n",
       "      <td>519.99</td>\n",
       "      <td>9-2-248</td>\n",
       "      <td>0000000205870</td>\n",
       "    </tr>\n",
       "    <tr>\n",
       "      <th>...</th>\n",
       "      <td>...</td>\n",
       "      <td>...</td>\n",
       "      <td>...</td>\n",
       "    </tr>\n",
       "    <tr>\n",
       "      <th>415288</th>\n",
       "      <td>149.99</td>\n",
       "      <td>25-1-1</td>\n",
       "      <td>9569753142128</td>\n",
       "    </tr>\n",
       "    <tr>\n",
       "      <th>415289</th>\n",
       "      <td>34.99</td>\n",
       "      <td>25-1-1</td>\n",
       "      <td>9795403001143</td>\n",
       "    </tr>\n",
       "    <tr>\n",
       "      <th>415290</th>\n",
       "      <td>312.5</td>\n",
       "      <td>5-1-4</td>\n",
       "      <td>9990385651922</td>\n",
       "    </tr>\n",
       "    <tr>\n",
       "      <th>415291</th>\n",
       "      <td>312.5</td>\n",
       "      <td>5-1-4</td>\n",
       "      <td>9990385651939</td>\n",
       "    </tr>\n",
       "    <tr>\n",
       "      <th>415292</th>\n",
       "      <td>198.9</td>\n",
       "      <td>5-1-4</td>\n",
       "      <td>9990385651946</td>\n",
       "    </tr>\n",
       "  </tbody>\n",
       "</table>\n",
       "<p>2222645 rows × 3 columns</p>\n",
       "</div>"
      ],
      "text/plain": [
       "        precio sucursal_id    producto_id\n",
       "0         29.9     2-1-014  0000000001663\n",
       "1         29.9     2-1-032  0000000002288\n",
       "2         39.9     2-1-096  0000000002288\n",
       "3       499.99     9-1-686  0000000205870\n",
       "4       519.99     9-2-248  0000000205870\n",
       "...        ...         ...            ...\n",
       "415288  149.99      25-1-1  9569753142128\n",
       "415289   34.99      25-1-1  9795403001143\n",
       "415290   312.5       5-1-4  9990385651922\n",
       "415291   312.5       5-1-4  9990385651939\n",
       "415292   198.9       5-1-4  9990385651946\n",
       "\n",
       "[2222645 rows x 3 columns]"
      ]
     },
     "execution_count": 127,
     "metadata": {},
     "output_type": "execute_result"
    }
   ],
   "source": [
    "precio"
   ]
  },
  {
   "cell_type": "code",
   "execution_count": 81,
   "metadata": {},
   "outputs": [
    {
     "data": {
      "text/html": [
       "<div>\n",
       "<style scoped>\n",
       "    .dataframe tbody tr th:only-of-type {\n",
       "        vertical-align: middle;\n",
       "    }\n",
       "\n",
       "    .dataframe tbody tr th {\n",
       "        vertical-align: top;\n",
       "    }\n",
       "\n",
       "    .dataframe thead th {\n",
       "        text-align: right;\n",
       "    }\n",
       "</style>\n",
       "<table border=\"1\" class=\"dataframe\">\n",
       "  <thead>\n",
       "    <tr style=\"text-align: right;\">\n",
       "      <th></th>\n",
       "      <th>precio</th>\n",
       "      <th>sucursal_id</th>\n",
       "      <th>producto_id</th>\n",
       "    </tr>\n",
       "  </thead>\n",
       "  <tbody>\n",
       "    <tr>\n",
       "      <th>0</th>\n",
       "      <td>29.9</td>\n",
       "      <td>2-1-014</td>\n",
       "      <td>0000000001663</td>\n",
       "    </tr>\n",
       "    <tr>\n",
       "      <th>1</th>\n",
       "      <td>29.9</td>\n",
       "      <td>2-1-032</td>\n",
       "      <td>0000000002288</td>\n",
       "    </tr>\n",
       "    <tr>\n",
       "      <th>2</th>\n",
       "      <td>39.9</td>\n",
       "      <td>2-1-096</td>\n",
       "      <td>0000000002288</td>\n",
       "    </tr>\n",
       "    <tr>\n",
       "      <th>3</th>\n",
       "      <td>499.99</td>\n",
       "      <td>9-1-686</td>\n",
       "      <td>0000000205870</td>\n",
       "    </tr>\n",
       "    <tr>\n",
       "      <th>4</th>\n",
       "      <td>519.99</td>\n",
       "      <td>9-2-248</td>\n",
       "      <td>0000000205870</td>\n",
       "    </tr>\n",
       "    <tr>\n",
       "      <th>...</th>\n",
       "      <td>...</td>\n",
       "      <td>...</td>\n",
       "      <td>...</td>\n",
       "    </tr>\n",
       "    <tr>\n",
       "      <th>415284</th>\n",
       "      <td>328.0</td>\n",
       "      <td>2-1-009</td>\n",
       "      <td>9312631144451</td>\n",
       "    </tr>\n",
       "    <tr>\n",
       "      <th>415288</th>\n",
       "      <td>149.99</td>\n",
       "      <td>25-1-1</td>\n",
       "      <td>9569753142128</td>\n",
       "    </tr>\n",
       "    <tr>\n",
       "      <th>415290</th>\n",
       "      <td>312.5</td>\n",
       "      <td>5-1-4</td>\n",
       "      <td>9990385651922</td>\n",
       "    </tr>\n",
       "    <tr>\n",
       "      <th>415291</th>\n",
       "      <td>312.5</td>\n",
       "      <td>5-1-4</td>\n",
       "      <td>9990385651939</td>\n",
       "    </tr>\n",
       "    <tr>\n",
       "      <th>415292</th>\n",
       "      <td>198.9</td>\n",
       "      <td>5-1-4</td>\n",
       "      <td>9990385651946</td>\n",
       "    </tr>\n",
       "  </tbody>\n",
       "</table>\n",
       "<p>1906972 rows × 3 columns</p>\n",
       "</div>"
      ],
      "text/plain": [
       "        precio sucursal_id    producto_id\n",
       "0         29.9     2-1-014  0000000001663\n",
       "1         29.9     2-1-032  0000000002288\n",
       "2         39.9     2-1-096  0000000002288\n",
       "3       499.99     9-1-686  0000000205870\n",
       "4       519.99     9-2-248  0000000205870\n",
       "...        ...         ...            ...\n",
       "415284   328.0     2-1-009  9312631144451\n",
       "415288  149.99      25-1-1  9569753142128\n",
       "415290   312.5       5-1-4  9990385651922\n",
       "415291   312.5       5-1-4  9990385651939\n",
       "415292   198.9       5-1-4  9990385651946\n",
       "\n",
       "[1906972 rows x 3 columns]"
      ]
     },
     "execution_count": 81,
     "metadata": {},
     "output_type": "execute_result"
    }
   ],
   "source": [
    "correcion_index(precio)"
   ]
  },
  {
   "cell_type": "code",
   "execution_count": 84,
   "metadata": {},
   "outputs": [],
   "source": [
    "precio = correcion_index(precio)"
   ]
  },
  {
   "cell_type": "code",
   "execution_count": 128,
   "metadata": {},
   "outputs": [
    {
     "data": {
      "text/html": [
       "<div>\n",
       "<style scoped>\n",
       "    .dataframe tbody tr th:only-of-type {\n",
       "        vertical-align: middle;\n",
       "    }\n",
       "\n",
       "    .dataframe tbody tr th {\n",
       "        vertical-align: top;\n",
       "    }\n",
       "\n",
       "    .dataframe thead th {\n",
       "        text-align: right;\n",
       "    }\n",
       "</style>\n",
       "<table border=\"1\" class=\"dataframe\">\n",
       "  <thead>\n",
       "    <tr style=\"text-align: right;\">\n",
       "      <th></th>\n",
       "      <th>precio</th>\n",
       "      <th>sucursal_id</th>\n",
       "      <th>producto_id</th>\n",
       "    </tr>\n",
       "  </thead>\n",
       "  <tbody>\n",
       "    <tr>\n",
       "      <th>0</th>\n",
       "      <td>29.9</td>\n",
       "      <td>2-1-014</td>\n",
       "      <td>0000000001663</td>\n",
       "    </tr>\n",
       "    <tr>\n",
       "      <th>1</th>\n",
       "      <td>29.9</td>\n",
       "      <td>2-1-032</td>\n",
       "      <td>0000000002288</td>\n",
       "    </tr>\n",
       "    <tr>\n",
       "      <th>2</th>\n",
       "      <td>39.9</td>\n",
       "      <td>2-1-096</td>\n",
       "      <td>0000000002288</td>\n",
       "    </tr>\n",
       "    <tr>\n",
       "      <th>3</th>\n",
       "      <td>499.99</td>\n",
       "      <td>9-1-686</td>\n",
       "      <td>0000000205870</td>\n",
       "    </tr>\n",
       "    <tr>\n",
       "      <th>4</th>\n",
       "      <td>519.99</td>\n",
       "      <td>9-2-248</td>\n",
       "      <td>0000000205870</td>\n",
       "    </tr>\n",
       "    <tr>\n",
       "      <th>...</th>\n",
       "      <td>...</td>\n",
       "      <td>...</td>\n",
       "      <td>...</td>\n",
       "    </tr>\n",
       "    <tr>\n",
       "      <th>415288</th>\n",
       "      <td>149.99</td>\n",
       "      <td>25-1-1</td>\n",
       "      <td>9569753142128</td>\n",
       "    </tr>\n",
       "    <tr>\n",
       "      <th>415289</th>\n",
       "      <td>34.99</td>\n",
       "      <td>25-1-1</td>\n",
       "      <td>9795403001143</td>\n",
       "    </tr>\n",
       "    <tr>\n",
       "      <th>415290</th>\n",
       "      <td>312.5</td>\n",
       "      <td>5-1-4</td>\n",
       "      <td>9990385651922</td>\n",
       "    </tr>\n",
       "    <tr>\n",
       "      <th>415291</th>\n",
       "      <td>312.5</td>\n",
       "      <td>5-1-4</td>\n",
       "      <td>9990385651939</td>\n",
       "    </tr>\n",
       "    <tr>\n",
       "      <th>415292</th>\n",
       "      <td>198.9</td>\n",
       "      <td>5-1-4</td>\n",
       "      <td>9990385651946</td>\n",
       "    </tr>\n",
       "  </tbody>\n",
       "</table>\n",
       "<p>2222645 rows × 3 columns</p>\n",
       "</div>"
      ],
      "text/plain": [
       "        precio sucursal_id    producto_id\n",
       "0         29.9     2-1-014  0000000001663\n",
       "1         29.9     2-1-032  0000000002288\n",
       "2         39.9     2-1-096  0000000002288\n",
       "3       499.99     9-1-686  0000000205870\n",
       "4       519.99     9-2-248  0000000205870\n",
       "...        ...         ...            ...\n",
       "415288  149.99      25-1-1  9569753142128\n",
       "415289   34.99      25-1-1  9795403001143\n",
       "415290   312.5       5-1-4  9990385651922\n",
       "415291   312.5       5-1-4  9990385651939\n",
       "415292   198.9       5-1-4  9990385651946\n",
       "\n",
       "[2222645 rows x 3 columns]"
      ]
     },
     "execution_count": 128,
     "metadata": {},
     "output_type": "execute_result"
    }
   ],
   "source": [
    "precio"
   ]
  },
  {
   "cell_type": "code",
   "execution_count": 80,
   "metadata": {},
   "outputs": [],
   "source": [
    "def correcion_index(df):\n",
    "    index = ['precio', 'sucursal_id', 'producto_id']\n",
    "    if df.columns.all != index:\n",
    "        df = df[index]\n",
    "    return df"
   ]
  },
  {
   "cell_type": "code",
   "execution_count": 88,
   "metadata": {},
   "outputs": [],
   "source": [
    "precios_semana_20200426 = correcion_index(precios_semana_20200426)"
   ]
  },
  {
   "cell_type": "code",
   "execution_count": 89,
   "metadata": {},
   "outputs": [
    {
     "data": {
      "text/html": [
       "<div>\n",
       "<style scoped>\n",
       "    .dataframe tbody tr th:only-of-type {\n",
       "        vertical-align: middle;\n",
       "    }\n",
       "\n",
       "    .dataframe tbody tr th {\n",
       "        vertical-align: top;\n",
       "    }\n",
       "\n",
       "    .dataframe thead th {\n",
       "        text-align: right;\n",
       "    }\n",
       "</style>\n",
       "<table border=\"1\" class=\"dataframe\">\n",
       "  <thead>\n",
       "    <tr style=\"text-align: right;\">\n",
       "      <th></th>\n",
       "      <th>precio</th>\n",
       "      <th>sucursal_id</th>\n",
       "      <th>producto_id</th>\n",
       "    </tr>\n",
       "  </thead>\n",
       "  <tbody>\n",
       "    <tr>\n",
       "      <th>0</th>\n",
       "      <td>399.0</td>\n",
       "      <td>2-1-092</td>\n",
       "      <td>2.288000e+03</td>\n",
       "    </tr>\n",
       "    <tr>\n",
       "      <th>1</th>\n",
       "      <td>299.0</td>\n",
       "      <td>2-1-206</td>\n",
       "      <td>2.288000e+03</td>\n",
       "    </tr>\n",
       "    <tr>\n",
       "      <th>2</th>\n",
       "      <td>399.0</td>\n",
       "      <td>2-2-241</td>\n",
       "      <td>2.288000e+03</td>\n",
       "    </tr>\n",
       "    <tr>\n",
       "      <th>3</th>\n",
       "      <td>49999.0</td>\n",
       "      <td>9-1-430</td>\n",
       "      <td>2.058700e+05</td>\n",
       "    </tr>\n",
       "    <tr>\n",
       "      <th>4</th>\n",
       "      <td>53999.0</td>\n",
       "      <td>9-2-4</td>\n",
       "      <td>2.058700e+05</td>\n",
       "    </tr>\n",
       "    <tr>\n",
       "      <th>...</th>\n",
       "      <td>...</td>\n",
       "      <td>...</td>\n",
       "      <td>...</td>\n",
       "    </tr>\n",
       "    <tr>\n",
       "      <th>478904</th>\n",
       "      <td>13999.0</td>\n",
       "      <td>25-1-1</td>\n",
       "      <td>9.569753e+12</td>\n",
       "    </tr>\n",
       "    <tr>\n",
       "      <th>478905</th>\n",
       "      <td>3499.0</td>\n",
       "      <td>25-1-1</td>\n",
       "      <td>9.795403e+12</td>\n",
       "    </tr>\n",
       "    <tr>\n",
       "      <th>478906</th>\n",
       "      <td>3125.0</td>\n",
       "      <td>5-1-3</td>\n",
       "      <td>9.990386e+12</td>\n",
       "    </tr>\n",
       "    <tr>\n",
       "      <th>478907</th>\n",
       "      <td>3125.0</td>\n",
       "      <td>5-1-3</td>\n",
       "      <td>9.990386e+12</td>\n",
       "    </tr>\n",
       "    <tr>\n",
       "      <th>478908</th>\n",
       "      <td>1989.0</td>\n",
       "      <td>5-1-3</td>\n",
       "      <td>9.990386e+12</td>\n",
       "    </tr>\n",
       "  </tbody>\n",
       "</table>\n",
       "<p>478909 rows × 3 columns</p>\n",
       "</div>"
      ],
      "text/plain": [
       "         precio sucursal_id   producto_id\n",
       "0         399.0     2-1-092  2.288000e+03\n",
       "1         299.0     2-1-206  2.288000e+03\n",
       "2         399.0     2-2-241  2.288000e+03\n",
       "3       49999.0     9-1-430  2.058700e+05\n",
       "4       53999.0       9-2-4  2.058700e+05\n",
       "...         ...         ...           ...\n",
       "478904  13999.0      25-1-1  9.569753e+12\n",
       "478905   3499.0      25-1-1  9.795403e+12\n",
       "478906   3125.0       5-1-3  9.990386e+12\n",
       "478907   3125.0       5-1-3  9.990386e+12\n",
       "478908   1989.0       5-1-3  9.990386e+12\n",
       "\n",
       "[478909 rows x 3 columns]"
      ]
     },
     "execution_count": 89,
     "metadata": {},
     "output_type": "execute_result"
    }
   ],
   "source": [
    "precios_semana_20200426"
   ]
  },
  {
   "cell_type": "code",
   "execution_count": 151,
   "metadata": {},
   "outputs": [
    {
     "data": {
      "text/plain": [
       "0"
      ]
     },
     "execution_count": 151,
     "metadata": {},
     "output_type": "execute_result"
    }
   ],
   "source": [
    "precio.sucursal_id.isna().sum() # I check for missing values"
   ]
  },
  {
   "cell_type": "code",
   "execution_count": 131,
   "metadata": {},
   "outputs": [],
   "source": [
    "precio_sin_sucursalid = precio[precio.sucursal_id.isna()].index # I create an index of \"sucursal_id\" missing values"
   ]
  },
  {
   "cell_type": "code",
   "execution_count": 132,
   "metadata": {},
   "outputs": [],
   "source": [
    "precio.drop(precio_sin_sucursalid, inplace=True) \n",
    "# I use the index to drop some entries"
   ]
  },
  {
   "cell_type": "code",
   "execution_count": 146,
   "metadata": {},
   "outputs": [
    {
     "data": {
      "text/plain": [
       "0"
      ]
     },
     "execution_count": 146,
     "metadata": {},
     "output_type": "execute_result"
    }
   ],
   "source": [
    "precio.producto_id.isna().sum() # I check for missing values"
   ]
  },
  {
   "cell_type": "code",
   "execution_count": 134,
   "metadata": {},
   "outputs": [],
   "source": [
    "precio_sin_productoid = precio[precio.producto_id.isna()].index # I create an index of \"producto_id\" missing values"
   ]
  },
  {
   "cell_type": "code",
   "execution_count": 135,
   "metadata": {},
   "outputs": [],
   "source": [
    "precio.drop(precio_sin_productoid, inplace=True)\n",
    "# I use the index to drop some entries"
   ]
  },
  {
   "cell_type": "code",
   "execution_count": 139,
   "metadata": {},
   "outputs": [
    {
     "name": "stdout",
     "output_type": "stream",
     "text": [
      "<class 'pandas.core.frame.DataFrame'>\n",
      "Int64Index: 2165641 entries, 0 to 415292\n",
      "Data columns (total 3 columns):\n",
      " #   Column       Dtype \n",
      "---  ------       ----- \n",
      " 0   precio       object\n",
      " 1   sucursal_id  object\n",
      " 2   producto_id  object\n",
      "dtypes: object(3)\n",
      "memory usage: 66.1+ MB\n"
     ]
    }
   ],
   "source": [
    "precio.info() "
   ]
  },
  {
   "cell_type": "code",
   "execution_count": 142,
   "metadata": {},
   "outputs": [],
   "source": [
    "precio.sucursal_id = precio.sucursal_id.str.replace('-', '')"
   ]
  },
  {
   "cell_type": "code",
   "execution_count": 144,
   "metadata": {},
   "outputs": [
    {
     "data": {
      "text/html": [
       "<div>\n",
       "<style scoped>\n",
       "    .dataframe tbody tr th:only-of-type {\n",
       "        vertical-align: middle;\n",
       "    }\n",
       "\n",
       "    .dataframe tbody tr th {\n",
       "        vertical-align: top;\n",
       "    }\n",
       "\n",
       "    .dataframe thead th {\n",
       "        text-align: right;\n",
       "    }\n",
       "</style>\n",
       "<table border=\"1\" class=\"dataframe\">\n",
       "  <thead>\n",
       "    <tr style=\"text-align: right;\">\n",
       "      <th></th>\n",
       "      <th>precio</th>\n",
       "      <th>sucursal_id</th>\n",
       "      <th>producto_id</th>\n",
       "    </tr>\n",
       "  </thead>\n",
       "  <tbody>\n",
       "    <tr>\n",
       "      <th>0</th>\n",
       "      <td>29.9</td>\n",
       "      <td>21014</td>\n",
       "      <td>0000000001663</td>\n",
       "    </tr>\n",
       "    <tr>\n",
       "      <th>1</th>\n",
       "      <td>29.9</td>\n",
       "      <td>21032</td>\n",
       "      <td>0000000002288</td>\n",
       "    </tr>\n",
       "    <tr>\n",
       "      <th>2</th>\n",
       "      <td>39.9</td>\n",
       "      <td>21096</td>\n",
       "      <td>0000000002288</td>\n",
       "    </tr>\n",
       "    <tr>\n",
       "      <th>3</th>\n",
       "      <td>499.99</td>\n",
       "      <td>91686</td>\n",
       "      <td>0000000205870</td>\n",
       "    </tr>\n",
       "    <tr>\n",
       "      <th>4</th>\n",
       "      <td>519.99</td>\n",
       "      <td>92248</td>\n",
       "      <td>0000000205870</td>\n",
       "    </tr>\n",
       "  </tbody>\n",
       "</table>\n",
       "</div>"
      ],
      "text/plain": [
       "   precio sucursal_id    producto_id\n",
       "0    29.9       21014  0000000001663\n",
       "1    29.9       21032  0000000002288\n",
       "2    39.9       21096  0000000002288\n",
       "3  499.99       91686  0000000205870\n",
       "4  519.99       92248  0000000205870"
      ]
     },
     "execution_count": 144,
     "metadata": {},
     "output_type": "execute_result"
    }
   ],
   "source": [
    "precio.head(5)"
   ]
  },
  {
   "cell_type": "code",
   "execution_count": 150,
   "metadata": {},
   "outputs": [],
   "source": [
    "precio.sucursal_id = precio.sucursal_id.astype(int)"
   ]
  },
  {
   "cell_type": "code",
   "execution_count": 148,
   "metadata": {},
   "outputs": [],
   "source": [
    "precio_sin_sucursalid = precio[precio.sucursal_id.isna()].index # I create an index for \"sucursal_id\" missing values"
   ]
  },
  {
   "cell_type": "code",
   "execution_count": 149,
   "metadata": {},
   "outputs": [],
   "source": [
    "precio.drop(precio_sin_sucursalid, inplace=True)"
   ]
  },
  {
   "cell_type": "markdown",
   "metadata": {},
   "source": [
    "## I export the dataframes as csv"
   ]
  },
  {
   "cell_type": "code",
   "execution_count": 149,
   "metadata": {},
   "outputs": [],
   "source": [
    "precios_semana_20200518.to_csv(r'C:\\Users\\Auli\\Documents\\Henry\\Daft-04\\Proyecto Individual 1\\PI01_DATA_ENGINEERING\\Datasets csv\\precios_semana_20200518.csv')\n",
    "precios_semana_20200503.to_csv(r'C:\\Users\\Auli\\Documents\\Henry\\Daft-04\\Proyecto Individual 1\\PI01_DATA_ENGINEERING\\Datasets csv\\precios_semana_20200503.csv')\n",
    "precios_semana_20200426.to_csv(r'C:\\Users\\Auli\\Documents\\Henry\\Daft-04\\Proyecto Individual 1\\PI01_DATA_ENGINEERING\\Datasets csv\\precios_semana_20200426.csv')\n",
    "precios_semana_20200419.to_csv(r'C:\\Users\\Auli\\Documents\\Henry\\Daft-04\\Proyecto Individual 1\\PI01_DATA_ENGINEERING\\Datasets csv\\precios_semana_20200419.csv')\n",
    "precios_semana_20200413.to_csv(r'C:\\Users\\Auli\\Documents\\Henry\\Daft-04\\Proyecto Individual 1\\PI01_DATA_ENGINEERING\\Datasets csv\\precios_semana_20200413.csv')\n",
    "Producto.to_csv(r'C:\\Users\\Auli\\Documents\\Henry\\Daft-04\\Proyecto Individual 1\\PI01_DATA_ENGINEERING\\Datasets csv\\producto.csv')\n",
    "Sucursal.to_csv(r'C:\\Users\\Auli\\Documents\\Henry\\Daft-04\\Proyecto Individual 1\\PI01_DATA_ENGINEERING\\Datasets csv\\sucursal.csv')"
   ]
  }
 ],
 "metadata": {
  "kernelspec": {
   "display_name": "Python 3.10.5 64-bit",
   "language": "python",
   "name": "python3"
  },
  "language_info": {
   "codemirror_mode": {
    "name": "ipython",
    "version": 3
   },
   "file_extension": ".py",
   "mimetype": "text/x-python",
   "name": "python",
   "nbconvert_exporter": "python",
   "pygments_lexer": "ipython3",
   "version": "3.10.5"
  },
  "orig_nbformat": 4,
  "vscode": {
   "interpreter": {
    "hash": "2efd9f29f17dafd1e01732ce528e1fd45416f34141c32d0e667b2a58f2e9bb04"
   }
  }
 },
 "nbformat": 4,
 "nbformat_minor": 2
}
